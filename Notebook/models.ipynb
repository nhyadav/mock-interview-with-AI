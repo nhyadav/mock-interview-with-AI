{
 "cells": [
  {
   "cell_type": "code",
   "execution_count": null,
   "id": "ad058177",
   "metadata": {},
   "outputs": [],
   "source": []
  },
  {
   "cell_type": "code",
   "execution_count": 1,
   "id": "4aa4a45d",
   "metadata": {},
   "outputs": [],
   "source": [
    "import pickle\n",
    "import joblib\n",
    "import pandas as pd\n",
    "from sklearn.feature_extraction.text import TfidfVectorizer"
   ]
  },
  {
   "cell_type": "code",
   "execution_count": 2,
   "id": "8ecc172a",
   "metadata": {},
   "outputs": [],
   "source": [
    "# with open('token_normlize_data.pkl','rb') as data:\n",
    "#     predata = pickle.load(data)\n",
    "# with open('token_normlize_data.pkl','rb') as data:\n",
    "#     predata = pickle.load(data)\n",
    "data = pd.read_csv(\"E:\\Virtual_room\\project\\AIrecruiter\\data\\processed\\\\processed_resume.csv\")\n",
    "\n"
   ]
  },
  {
   "cell_type": "code",
   "execution_count": 3,
   "id": "32bc99ff",
   "metadata": {},
   "outputs": [
    {
     "data": {
      "text/html": [
       "<div>\n",
       "<style scoped>\n",
       "    .dataframe tbody tr th:only-of-type {\n",
       "        vertical-align: middle;\n",
       "    }\n",
       "\n",
       "    .dataframe tbody tr th {\n",
       "        vertical-align: top;\n",
       "    }\n",
       "\n",
       "    .dataframe thead th {\n",
       "        text-align: right;\n",
       "    }\n",
       "</style>\n",
       "<table border=\"1\" class=\"dataframe\">\n",
       "  <thead>\n",
       "    <tr style=\"text-align: right;\">\n",
       "      <th></th>\n",
       "      <th>Resume_str</th>\n",
       "      <th>Category</th>\n",
       "      <th>cleaned_resume</th>\n",
       "      <th>lemmatize_data</th>\n",
       "      <th>tokenize_data</th>\n",
       "    </tr>\n",
       "  </thead>\n",
       "  <tbody>\n",
       "    <tr>\n",
       "      <th>0</th>\n",
       "      <td>HR ADMINISTRATOR/MARKETING ASSOCIATE\\...</td>\n",
       "      <td>HR</td>\n",
       "      <td>hr administrator marketing associate ...</td>\n",
       "      <td>hr administrator marketing associate hr admini...</td>\n",
       "      <td>['hr', 'administrator', 'marketing', 'associat...</td>\n",
       "    </tr>\n",
       "    <tr>\n",
       "      <th>1</th>\n",
       "      <td>HR SPECIALIST, US HR OPERATIONS      ...</td>\n",
       "      <td>HR</td>\n",
       "      <td>hr specialist  us hr operations      ...</td>\n",
       "      <td>hr specialist u hr operation summary versatile...</td>\n",
       "      <td>['hr', 'specialist', 'u', 'hr', 'operation', '...</td>\n",
       "    </tr>\n",
       "    <tr>\n",
       "      <th>2</th>\n",
       "      <td>HR DIRECTOR       Summary      Over 2...</td>\n",
       "      <td>HR</td>\n",
       "      <td>hr director       summary      over  ...</td>\n",
       "      <td>hr director summary year experience recruiting...</td>\n",
       "      <td>['hr', 'director', 'summary', 'year', 'experie...</td>\n",
       "    </tr>\n",
       "    <tr>\n",
       "      <th>3</th>\n",
       "      <td>HR SPECIALIST       Summary    Dedica...</td>\n",
       "      <td>HR</td>\n",
       "      <td>hr specialist       summary    dedica...</td>\n",
       "      <td>hr specialist summary dedicated driven dynamic...</td>\n",
       "      <td>['hr', 'specialist', 'summary', 'dedicated', '...</td>\n",
       "    </tr>\n",
       "    <tr>\n",
       "      <th>4</th>\n",
       "      <td>HR MANAGER         Skill Highlights  ...</td>\n",
       "      <td>HR</td>\n",
       "      <td>hr manager         skill highlights  ...</td>\n",
       "      <td>hr manager skill highlight hr skill hr departm...</td>\n",
       "      <td>['hr', 'manager', 'skill', 'highlight', 'hr', ...</td>\n",
       "    </tr>\n",
       "    <tr>\n",
       "      <th>...</th>\n",
       "      <td>...</td>\n",
       "      <td>...</td>\n",
       "      <td>...</td>\n",
       "      <td>...</td>\n",
       "      <td>...</td>\n",
       "    </tr>\n",
       "    <tr>\n",
       "      <th>3441</th>\n",
       "      <td>Computer Skills: â¢ Proficient in MS office (...</td>\n",
       "      <td>TESTING</td>\n",
       "      <td>computer skills      proficient in ms office  ...</td>\n",
       "      <td>computer skill proficient m office word basic ...</td>\n",
       "      <td>['computer', 'skill', 'proficient', 'm', 'offi...</td>\n",
       "    </tr>\n",
       "    <tr>\n",
       "      <th>3442</th>\n",
       "      <td>â Willingness to accept the challenges. â ...</td>\n",
       "      <td>TESTING</td>\n",
       "      <td>willingness to accept the challenges      ...</td>\n",
       "      <td>willingness accept challenge positive thinking...</td>\n",
       "      <td>['willingness', 'accept', 'challenge', 'positi...</td>\n",
       "    </tr>\n",
       "    <tr>\n",
       "      <th>3443</th>\n",
       "      <td>PERSONAL SKILLS â¢ Quick learner, â¢ Eagerne...</td>\n",
       "      <td>TESTING</td>\n",
       "      <td>personal skills     quick learner      eagerne...</td>\n",
       "      <td>personal skill quick learner eagerness learn n...</td>\n",
       "      <td>['personal', 'skill', 'quick', 'learner', 'eag...</td>\n",
       "    </tr>\n",
       "    <tr>\n",
       "      <th>3444</th>\n",
       "      <td>COMPUTER SKILLS &amp; SOFTWARE KNOWLEDGE MS-Power ...</td>\n",
       "      <td>TESTING</td>\n",
       "      <td>computer skills   software knowledge ms power ...</td>\n",
       "      <td>computer skill software knowledge m power poin...</td>\n",
       "      <td>['computer', 'skill', 'software', 'knowledge',...</td>\n",
       "    </tr>\n",
       "    <tr>\n",
       "      <th>3445</th>\n",
       "      <td>Skill Set OS Windows XP/7/8/8.1/10 Database MY...</td>\n",
       "      <td>TESTING</td>\n",
       "      <td>skill set os windows xp            database my...</td>\n",
       "      <td>skill set o window xp database mysql sql serve...</td>\n",
       "      <td>['skill', 'set', 'o', 'window', 'xp', 'databas...</td>\n",
       "    </tr>\n",
       "  </tbody>\n",
       "</table>\n",
       "<p>3446 rows × 5 columns</p>\n",
       "</div>"
      ],
      "text/plain": [
       "                                             Resume_str Category  \\\n",
       "0              HR ADMINISTRATOR/MARKETING ASSOCIATE\\...       HR   \n",
       "1              HR SPECIALIST, US HR OPERATIONS      ...       HR   \n",
       "2              HR DIRECTOR       Summary      Over 2...       HR   \n",
       "3              HR SPECIALIST       Summary    Dedica...       HR   \n",
       "4              HR MANAGER         Skill Highlights  ...       HR   \n",
       "...                                                 ...      ...   \n",
       "3441  Computer Skills: â¢ Proficient in MS office (...  TESTING   \n",
       "3442  â Willingness to accept the challenges. â ...  TESTING   \n",
       "3443  PERSONAL SKILLS â¢ Quick learner, â¢ Eagerne...  TESTING   \n",
       "3444  COMPUTER SKILLS & SOFTWARE KNOWLEDGE MS-Power ...  TESTING   \n",
       "3445  Skill Set OS Windows XP/7/8/8.1/10 Database MY...  TESTING   \n",
       "\n",
       "                                         cleaned_resume  \\\n",
       "0              hr administrator marketing associate ...   \n",
       "1              hr specialist  us hr operations      ...   \n",
       "2              hr director       summary      over  ...   \n",
       "3              hr specialist       summary    dedica...   \n",
       "4              hr manager         skill highlights  ...   \n",
       "...                                                 ...   \n",
       "3441  computer skills      proficient in ms office  ...   \n",
       "3442      willingness to accept the challenges      ...   \n",
       "3443  personal skills     quick learner      eagerne...   \n",
       "3444  computer skills   software knowledge ms power ...   \n",
       "3445  skill set os windows xp            database my...   \n",
       "\n",
       "                                         lemmatize_data  \\\n",
       "0     hr administrator marketing associate hr admini...   \n",
       "1     hr specialist u hr operation summary versatile...   \n",
       "2     hr director summary year experience recruiting...   \n",
       "3     hr specialist summary dedicated driven dynamic...   \n",
       "4     hr manager skill highlight hr skill hr departm...   \n",
       "...                                                 ...   \n",
       "3441  computer skill proficient m office word basic ...   \n",
       "3442  willingness accept challenge positive thinking...   \n",
       "3443  personal skill quick learner eagerness learn n...   \n",
       "3444  computer skill software knowledge m power poin...   \n",
       "3445  skill set o window xp database mysql sql serve...   \n",
       "\n",
       "                                          tokenize_data  \n",
       "0     ['hr', 'administrator', 'marketing', 'associat...  \n",
       "1     ['hr', 'specialist', 'u', 'hr', 'operation', '...  \n",
       "2     ['hr', 'director', 'summary', 'year', 'experie...  \n",
       "3     ['hr', 'specialist', 'summary', 'dedicated', '...  \n",
       "4     ['hr', 'manager', 'skill', 'highlight', 'hr', ...  \n",
       "...                                                 ...  \n",
       "3441  ['computer', 'skill', 'proficient', 'm', 'offi...  \n",
       "3442  ['willingness', 'accept', 'challenge', 'positi...  \n",
       "3443  ['personal', 'skill', 'quick', 'learner', 'eag...  \n",
       "3444  ['computer', 'skill', 'software', 'knowledge',...  \n",
       "3445  ['skill', 'set', 'o', 'window', 'xp', 'databas...  \n",
       "\n",
       "[3446 rows x 5 columns]"
      ]
     },
     "execution_count": 3,
     "metadata": {},
     "output_type": "execute_result"
    }
   ],
   "source": [
    "data"
   ]
  },
  {
   "cell_type": "code",
   "execution_count": 4,
   "id": "2d85b514",
   "metadata": {
    "scrolled": true
   },
   "outputs": [
    {
     "data": {
      "text/plain": [
       "Resume_str        0\n",
       "Category          0\n",
       "cleaned_resume    0\n",
       "lemmatize_data    1\n",
       "tokenize_data     0\n",
       "dtype: int64"
      ]
     },
     "execution_count": 4,
     "metadata": {},
     "output_type": "execute_result"
    }
   ],
   "source": [
    "data.isnull().sum()"
   ]
  },
  {
   "cell_type": "code",
   "execution_count": 5,
   "id": "d626f806",
   "metadata": {},
   "outputs": [],
   "source": [
    "data = data.dropna()"
   ]
  },
  {
   "cell_type": "code",
   "execution_count": 6,
   "id": "4e326cb9",
   "metadata": {},
   "outputs": [
    {
     "data": {
      "text/plain": [
       "Resume_str        0\n",
       "Category          0\n",
       "cleaned_resume    0\n",
       "lemmatize_data    0\n",
       "tokenize_data     0\n",
       "dtype: int64"
      ]
     },
     "execution_count": 6,
     "metadata": {},
     "output_type": "execute_result"
    }
   ],
   "source": [
    "data.isnull().sum()"
   ]
  },
  {
   "cell_type": "code",
   "execution_count": 7,
   "id": "dd4f1961",
   "metadata": {},
   "outputs": [],
   "source": [
    "tfidf = TfidfVectorizer(stop_words='english', max_features=2000)"
   ]
  },
  {
   "cell_type": "code",
   "execution_count": 8,
   "id": "758d8f50",
   "metadata": {},
   "outputs": [
    {
     "name": "stderr",
     "output_type": "stream",
     "text": [
      "C:\\Users\\NARAYA~1\\AppData\\Local\\Temp/ipykernel_25268/4063828605.py:3: SettingWithCopyWarning: \n",
      "A value is trying to be set on a copy of a slice from a DataFrame.\n",
      "Try using .loc[row_indexer,col_indexer] = value instead\n",
      "\n",
      "See the caveats in the documentation: https://pandas.pydata.org/pandas-docs/stable/user_guide/indexing.html#returning-a-view-versus-a-copy\n",
      "  data['Category_lbl'] = lblencoder.fit_transform(data['Category'])\n"
     ]
    }
   ],
   "source": [
    "from sklearn.preprocessing import LabelEncoder\n",
    "lblencoder = LabelEncoder()\n",
    "data['Category_lbl'] = lblencoder.fit_transform(data['Category'])\n",
    "# target = pd.get_dummies(data['Category'])"
   ]
  },
  {
   "cell_type": "code",
   "execution_count": 9,
   "id": "d4a1b221",
   "metadata": {},
   "outputs": [],
   "source": [
    "datao = data[['Category','Category_lbl']].drop_duplicates(keep='first').sort_values('Category_lbl')"
   ]
  },
  {
   "cell_type": "code",
   "execution_count": 10,
   "id": "f3930e36",
   "metadata": {},
   "outputs": [],
   "source": [
    "target_dict = {key:value for key, value in zip(data['Category_lbl'], data['Category'])}"
   ]
  },
  {
   "cell_type": "code",
   "execution_count": 11,
   "id": "3708eeba",
   "metadata": {},
   "outputs": [
    {
     "data": {
      "text/plain": [
       "{31: 'HR',\n",
       " 19: 'DESIGNER',\n",
       " 32: 'INFORMATION_TECHNOLOGY',\n",
       " 42: 'TEACHER',\n",
       " 1: 'ADVOCATE',\n",
       " 12: 'BUSINESS_DEVELOPMENT',\n",
       " 30: 'HEALTHCARE',\n",
       " 27: 'FITNESS',\n",
       " 2: 'AGRICULTURE',\n",
       " 10: 'BPO',\n",
       " 40: 'SALES',\n",
       " 16: 'CONSULTANT',\n",
       " 21: 'DIGITAL_MEDIA',\n",
       " 6: 'AUTOMOBILE',\n",
       " 13: 'CHEF',\n",
       " 26: 'FINANCE',\n",
       " 3: 'APPAREL',\n",
       " 24: 'ENGINEERING',\n",
       " 0: 'ACCOUNTANT',\n",
       " 15: 'CONSTRUCTION',\n",
       " 38: 'PUBLIC_RELATIONS',\n",
       " 8: 'BANKING',\n",
       " 4: 'ARTS',\n",
       " 7: 'AVIATION',\n",
       " 17: 'DATA SCIENCE',\n",
       " 44: 'WEB DESIGNING',\n",
       " 34: 'MECHANICAL ENGINEER',\n",
       " 29: 'HEALTH AND FITNESS',\n",
       " 14: 'CIVIL ENGINEER',\n",
       " 33: 'JAVA DEVELOPER',\n",
       " 11: 'BUSINESS ANALYST',\n",
       " 41: 'SAP DEVELOPER',\n",
       " 5: 'AUTOMATION TESTING',\n",
       " 23: 'ELECTRICAL ENGINEERING',\n",
       " 36: 'OPERATIONS MANAGER',\n",
       " 39: 'PYTHON DEVELOPER',\n",
       " 20: 'DEVOPS ENGINEER',\n",
       " 35: 'NETWORK SECURITY ENGINEER',\n",
       " 37: 'PMO',\n",
       " 18: 'DATABASE',\n",
       " 28: 'HADOOP',\n",
       " 25: 'ETL DEVELOPER',\n",
       " 22: 'DOTNET DEVELOPER',\n",
       " 9: 'BLOCKCHAIN',\n",
       " 43: 'TESTING'}"
      ]
     },
     "execution_count": 11,
     "metadata": {},
     "output_type": "execute_result"
    }
   ],
   "source": [
    "target_dict"
   ]
  },
  {
   "cell_type": "code",
   "execution_count": 12,
   "id": "6ac5f48b",
   "metadata": {},
   "outputs": [],
   "source": [
    "\n",
    "\n",
    "features = data['lemmatize_data'].values\n",
    "target = data['Category_lbl'].values"
   ]
  },
  {
   "cell_type": "code",
   "execution_count": 13,
   "id": "52f82065",
   "metadata": {},
   "outputs": [
    {
     "data": {
      "text/plain": [
       "array([31, 31, 31, ..., 43, 43, 43])"
      ]
     },
     "execution_count": 13,
     "metadata": {},
     "output_type": "execute_result"
    }
   ],
   "source": [
    "target"
   ]
  },
  {
   "cell_type": "code",
   "execution_count": 14,
   "id": "6da65e2a",
   "metadata": {},
   "outputs": [],
   "source": [
    "\n",
    "from sklearn.model_selection import train_test_split\n",
    "X_train,X_test,y_train,y_test = train_test_split(features,target,test_size=0.2,random_state=42, shuffle=True, stratify=target)"
   ]
  },
  {
   "cell_type": "code",
   "execution_count": 15,
   "id": "9eeadfc5",
   "metadata": {},
   "outputs": [
    {
     "data": {
      "text/plain": [
       "array(['child center asst dept head summary obtain position personable executive assistant capably maintains open line communication among senior executive board member shareholder middle management administrative staff highlight result oriented time management dedicated team player proper phone etiquette meeting planning schedule management strong problem solver professional mature accomplishment increased office organization developing efficient filing system customer database protocol coordinated department function team employee experience child center asst dept head current company name city state kid activity assistant department head assist managing operational financial budgetary responsibility kid activity programming child center area market promote sell kid activity program throughout club community increase participation different child program plan program curriculum prepares program schedule register participant articulate extensive knowledge life time fitness program product service policy procedure provide outstanding customer service developing positive relationship member everyday early childhood assistant teacher company name city state assist planning implementing daily program direction lead teacher included lesson plan using naeyc developmentally appropriate practice assist planning preparing learning environment setting interest center preparing needed material supply supervise classroom lead teacher room worked closely site director family care worker classroom teaching team specialist child center department head company name city state supervise promote activity designed enhance healthy emotional social intellectual physical development child enrolled center help maintain neat organized classroom oversees daily operation managing team employee drafted meeting agenda supplied advance material executed follow meeting team conference responsibility including administrative recruiting personnel issue policy procedure payroll implement curriculum plan maintain ongoing communication parent regarding child activity behavior development responded parent concern arise maintain record report child come child center child center assistant department head company name city state assist department head overall direction coordination management child center assist ensuring continuous professional growth development child center staff assist recruiting interviewing employee paperwork child center engage child interactive educational activity include story telling organized art craft singing game member activity assistant department head fitness instructor company name city state received screened high volume internal external communication including email mail exhibit outstanding customer service developing positive relationship member child articulate extensive knowledge life time fitness program product service policy procedure assist training team member shadowing instructor orientation direction feedback assist planning program activity curriculum prepare program schedule register participant also taught teen child fitness boot camp make hiring promotion disciplinary termination recommendation department head early childhood associate teacher school age lead teacher company name city state assist planning implementing daily program direction lead teacher included lesson plan using naeyc developmentally appropriate practic e assist planning preparing learning environment setting interest center preparing needed material supply supervise classroom lead teacher room long period time absent help lead teacher company name city state supervise promote activity designed enhance healthy emotional social intellectual physical development child enrolled center help maintain neat organized classroom help child establish good habit personal hygiene change diaper assist toilet training education bachelor science criminal justice kaplan university city criminal justice associate art early chilhood june oakton community college city state associate art teaching early childhood high school diploma june evanston township h city state skill administrative art articulate customer service direction financial hiring managing marketing ordering material neat payroll personnel policy programming promotion recruiting',\n",
       "       'sr merchandising audience lead microsoft u online store summary sr e commerce merchandiser specializing audience program development targeted marketing campaign extensive knowledge omni channel retail buying planning product development marketing highlight business analysis online branding purchase funnel optimization retail marketing retail system retail buying competitive analysis program development experience sr merchandising audience lead microsoft u online store oct current company name city state sr merchandiser audience marketing lead microsoftstore com representing combined annual revenue grew edu audience revenue yoy within first year launching evergreen offer across multiple category spearheaded business development opportunity partnering microsoft product management group create execute meaningful targeted campaign resulting increased brand awareness customer acquisition sale revenue drove site optimization b multivariate testing across site purchase funnel increasing conversion revenue improving customer experience end end product management documenting business requirement presenting stake holder engineering ux team creative review qa production deployment live site category lead email marketing campaign content targeting seo sem internal search term optimization merchandiser woman direct apparel apr jul company name city state merchandising category management woman separate apparel direct catalog e commerce division drove promotional strategy print catalog email campaign online achieve exceed sale margin target partnered design team develop compelling brand right assortment managed sourcing production process negotiated costing directed creative content imagery multiple creative team develop consistent branded experience across catalog online utilized web analytics customer service feedback inform change increase conversion revenue channel successfully managed multiple category combined revenue k skus annually consistently met exceeded margin sale goal despite difficult retail environment developed executed business strategy supported detailed competitive trend analysis strong creative brand identity created launched new online denim category eddiebauer com new multi shot photography feature enhanced user experience customer centric product detail page content recommended product suggestion resulting yoy category comp assistant buyer buyer aug apr company name city state launched endless com website amazon com first separate e commerce brand exclusively offered boutique shopping experience footwear handbag built retail apparel store ground included implementing qa policy detail page imaging standard developing receiving shipping material warranty policy tool accommodate need new category developed strong relationship vendor including account management payment term cost return damage allowance free shipping inventory management co op responsible competitive product pricing analysis improving pricing tool facilitate competitive monitoring well determine markdown schedule liquidation overstock initiated managed website improvement facilitate navigation merchandising maximize traffic revenue conversion forecasted assortment selection sale plan including unit sale revenue margin profit across sub category experience multiple category management intimate apparel sleepwear men sportswear woman sportswear infant swimwear outerwear handbag woman footwear teamed fulfillment center create execute receiving shipping process inventory within new category grew apparel business within first year assistant buyer jan jan company name city state experience buying managing inventory negotiating vendor managed process maximize sale margin objective development implementation markdown strategy inventory flow reaction sale trend managed sale volume gross margin turnover control mark ups markdown allowance sale promotion vendor return shrinkage executed division marketing plan worked closely advertising create meaningful succinct message print radio group sale manager jan jan company name city state managed woman shoe watch jewelry department downtown flagship bon marche store successfully managed motivated sale associate store manager jan jan company name city state managed staff leading international retail shoe store responsible sale inventory staffing visual store maintenance consistently exceeded store sale goal company expectation opened first retail store state including recruiting visual set trained six manager twenty five employee education ba liberal study society ethic human behavior university washington city state gpa dean list winter quarter dean list winter quarter skill year retail management buying marketing merchandising successful fostering productive cross group collaboration passionate creating customer centric shopping experience',\n",
       "       'line attendant summary result oriented supervisor diverse background management customer service dedicated providing excellent customer service making operational procedural improvement highlight certification skill team player excellent multi tasker strong communication skill cash handling accuracy microsoft word experience talent obtaining charting vital sign leadership skill cpr first aid certification osha certificate microsoft excel experience store opening closing procedure outstanding communication skill outstanding communication skill training development accomplishment competitive analysis performed competitive analysis make recommendation future company growth competitive analysis performed competitive analysis make recommendation future company growth experience line attendant nov sep company name city state directed supervised employee engage sale inventory taking reconciling cash receipt performing service customer offered exceptional customer service differentiate promote company brand assigned employee specific duty scheduled break assuring go time accordingly monitored sale activity ensure customer receive satisfactory service quality good recommend selected helped locate obtain merchandise based customer need desire called store within area find desired item helped customer try fit merchandise greeted customer ascertain customer want need responded written telephone request particular item customer maintained knowledge current sale promotion policy regarding payment exchange security practice answered directed phone call assigned employee unloaded picked staged loaded product shipping rotated stock code receiving date transported good rack shelf vehicle replenished floor stock processed shipment ensure product availability customer upheld stock level proper pricing multiple product line supervised material flow storage global order fulfillment transported good rack shelf vehicle worked rapid pace meet tight deadline banded wrapped packaged cleared equipment crew leader apr feb company name city state cooked prepared food customer according corporate guideline used electronic temperature gauge ensure food cooked fda guideline packaged food place food bag delivers food customer ensured quality assurance reference food customer service standard directed storage preparation serving refreshment worker restaurant called verified food order drive restaurant read food order slip received verbal instruction food required patron prepared food according instruction cleaned work area food preparation equipment medical assistant externship aug sep company name city state performed general office duty answering telephone taking dictation completing insurance form making appointment showed patient examination room prepared physician cleaned sterilized instrument disposed contaminated supply interviewed patient obtain medical information measured vital sign weight height recorded patient medical history vital statistic information test result medical record collected blood tissue laboratory specimen logged specimen prepared testing seasonal culinary art caf hostess apr oct company name city state sold served refreshment customer recorded sale using cash register delivered order kitchen picked served food ready brewed coffee tea filled container requested beverage scrubbed polished counter steam table equipment cleaned glass dish fountain equipment seasonal sale associate oct jan company name city state described merchandise explained use operation care merchandise customer recommended selected helped locate obtain merchandise based customer need desire cleaned shelf counter table greeted customer ascertained customer wanted needed ticketed arranged displayed merchandise promote sale computed sale price totaled purchase received processed cash credit payment education diploma medical sanford brown institute city state u sanford brown institute medical assistant diploma trevose pa august september certification medical assistant diploma medical assistant cpr osha certificate skill customer service receptionist retail sale cash sale sale inventory reconciling sale activity sale security security practice telephone medical assistant fulfillment material flow medical assistant diploma fda quality assurance associate cash register cash handling cpr cpr excel excellent multi tasker leadership skill microsoft excel microsoft word multi tasker osha certificate strong communication skill team player word pricing shipping credit promote sale sale associate answering dictation general office general office duty laboratory medical record statistic telephone testing',\n",
       "       ...,\n",
       "       'consultant highlight technology skill visual basic html javascript sql xml python mvc filemaker php advanced excel sitecatalyst core competency problem solving relational database process reengineering customer relation staff management startup transitional environment system integration data migration reporting automation accomplishment received sale achievement award attaining billable hour target customer satisfaction rating experience company name city state consultant current publicly traded adbe digital technology company specializing content creation online analytics annual sale billion support simultaneous client consulting engagement performing product implementation technical problem solving ad hoc client request fortune company home depot disney rei promoted internally non billable position needed retain rebuild relationship dissatisfied client u emea problem resolution distant person participated product integration team product expert sitecatalyst searchcenter acquisition integration received sale achievement award attaining billable hour target customer satisfaction rating designed coded custom tool automating improving client campaign creation management deployment resulting average increase campaign management efficiency per client increased service revenue client home depot disney rei developing tool increase effective advertising spend supported emea client general motor daimler ticketmaster performing product implementation training technical problem solving custom client solution company name city state controller provider medical coding information annual sale million acquired access intelligence oversee financial function including audit monthly financial statement preparation daily cash flow debt equity management vc reporting executive reporting cash revenue forecast budget perform system management new system integration associated data migration manage six person department two direct report shortened finance day month end process day automating month end process decreased g cost annually received first deficiency free audit automating process accounting transaction daily operation developed new proprietary operational system combining crm inventory financial management sale fulfillment call center tracking quickbooks integration cell greg thevarium com professional experience continued company name city state controller provider electronic medical record management data repository solution annual sale million managed financial health organization including audit procedure billing credit card management customer support month end close equity debt management budgeting forecasting daily cash management regularly utilized salesforce com oracle sql vba excel process daily transaction report daily status company metric forecast saas enterprise sale increase customer retention monitoring customer usage trend identify save risk customer hiring firing personnel company cash flow permitted customer point contact conflict resolution enhanced customer relationship management capability implementing salesforce com migrating historical information training employee tool functionality company name city state internal auditor publicly traded anet credit card processor annual sale million acquired visa charged monitoring testing financial system control process coso sox cobit audit compliance regularly utilized html odbc vba xml excel test improve system process increased testing efficiency identifying eliminating test integration systemization automated customer application decreasing sale overhead per year correcting k erroneous commission company name city state accountant broker dealer tenant common security exchange reit stock bond annual sale million calculated weekly commission payment managed ap ar invoicing function regularly utilized sql vba xml excel process daily transaction commission improve system process automated commission calculation time day minute integrating existing system sql improved accuracy customer broker data developing m access based system replace individual spreadsheet company name city state regional manager provider third party hospital billing recovery solution managed hca iasis hospital utah surrounding region responsibility hospital employee profitability billing directed person staff four direct report regularly utilized sql excel process daily patient application note automated manner increased territory size enhanced cardon reputation hca standardizing hospital group data reporting insurance claim third party recovery improved regional profitability eight month increasing use medicaid cobra benefit identified hour research company name city state co founder current national site hair makeup service local salon studio enizio annual sale k secured cash financing manage daily cash flow inventory optimization payroll federal state tax filing education master business administration business administration gore school business city state u master business administration gore school business westminster college salt lake city ut bachelor accounting david eccles school business city state u bachelor accounting david eccles school business university utah salt lake city ut certification cpa skill annual sale cash sale sale inventory filing payroll state tax integration integrator solution increase training advertising award campaign management client content creation deployment excellent multitasker problem resolution problem solving rebuild satisfaction simultaneous technical problem solving million excel audit sql access customer relationship management forecast billing accounting accounting audit budget coding crm data migration financial management fulfillment medical coding operation quickbooks system integration system management credit credit card xml auto insurance benefit claim cobra data reporting hospital billing insurance claim medicaid territory budgeting budgeting forecasting cash management customer support forecasting metric oracle relationship management saas salesforce com software service cobit html odbc processor sarbanes oxley sarbanes oxley sox sox testing accountant ap ar broker dealer invoicing m access payment security cpa customer relation database javascript model view controller model view controller mvc php python system integration visual basic',\n",
       "       'education detail june may b economics chennai tamil nadu sdnbvc hr skill detail company detail company anything solution description hr',\n",
       "       'information technology help desk specialist highlight microsoft window operating system xp window along expert knowledge several application microsoft active directory microsoft work microsoft office microsoft outlook sap crm erp oracle jd edward remedy great plain peoplesoft sharepoint avaya blue pumpkin verint novell vdi platform cognos business process improvement cost benefit analysis forecasting planning advanced excel modeling business system analysis sap business requirement matrix project management superb communication skill advanced problem solving ability critical thinking decisive experience information technology help desk specialist august current company name city state diagnose resolve technical hardware software issue incoming phone call email ensuring detailed documentation activity communication customer regarding issue display ability understand communicate complex technical information clearly concisely demonstrate proficiency product knowledge call handling skill maintain accurate customer record process change display ability work fast paced environment providing efficient productivity simultaneously providing superior quality service research question using available information resource advise user appropriate action log help desk interaction identify escalate situation requiring urgent attention track route problem request document resolution maintain ticketing system route ticket appropriate party quality assurance analyst september january company name city state display working ability organize follow complex detailed technical procedure responsible establishing implementing quality assurance compliance process organization defining documenting measuring analyzing improving process serve process owner document record control corrective preventive action internal auditing kpi tracking display consistent project management team leadership skill display advanced microsoft excel utilization skill create extensive graph chart pivot table v look ups extensive complex formula familiarity train mentor others use quality tool statistical method problem solving decision making extract raw data varied source transform useful summary chart graph report use data identify trend improve performance produce weekly power point presentation upper management team reflecting group productivity daily weekly monthly quarterly breakdown establishes metric measure deployment new project process solution document measurement approach key finding variability result work production development team implement new methodology reporting solution consults information technology business leader development implementation strategic business solution research audit analysis data business process display ability successfully work interact level management business operation analyst metric analyst department administrative support supply chain assistant september january company name city state responsible providing accurate detailed reporting executive management daily monthly quarterly metric reporting well request team organization importing exporting data sap sharepoint manipulating compiling data create weekly power point presentation executive management team measurement include shipment order cycle time aged order inventory forecasting etc display advanced microsoft excel utilization skill create extensive graph chart pivot table v look ups extensive complex formula familiarity implement change create effective metric management tool maintain database sap share point provide training team utilization new tool support department providing standard daily monthly quarterly metric reporting well request team organization work business organization vendor resolve data system issue provide visibility department metric maintaining current information hp internal site produce weekly power point presentation upper management team reflecting group productivity daily weekly monthly quarterly breakdown display ability understand communicate complex technical information clearly concisely assist buyer procurement supply chain duty updating ensuring inventory accurately built loaded stock date database required forecasting projected order assist creating confirming maintaining purchase order invoice responsible assisting ensure daily inventory effort met including adjustment approval reservation transportation distribution monitor resolve shipping logistic issue transporting inventory act administrative support department manager effectively organize coordinate department meeting daily maintain order department supply calendar maintenance department management preparing editing presentation management compiling data report making travel arrangement needed management prospective client vendor customer service professional march august company name city state answer incoming customer telephone call courteous professional manner responds investigates customer inquiry concern order issue received via phone fax email shell source edi timely courteous manner responsible entering order resolving customer issue many different product using sap crm remedy tool research resolve customer complaint ordering issue determines effective method distribution satisfy customer need assign escalate notify appropriate agent manager customer issue ensure fast effective support delivery resolution using remedy maintain relationship sale team customer manufacturing supplier education bba business administration sam houston state university city state usa skill active directory administrative support attention detail auditing avaya business process business solution chart cognos hardware crm client customer service database database decision making delivery documentation editing edi email erp executive management fast fax forecasting graph great plain help desk hp information technology inventory jd edward team leadership meeting mentor microsoft excel microsoft office microsoft outlook power point window microsoft window microsoft work novell operating system oracle peoplesoft presentation problem solving process procurement project management quality quality assurance reporting research sale sap shell shipping strategic supply chain table telephone phone transportation travel arrangement'],\n",
       "      dtype=object)"
      ]
     },
     "execution_count": 15,
     "metadata": {},
     "output_type": "execute_result"
    }
   ],
   "source": [
    "X_train"
   ]
  },
  {
   "cell_type": "code",
   "execution_count": 16,
   "id": "11746425",
   "metadata": {},
   "outputs": [],
   "source": [
    "X_train = tfidf.fit_transform(X_train)\n",
    "X_test = tfidf.transform(X_test)"
   ]
  },
  {
   "cell_type": "code",
   "execution_count": 17,
   "id": "d0402c01",
   "metadata": {},
   "outputs": [
    {
     "data": {
      "text/plain": [
       "(2756, 2000)"
      ]
     },
     "execution_count": 17,
     "metadata": {},
     "output_type": "execute_result"
    }
   ],
   "source": [
    "#import the models\n",
    "X_train.shape"
   ]
  },
  {
   "cell_type": "code",
   "execution_count": 18,
   "id": "64f61f94",
   "metadata": {},
   "outputs": [
    {
     "data": {
      "text/plain": [
       "(689, 2000)"
      ]
     },
     "execution_count": 18,
     "metadata": {},
     "output_type": "execute_result"
    }
   ],
   "source": [
    "X_test.shape"
   ]
  },
  {
   "cell_type": "code",
   "execution_count": 19,
   "id": "f4b8f4d3",
   "metadata": {},
   "outputs": [],
   "source": [
    "from sklearn.neighbors import KNeighborsClassifier\n",
    "from sklearn.svm import SVC\n",
    "from sklearn.ensemble import RandomForestClassifier\n",
    "from sklearn.linear_model import LogisticRegression\n",
    "model1 = KNeighborsClassifier()\n",
    "model2 = SVC()\n",
    "model3 = RandomForestClassifier()\n",
    "model4 = LogisticRegression()\n"
   ]
  },
  {
   "cell_type": "code",
   "execution_count": 20,
   "id": "69006bb1",
   "metadata": {},
   "outputs": [
    {
     "name": "stdout",
     "output_type": "stream",
     "text": [
      "training accuracy of model 1 : 0.7460087082728593\n",
      "testing accuracy of model 1 : 0.6719883889695211\n",
      "training accuracy of model 2 : 0.964078374455733\n",
      "testing accuracy of model 2 : 0.7431059506531205\n",
      "training accuracy of model 3 : 1.0\n",
      "testing accuracy of model 3 : 0.7706821480406386\n",
      "training accuracy of model 4 : 0.8356313497822931\n",
      "testing accuracy of model 4 : 0.7590711175616836\n"
     ]
    }
   ],
   "source": [
    "from sklearn.metrics import accuracy_score, classification_report\n",
    "import warnings\n",
    "warnings.filterwarnings('ignore')\n",
    "for i in range(1,5):\n",
    "    eval(\"model\"+str(i)+\".fit(X_train,y_train)\")\n",
    "    t_pred = eval(\"model\"+str(i)+\".predict(X_train)\")\n",
    "    pred = eval(\"model\"+str(i)+\".predict(X_test)\")\n",
    "    print(\"training accuracy of model\",i,\":\",accuracy_score(y_train,t_pred))\n",
    "    print(\"testing accuracy of model\",i,':',accuracy_score(y_test,pred))\n",
    "    "
   ]
  },
  {
   "cell_type": "code",
   "execution_count": 21,
   "id": "528d54ee",
   "metadata": {},
   "outputs": [],
   "source": [
    "## overfitting model\n",
    "from sklearn.model_selection import train_test_split\n",
    "from sklearn.multiclass import OneVsRestClassifier\n",
    "onevsmodel = OneVsRestClassifier(KNeighborsClassifier())\n",
    "model1 = OneVsRestClassifier(KNeighborsClassifier())\n",
    "model2 = OneVsRestClassifier(SVC())\n",
    "model3 = OneVsRestClassifier(RandomForestClassifier())\n",
    "model4 = OneVsRestClassifier(LogisticRegression())"
   ]
  },
  {
   "cell_type": "code",
   "execution_count": 22,
   "id": "4ce51d8f",
   "metadata": {},
   "outputs": [
    {
     "name": "stdout",
     "output_type": "stream",
     "text": [
      "training accuracy of onevsall model 1 : 0.7336719883889695\n",
      "testing accuracy of onevsall model 1 : 0.6821480406386067\n",
      "training accuracy of onevsall model 2 : 0.9909288824383164\n",
      "testing accuracy of onevsall model 2 : 0.7822931785195936\n",
      "training accuracy of onevsall model 3 : 1.0\n",
      "testing accuracy of onevsall model 3 : 0.7619738751814223\n",
      "training accuracy of onevsall model 4 : 0.8222060957910015\n",
      "testing accuracy of onevsall model 4 : 0.7590711175616836\n"
     ]
    }
   ],
   "source": [
    "for i in range(1,5):\n",
    "    eval(\"model\"+str(i)+\".fit(X_train,y_train)\")\n",
    "    t_pred = eval(\"model\"+str(i)+\".predict(X_train)\")\n",
    "    pred = eval(\"model\"+str(i)+\".predict(X_test)\")\n",
    "    print(\"training accuracy of onevsall model\",i,\":\",accuracy_score(y_train,t_pred))\n",
    "    print(\"testing accuracy of onevsall model\",i,':',accuracy_score(y_test,pred))"
   ]
  },
  {
   "cell_type": "code",
   "execution_count": 23,
   "id": "307b1658",
   "metadata": {},
   "outputs": [],
   "source": [
    "# model1 = OneVsRestClassifier(SVC())"
   ]
  },
  {
   "cell_type": "markdown",
   "id": "085aea50",
   "metadata": {},
   "source": [
    "## Hyperparameter tunning for classifier model\n"
   ]
  },
  {
   "cell_type": "code",
   "execution_count": 24,
   "id": "0418cc50",
   "metadata": {},
   "outputs": [],
   "source": [
    "from sklearn.model_selection import RandomizedSearchCV\n",
    "from sklearn.model_selection import GridSearchCV\n",
    "\n",
    "random_parameter = {\n",
    "    'max_depth':[10,20, 30, 40, 50, 60, 70, 80, 90, 100, None,],\n",
    "    'max_features':['auto','sqrt'],\n",
    "    'min_samples_leaf':[1,2,4],\n",
    "    'min_samples_split':[2,5,10],\n",
    "    'n_estimators':[200,400,500,600,800,1000]\n",
    "}\n"
   ]
  },
  {
   "cell_type": "code",
   "execution_count": 25,
   "id": "fb4ce89f",
   "metadata": {},
   "outputs": [
    {
     "name": "stdout",
     "output_type": "stream",
     "text": [
      "Fitting 5 folds for each of 10 candidates, totalling 50 fits\n"
     ]
    },
    {
     "data": {
      "text/plain": [
       "RandomizedSearchCV(cv=5, estimator=RandomForestClassifier(), n_jobs=4,\n",
       "                   param_distributions={'max_depth': [10, 20, 30, 40, 50, 60,\n",
       "                                                      70, 80, 90, 100, None],\n",
       "                                        'max_features': ['auto', 'sqrt'],\n",
       "                                        'min_samples_leaf': [1, 2, 4],\n",
       "                                        'min_samples_split': [2, 5, 10],\n",
       "                                        'n_estimators': [200, 400, 500, 600,\n",
       "                                                         800, 1000]},\n",
       "                   random_state=41, verbose=1)"
      ]
     },
     "execution_count": 25,
     "metadata": {},
     "output_type": "execute_result"
    }
   ],
   "source": [
    "rf_model = RandomForestClassifier()\n",
    "rf_classifier = RandomizedSearchCV(estimator=rf_model,param_distributions=random_parameter,n_iter=10,\n",
    "                                  cv=5,verbose=1,random_state=41,n_jobs=4)\n",
    "rf_classifier.fit(X_train,y_train)"
   ]
  },
  {
   "cell_type": "code",
   "execution_count": 26,
   "id": "c35fc6ef",
   "metadata": {},
   "outputs": [
    {
     "data": {
      "text/plain": [
       "RandomForestClassifier(max_depth=50, min_samples_split=5, n_estimators=500)"
      ]
     },
     "execution_count": 26,
     "metadata": {},
     "output_type": "execute_result"
    }
   ],
   "source": [
    "rf_classifier.best_estimator_"
   ]
  },
  {
   "cell_type": "code",
   "execution_count": 27,
   "id": "e7ee2ee9",
   "metadata": {},
   "outputs": [],
   "source": [
    "cls = RandomForestClassifier(max_depth=50, min_samples_split=5, n_estimators=500)\n",
    "onevsall = OneVsRestClassifier(cls)"
   ]
  },
  {
   "cell_type": "code",
   "execution_count": 28,
   "id": "fbc7fcf2",
   "metadata": {},
   "outputs": [
    {
     "data": {
      "text/plain": [
       "OneVsRestClassifier(estimator=RandomForestClassifier(max_depth=50,\n",
       "                                                     min_samples_split=5,\n",
       "                                                     n_estimators=500))"
      ]
     },
     "execution_count": 28,
     "metadata": {},
     "output_type": "execute_result"
    }
   ],
   "source": [
    "onevsall.fit(X_train, y_train)"
   ]
  },
  {
   "cell_type": "code",
   "execution_count": 29,
   "id": "da315dff",
   "metadata": {},
   "outputs": [
    {
     "name": "stdout",
     "output_type": "stream",
     "text": [
      "training accuracy of onevsall model: 1.0\n",
      "testing accuracy of onevsall model: 0.7619738751814223\n"
     ]
    }
   ],
   "source": [
    "t_pred  = onevsall.predict(X_train)\n",
    "pred = onevsall.predict(X_test)\n",
    "\n",
    "print(\"training accuracy of onevsall model:\",accuracy_score(y_train,t_pred))\n",
    "print(\"testing accuracy of onevsall model:\",accuracy_score(y_test,pred))"
   ]
  },
  {
   "cell_type": "code",
   "execution_count": 30,
   "id": "b67b3771",
   "metadata": {},
   "outputs": [],
   "source": [
    "# # grid search\n",
    "# param_grid = {'max_depth': [80, 90, 100, 110],\n",
    "#               'max_features': [2, 3],\n",
    "#               'min_samples_leaf': [3, 4, 5],\n",
    "#               'min_samples_split': [8, 10, 12],\n",
    "#               'n_estimators': [100, 200, 300, 1000]\n",
    "# }\n",
    "# gs_classifier = GridSearchCV(estimator=rf_model,\\\n",
    "#                             param_grid=param_grid,\n",
    "#                             cv=5,\n",
    "#                             n_jobs=4,\n",
    "#                             verbose=1)"
   ]
  },
  {
   "cell_type": "code",
   "execution_count": 31,
   "id": "7e504598",
   "metadata": {},
   "outputs": [],
   "source": [
    "# gs_classifier.fit(X_train,y_train)"
   ]
  },
  {
   "cell_type": "code",
   "execution_count": 32,
   "id": "7258f7b7",
   "metadata": {},
   "outputs": [],
   "source": [
    "# R_model = RandomForestClassifier(max_depth=40, max_features='sqrt', min_samples_leaf=2,\n",
    "#                        min_samples_split=5, n_estimators=1000)"
   ]
  },
  {
   "cell_type": "code",
   "execution_count": 33,
   "id": "2bc18562",
   "metadata": {},
   "outputs": [],
   "source": [
    "# R_model.fit(X_train,y_train)\n",
    "# t_pred  =R_model.predict(X_train)\n",
    "# pred = R_model.predict(X_test)\n",
    "\n",
    "# print(\"training accuracy of onevsall model:\",accuracy_score(y_train,t_pred))\n",
    "# print(\"testing accuracy of onevsall model:\",accuracy_score(y_test,pred))"
   ]
  },
  {
   "cell_type": "code",
   "execution_count": 34,
   "id": "2e199d60",
   "metadata": {},
   "outputs": [],
   "source": [
    "# OR_model = OneVsRestClassifier(R_model)\n",
    "# OR_model.fit(X_train,y_train)\n",
    "# ot_pred  =OR_model.predict(X_train)\n",
    "# opred = OR_model.predict(X_test)\n",
    "\n",
    "# print(\"training accuracy of onevsall model:\",accuracy_score(y_train,ot_pred))\n",
    "# print(\"testing accuracy of onevsall model:\",accuracy_score(y_test,opred))"
   ]
  },
  {
   "cell_type": "code",
   "execution_count": 35,
   "id": "20621dc0",
   "metadata": {},
   "outputs": [],
   "source": [
    "# # hyperparameter tunning for  svc\n",
    "param = {\n",
    "    'C':[0.1,1,5,10,50,100],\n",
    "    'gamma':[1,0.1,0.001,0.0001],\n",
    "    'degree':[2,3,4,5,6],\n",
    "    'kernel':['rbf','sigmoid','linear','poly']\n",
    "}\n",
    "model = SVC()"
   ]
  },
  {
   "cell_type": "code",
   "execution_count": 36,
   "id": "8c025c75",
   "metadata": {},
   "outputs": [
    {
     "name": "stdout",
     "output_type": "stream",
     "text": [
      "Fitting 3 folds for each of 10 candidates, totalling 30 fits\n"
     ]
    },
    {
     "data": {
      "text/plain": [
       "RandomizedSearchCV(cv=3, estimator=SVC(), n_jobs=4,\n",
       "                   param_distributions={'C': [0.1, 1, 5, 10, 50, 100],\n",
       "                                        'degree': [2, 3, 4, 5, 6],\n",
       "                                        'gamma': [1, 0.1, 0.001, 0.0001],\n",
       "                                        'kernel': ['rbf', 'sigmoid', 'linear',\n",
       "                                                   'poly']},\n",
       "                   random_state=41, verbose=1)"
      ]
     },
     "execution_count": 36,
     "metadata": {},
     "output_type": "execute_result"
    }
   ],
   "source": [
    "svc_classifier = RandomizedSearchCV(estimator=model,param_distributions=param,n_iter=10,\n",
    "                                  cv=3,verbose=1,random_state=41,n_jobs=4)\n",
    "svc_classifier.fit(X_train,y_train)"
   ]
  },
  {
   "cell_type": "code",
   "execution_count": 37,
   "id": "ef97afc5",
   "metadata": {},
   "outputs": [
    {
     "name": "stdout",
     "output_type": "stream",
     "text": [
      "{'kernel': 'rbf', 'gamma': 0.1, 'degree': 6, 'C': 100}\n"
     ]
    }
   ],
   "source": [
    "print(svc_classifier.best_params_)"
   ]
  },
  {
   "cell_type": "code",
   "execution_count": 38,
   "id": "18d92a04",
   "metadata": {},
   "outputs": [],
   "source": [
    "# svc_classifier.best_estimator_\n",
    "s_model = SVC(C=100, degree=6, gamma=0.1, kernel='rbf')"
   ]
  },
  {
   "cell_type": "code",
   "execution_count": 39,
   "id": "1e9dd6db",
   "metadata": {},
   "outputs": [
    {
     "data": {
      "text/plain": [
       "OneVsRestClassifier(estimator=SVC(C=100, degree=6, gamma=0.1))"
      ]
     },
     "execution_count": 39,
     "metadata": {},
     "output_type": "execute_result"
    }
   ],
   "source": [
    "mmodel = OneVsRestClassifier(s_model)\n",
    "mmodel.fit(X_train, y_train)"
   ]
  },
  {
   "cell_type": "code",
   "execution_count": 40,
   "id": "ea3862b0",
   "metadata": {},
   "outputs": [],
   "source": [
    "ts_pred = mmodel.predict(X_train)\n",
    "s_pred = mmodel.predict(X_test)"
   ]
  },
  {
   "cell_type": "code",
   "execution_count": 41,
   "id": "e57c0bf8",
   "metadata": {},
   "outputs": [
    {
     "name": "stdout",
     "output_type": "stream",
     "text": [
      "training accuracy of onevsall model with svc: 1.0\n",
      "testing accuracy of onevsall model with svc: 0.7619738751814223\n"
     ]
    }
   ],
   "source": [
    "print(\"training accuracy of onevsall model with svc:\",accuracy_score(y_train,t_pred))\n",
    "print(\"testing accuracy of onevsall model with svc:\",accuracy_score(y_test,pred))"
   ]
  },
  {
   "cell_type": "code",
   "execution_count": 42,
   "id": "8ac97bee",
   "metadata": {},
   "outputs": [],
   "source": [
    "dt = tfidf.transform([\"yadav narayan hari  student at university of mumbai  github    hackerrank    linkedin     yashwant nagar  teen dongri near pathak hotel goregaon west mumbai        maharashtra             narayanh     gmail com  experience  skills  ineuron intelligence pvt ltd  bangalore   internship  august        january       during internship with ineuron  they have allotted individual projects to  every one  i have done two projects   news article sorting  and   jobseeker web application       python  django  framework    mysql  database     machine learning   nlp  statistics  deep  learning       gcp  achievements  google facilitator program public pro le    public pro les    aab     a         f    e  fb       platforms    windows       anaconda     jupyter notebook    vs code ide   languages  hindi  english   education  patkar varde college  mumbai  b sc  it   july        july       in b sc it  i have secured a score of          i c  durgaganj bhadohi  uttar pradesh   hsc  july        july       in hsc  i have secured a score of          projects  jobseeker web application   python  django  jobseeker web application provides an easy process to apply for any  jobs or publish any jobs within a single click   github  repo     application link     news article sorting   python  django ml nlp  sort any news article within     or less than   second  this project can sort   ve di erent classes of news  business sports politics technical and  entertainment   github repo     application link \"])\n",
    "res = mmodel.predict(dt)"
   ]
  },
  {
   "cell_type": "code",
   "execution_count": 43,
   "id": "c8bc087e",
   "metadata": {},
   "outputs": [
    {
     "name": "stdout",
     "output_type": "stream",
     "text": [
      "[39]\n"
     ]
    }
   ],
   "source": [
    "print(res)"
   ]
  },
  {
   "cell_type": "code",
   "execution_count": 44,
   "id": "de10aa89",
   "metadata": {},
   "outputs": [
    {
     "data": {
      "text/plain": [
       "array([4])"
      ]
     },
     "execution_count": 44,
     "metadata": {},
     "output_type": "execute_result"
    }
   ],
   "source": [
    "model4.predict(dt)"
   ]
  },
  {
   "cell_type": "code",
   "execution_count": null,
   "id": "c3ff79f2",
   "metadata": {},
   "outputs": [],
   "source": []
  },
  {
   "cell_type": "code",
   "execution_count": null,
   "id": "f5f5b580",
   "metadata": {},
   "outputs": [],
   "source": []
  },
  {
   "cell_type": "code",
   "execution_count": 58,
   "id": "5c7746d9",
   "metadata": {},
   "outputs": [],
   "source": [
    "from xgboost import XGBClassifier\n",
    "xgb = XGBClassifier()\n",
    "from sklearn.multiclass import OneVsRestClassifier\n",
    "onevsmodel = OneVsRestClassifier(xgb)"
   ]
  },
  {
   "cell_type": "code",
   "execution_count": 59,
   "id": "9a472875",
   "metadata": {},
   "outputs": [
    {
     "name": "stdout",
     "output_type": "stream",
     "text": [
      "[19:58:49] WARNING: C:/Users/Administrator/workspace/xgboost-win64_release_1.4.0/src/learner.cc:1095: Starting in XGBoost 1.3.0, the default evaluation metric used with the objective 'binary:logistic' was changed from 'error' to 'logloss'. Explicitly set eval_metric if you'd like to restore the old behavior.\n",
      "[19:58:50] WARNING: C:/Users/Administrator/workspace/xgboost-win64_release_1.4.0/src/learner.cc:1095: Starting in XGBoost 1.3.0, the default evaluation metric used with the objective 'binary:logistic' was changed from 'error' to 'logloss'. Explicitly set eval_metric if you'd like to restore the old behavior.\n",
      "[19:58:51] WARNING: C:/Users/Administrator/workspace/xgboost-win64_release_1.4.0/src/learner.cc:1095: Starting in XGBoost 1.3.0, the default evaluation metric used with the objective 'binary:logistic' was changed from 'error' to 'logloss'. Explicitly set eval_metric if you'd like to restore the old behavior.\n",
      "[19:58:53] WARNING: C:/Users/Administrator/workspace/xgboost-win64_release_1.4.0/src/learner.cc:1095: Starting in XGBoost 1.3.0, the default evaluation metric used with the objective 'binary:logistic' was changed from 'error' to 'logloss'. Explicitly set eval_metric if you'd like to restore the old behavior.\n",
      "[19:58:54] WARNING: C:/Users/Administrator/workspace/xgboost-win64_release_1.4.0/src/learner.cc:1095: Starting in XGBoost 1.3.0, the default evaluation metric used with the objective 'binary:logistic' was changed from 'error' to 'logloss'. Explicitly set eval_metric if you'd like to restore the old behavior.\n",
      "[19:58:56] WARNING: C:/Users/Administrator/workspace/xgboost-win64_release_1.4.0/src/learner.cc:1095: Starting in XGBoost 1.3.0, the default evaluation metric used with the objective 'binary:logistic' was changed from 'error' to 'logloss'. Explicitly set eval_metric if you'd like to restore the old behavior.\n",
      "[19:58:56] WARNING: C:/Users/Administrator/workspace/xgboost-win64_release_1.4.0/src/learner.cc:1095: Starting in XGBoost 1.3.0, the default evaluation metric used with the objective 'binary:logistic' was changed from 'error' to 'logloss'. Explicitly set eval_metric if you'd like to restore the old behavior.\n",
      "[19:58:58] WARNING: C:/Users/Administrator/workspace/xgboost-win64_release_1.4.0/src/learner.cc:1095: Starting in XGBoost 1.3.0, the default evaluation metric used with the objective 'binary:logistic' was changed from 'error' to 'logloss'. Explicitly set eval_metric if you'd like to restore the old behavior.\n",
      "[19:58:59] WARNING: C:/Users/Administrator/workspace/xgboost-win64_release_1.4.0/src/learner.cc:1095: Starting in XGBoost 1.3.0, the default evaluation metric used with the objective 'binary:logistic' was changed from 'error' to 'logloss'. Explicitly set eval_metric if you'd like to restore the old behavior.\n",
      "[19:59:01] WARNING: C:/Users/Administrator/workspace/xgboost-win64_release_1.4.0/src/learner.cc:1095: Starting in XGBoost 1.3.0, the default evaluation metric used with the objective 'binary:logistic' was changed from 'error' to 'logloss'. Explicitly set eval_metric if you'd like to restore the old behavior.\n",
      "[19:59:02] WARNING: C:/Users/Administrator/workspace/xgboost-win64_release_1.4.0/src/learner.cc:1095: Starting in XGBoost 1.3.0, the default evaluation metric used with the objective 'binary:logistic' was changed from 'error' to 'logloss'. Explicitly set eval_metric if you'd like to restore the old behavior.\n",
      "[19:59:04] WARNING: C:/Users/Administrator/workspace/xgboost-win64_release_1.4.0/src/learner.cc:1095: Starting in XGBoost 1.3.0, the default evaluation metric used with the objective 'binary:logistic' was changed from 'error' to 'logloss'. Explicitly set eval_metric if you'd like to restore the old behavior.\n",
      "[19:59:05] WARNING: C:/Users/Administrator/workspace/xgboost-win64_release_1.4.0/src/learner.cc:1095: Starting in XGBoost 1.3.0, the default evaluation metric used with the objective 'binary:logistic' was changed from 'error' to 'logloss'. Explicitly set eval_metric if you'd like to restore the old behavior.\n",
      "[19:59:08] WARNING: C:/Users/Administrator/workspace/xgboost-win64_release_1.4.0/src/learner.cc:1095: Starting in XGBoost 1.3.0, the default evaluation metric used with the objective 'binary:logistic' was changed from 'error' to 'logloss'. Explicitly set eval_metric if you'd like to restore the old behavior.\n",
      "[19:59:10] WARNING: C:/Users/Administrator/workspace/xgboost-win64_release_1.4.0/src/learner.cc:1095: Starting in XGBoost 1.3.0, the default evaluation metric used with the objective 'binary:logistic' was changed from 'error' to 'logloss'. Explicitly set eval_metric if you'd like to restore the old behavior.\n",
      "[19:59:11] WARNING: C:/Users/Administrator/workspace/xgboost-win64_release_1.4.0/src/learner.cc:1095: Starting in XGBoost 1.3.0, the default evaluation metric used with the objective 'binary:logistic' was changed from 'error' to 'logloss'. Explicitly set eval_metric if you'd like to restore the old behavior.\n",
      "[19:59:12] WARNING: C:/Users/Administrator/workspace/xgboost-win64_release_1.4.0/src/learner.cc:1095: Starting in XGBoost 1.3.0, the default evaluation metric used with the objective 'binary:logistic' was changed from 'error' to 'logloss'. Explicitly set eval_metric if you'd like to restore the old behavior.\n",
      "[19:59:14] WARNING: C:/Users/Administrator/workspace/xgboost-win64_release_1.4.0/src/learner.cc:1095: Starting in XGBoost 1.3.0, the default evaluation metric used with the objective 'binary:logistic' was changed from 'error' to 'logloss'. Explicitly set eval_metric if you'd like to restore the old behavior.\n",
      "[19:59:15] WARNING: C:/Users/Administrator/workspace/xgboost-win64_release_1.4.0/src/learner.cc:1095: Starting in XGBoost 1.3.0, the default evaluation metric used with the objective 'binary:logistic' was changed from 'error' to 'logloss'. Explicitly set eval_metric if you'd like to restore the old behavior.\n",
      "[19:59:16] WARNING: C:/Users/Administrator/workspace/xgboost-win64_release_1.4.0/src/learner.cc:1095: Starting in XGBoost 1.3.0, the default evaluation metric used with the objective 'binary:logistic' was changed from 'error' to 'logloss'. Explicitly set eval_metric if you'd like to restore the old behavior.\n",
      "[19:59:17] WARNING: C:/Users/Administrator/workspace/xgboost-win64_release_1.4.0/src/learner.cc:1095: Starting in XGBoost 1.3.0, the default evaluation metric used with the objective 'binary:logistic' was changed from 'error' to 'logloss'. Explicitly set eval_metric if you'd like to restore the old behavior.\n",
      "[19:59:18] WARNING: C:/Users/Administrator/workspace/xgboost-win64_release_1.4.0/src/learner.cc:1095: Starting in XGBoost 1.3.0, the default evaluation metric used with the objective 'binary:logistic' was changed from 'error' to 'logloss'. Explicitly set eval_metric if you'd like to restore the old behavior.\n",
      "[19:59:20] WARNING: C:/Users/Administrator/workspace/xgboost-win64_release_1.4.0/src/learner.cc:1095: Starting in XGBoost 1.3.0, the default evaluation metric used with the objective 'binary:logistic' was changed from 'error' to 'logloss'. Explicitly set eval_metric if you'd like to restore the old behavior.\n",
      "[19:59:21] WARNING: C:/Users/Administrator/workspace/xgboost-win64_release_1.4.0/src/learner.cc:1095: Starting in XGBoost 1.3.0, the default evaluation metric used with the objective 'binary:logistic' was changed from 'error' to 'logloss'. Explicitly set eval_metric if you'd like to restore the old behavior.\n",
      "[19:59:22] WARNING: C:/Users/Administrator/workspace/xgboost-win64_release_1.4.0/src/learner.cc:1095: Starting in XGBoost 1.3.0, the default evaluation metric used with the objective 'binary:logistic' was changed from 'error' to 'logloss'. Explicitly set eval_metric if you'd like to restore the old behavior.\n",
      "[19:59:24] WARNING: C:/Users/Administrator/workspace/xgboost-win64_release_1.4.0/src/learner.cc:1095: Starting in XGBoost 1.3.0, the default evaluation metric used with the objective 'binary:logistic' was changed from 'error' to 'logloss'. Explicitly set eval_metric if you'd like to restore the old behavior.\n",
      "[19:59:25] WARNING: C:/Users/Administrator/workspace/xgboost-win64_release_1.4.0/src/learner.cc:1095: Starting in XGBoost 1.3.0, the default evaluation metric used with the objective 'binary:logistic' was changed from 'error' to 'logloss'. Explicitly set eval_metric if you'd like to restore the old behavior.\n"
     ]
    },
    {
     "name": "stdout",
     "output_type": "stream",
     "text": [
      "[19:59:26] WARNING: C:/Users/Administrator/workspace/xgboost-win64_release_1.4.0/src/learner.cc:1095: Starting in XGBoost 1.3.0, the default evaluation metric used with the objective 'binary:logistic' was changed from 'error' to 'logloss'. Explicitly set eval_metric if you'd like to restore the old behavior.\n",
      "[19:59:28] WARNING: C:/Users/Administrator/workspace/xgboost-win64_release_1.4.0/src/learner.cc:1095: Starting in XGBoost 1.3.0, the default evaluation metric used with the objective 'binary:logistic' was changed from 'error' to 'logloss'. Explicitly set eval_metric if you'd like to restore the old behavior.\n",
      "[19:59:29] WARNING: C:/Users/Administrator/workspace/xgboost-win64_release_1.4.0/src/learner.cc:1095: Starting in XGBoost 1.3.0, the default evaluation metric used with the objective 'binary:logistic' was changed from 'error' to 'logloss'. Explicitly set eval_metric if you'd like to restore the old behavior.\n",
      "[19:59:30] WARNING: C:/Users/Administrator/workspace/xgboost-win64_release_1.4.0/src/learner.cc:1095: Starting in XGBoost 1.3.0, the default evaluation metric used with the objective 'binary:logistic' was changed from 'error' to 'logloss'. Explicitly set eval_metric if you'd like to restore the old behavior.\n",
      "[19:59:31] WARNING: C:/Users/Administrator/workspace/xgboost-win64_release_1.4.0/src/learner.cc:1095: Starting in XGBoost 1.3.0, the default evaluation metric used with the objective 'binary:logistic' was changed from 'error' to 'logloss'. Explicitly set eval_metric if you'd like to restore the old behavior.\n",
      "[19:59:33] WARNING: C:/Users/Administrator/workspace/xgboost-win64_release_1.4.0/src/learner.cc:1095: Starting in XGBoost 1.3.0, the default evaluation metric used with the objective 'binary:logistic' was changed from 'error' to 'logloss'. Explicitly set eval_metric if you'd like to restore the old behavior.\n",
      "[19:59:35] WARNING: C:/Users/Administrator/workspace/xgboost-win64_release_1.4.0/src/learner.cc:1095: Starting in XGBoost 1.3.0, the default evaluation metric used with the objective 'binary:logistic' was changed from 'error' to 'logloss'. Explicitly set eval_metric if you'd like to restore the old behavior.\n",
      "[19:59:35] WARNING: C:/Users/Administrator/workspace/xgboost-win64_release_1.4.0/src/learner.cc:1095: Starting in XGBoost 1.3.0, the default evaluation metric used with the objective 'binary:logistic' was changed from 'error' to 'logloss'. Explicitly set eval_metric if you'd like to restore the old behavior.\n",
      "[19:59:36] WARNING: C:/Users/Administrator/workspace/xgboost-win64_release_1.4.0/src/learner.cc:1095: Starting in XGBoost 1.3.0, the default evaluation metric used with the objective 'binary:logistic' was changed from 'error' to 'logloss'. Explicitly set eval_metric if you'd like to restore the old behavior.\n",
      "[19:59:37] WARNING: C:/Users/Administrator/workspace/xgboost-win64_release_1.4.0/src/learner.cc:1095: Starting in XGBoost 1.3.0, the default evaluation metric used with the objective 'binary:logistic' was changed from 'error' to 'logloss'. Explicitly set eval_metric if you'd like to restore the old behavior.\n",
      "[19:59:38] WARNING: C:/Users/Administrator/workspace/xgboost-win64_release_1.4.0/src/learner.cc:1095: Starting in XGBoost 1.3.0, the default evaluation metric used with the objective 'binary:logistic' was changed from 'error' to 'logloss'. Explicitly set eval_metric if you'd like to restore the old behavior.\n",
      "[19:59:39] WARNING: C:/Users/Administrator/workspace/xgboost-win64_release_1.4.0/src/learner.cc:1095: Starting in XGBoost 1.3.0, the default evaluation metric used with the objective 'binary:logistic' was changed from 'error' to 'logloss'. Explicitly set eval_metric if you'd like to restore the old behavior.\n",
      "[19:59:41] WARNING: C:/Users/Administrator/workspace/xgboost-win64_release_1.4.0/src/learner.cc:1095: Starting in XGBoost 1.3.0, the default evaluation metric used with the objective 'binary:logistic' was changed from 'error' to 'logloss'. Explicitly set eval_metric if you'd like to restore the old behavior.\n",
      "[19:59:42] WARNING: C:/Users/Administrator/workspace/xgboost-win64_release_1.4.0/src/learner.cc:1095: Starting in XGBoost 1.3.0, the default evaluation metric used with the objective 'binary:logistic' was changed from 'error' to 'logloss'. Explicitly set eval_metric if you'd like to restore the old behavior.\n",
      "[19:59:45] WARNING: C:/Users/Administrator/workspace/xgboost-win64_release_1.4.0/src/learner.cc:1095: Starting in XGBoost 1.3.0, the default evaluation metric used with the objective 'binary:logistic' was changed from 'error' to 'logloss'. Explicitly set eval_metric if you'd like to restore the old behavior.\n",
      "[19:59:45] WARNING: C:/Users/Administrator/workspace/xgboost-win64_release_1.4.0/src/learner.cc:1095: Starting in XGBoost 1.3.0, the default evaluation metric used with the objective 'binary:logistic' was changed from 'error' to 'logloss'. Explicitly set eval_metric if you'd like to restore the old behavior.\n",
      "[19:59:47] WARNING: C:/Users/Administrator/workspace/xgboost-win64_release_1.4.0/src/learner.cc:1095: Starting in XGBoost 1.3.0, the default evaluation metric used with the objective 'binary:logistic' was changed from 'error' to 'logloss'. Explicitly set eval_metric if you'd like to restore the old behavior.\n",
      "[19:59:48] WARNING: C:/Users/Administrator/workspace/xgboost-win64_release_1.4.0/src/learner.cc:1095: Starting in XGBoost 1.3.0, the default evaluation metric used with the objective 'binary:logistic' was changed from 'error' to 'logloss'. Explicitly set eval_metric if you'd like to restore the old behavior.\n"
     ]
    },
    {
     "data": {
      "text/plain": [
       "OneVsRestClassifier(estimator=XGBClassifier(base_score=None, booster=None,\n",
       "                                            colsample_bylevel=None,\n",
       "                                            colsample_bynode=None,\n",
       "                                            colsample_bytree=None, gamma=None,\n",
       "                                            gpu_id=None, importance_type='gain',\n",
       "                                            interaction_constraints=None,\n",
       "                                            learning_rate=None,\n",
       "                                            max_delta_step=None, max_depth=None,\n",
       "                                            min_child_weight=None, missing=nan,\n",
       "                                            monotone_constraints=None,\n",
       "                                            n_estimators=100, n_jobs=None,\n",
       "                                            num_parallel_tree=None,\n",
       "                                            random_state=None, reg_alpha=None,\n",
       "                                            reg_lambda=None,\n",
       "                                            scale_pos_weight=None,\n",
       "                                            subsample=None, tree_method=None,\n",
       "                                            validate_parameters=None,\n",
       "                                            verbosity=None))"
      ]
     },
     "execution_count": 59,
     "metadata": {},
     "output_type": "execute_result"
    }
   ],
   "source": [
    "onevsmodel.fit(X_train, y_train)"
   ]
  },
  {
   "cell_type": "code",
   "execution_count": 60,
   "id": "1743f3eb",
   "metadata": {},
   "outputs": [],
   "source": [
    "xgpred = onevsmodel.predict(X_train)\n",
    "xgpred_t = onevsmodel.predict(X_test)"
   ]
  },
  {
   "cell_type": "code",
   "execution_count": 61,
   "id": "ad7e5fbb",
   "metadata": {},
   "outputs": [],
   "source": [
    "from sklearn.metrics import accuracy_score, classification_report\n"
   ]
  },
  {
   "cell_type": "code",
   "execution_count": 62,
   "id": "12646ca5",
   "metadata": {},
   "outputs": [
    {
     "name": "stdout",
     "output_type": "stream",
     "text": [
      "training Accuracy: 1.0\n",
      "training Accuracy: 0.7924528301886793\n"
     ]
    }
   ],
   "source": [
    "print(\"training Accuracy:\",accuracy_score(y_train,xgpred))\n",
    "print(\"training Accuracy:\",accuracy_score(y_test,xgpred_t))"
   ]
  },
  {
   "cell_type": "code",
   "execution_count": 63,
   "id": "b13e911b",
   "metadata": {},
   "outputs": [
    {
     "name": "stdout",
     "output_type": "stream",
     "text": [
      "training Accuracy: 1.0\n",
      "testing Accuracy: 0.7924528301886793\n"
     ]
    }
   ],
   "source": [
    "print(\"training Accuracy:\",accuracy_score(y_train,xgpred))\n",
    "print(\"testing Accuracy:\",accuracy_score(y_test,xgpred_t))"
   ]
  },
  {
   "cell_type": "code",
   "execution_count": 64,
   "id": "c9724cf3",
   "metadata": {},
   "outputs": [
    {
     "data": {
      "text/plain": [
       "\"         HR ADMINISTRATOR/MARKETING ASSOCIATE\\n\\nHR ADMINISTRATOR       Summary     Dedicated Customer Service Manager with 15+ years of experience in Hospitality and Customer Service Management.   Respected builder and leader of customer-focused teams; strives to instill a shared, enthusiastic commitment to customer service.         Highlights         Focused on customer satisfaction  Team management  Marketing savvy  Conflict resolution techniques     Training and development  Skilled multi-tasker  Client relations specialist           Accomplishments      Missouri DOT Supervisor Training Certification  Certified by IHG in Customer Loyalty and Marketing by Segment   Hilton Worldwide General Manager Training Certification  Accomplished Trainer for cross server hospitality systems such as    Hilton OnQ  ,   Micros    Opera PMS   , Fidelio    OPERA    Reservation System (ORS) ,   Holidex    Completed courses and seminars in customer service, sales strategies, inventory control, loss prevention, safety, time management, leadership and performance assessment.        Experience      HR Administrator/Marketing Associate\\n\\nHR Administrator     Dec 2013   to   Current      Company Name   －   City  ,   State     Helps to develop policies, directs and coordinates activities such as employment, compensation, labor relations, benefits, training, and employee services.  Prepares employee separation notices and related documentation  Keeps records of benefits plans participation such as insurance and pension plan, personnel transactions such as hires, promotions, transfers, performance reviews, and terminations, and employee statistics for government reporting.  Advises management in appropriate resolution of employee relations issues.  Administers benefits programs such as life, health, dental, insurance, pension plans, vacation, sick leave, leave of absence, and employee assistance.     Marketing Associate \\xa0   Designed and created marketing collateral for sales meetings, trade shows and company executives.  Managed the in-house advertising program consisting of print and media collateral pieces.  Assisted in the complete design and launch of the company's website in 2 months.  Created an official company page on Facebook to facilitate interaction with customers.  Analyzed ratings and programming features of competitors to evaluate the effectiveness of marketing strategies.         Advanced Medical Claims Analyst     Mar 2012   to   Dec 2013      Company Name   －   City  ,   State     Reviewed medical bills for the accuracy of the treatments, tests, and hospital stays prior to sanctioning the claims.  Trained to interpret the codes (ICD-9, CPT) and terminology commonly used in medical billing to fully understand the paperwork that is submitted by healthcare providers.  Required to have organizational and analytical skills as well as computer skills, knowledge of medical terminology and procedures, statistics, billing standards, data analysis and laws regarding medical billing.         Assistant General Manager     Jun 2010   to   Dec 2010      Company Name   －   City  ,   State     Performed duties including but not limited to, budgeting and financial management, accounting, human resources, payroll and purchasing.  Established and maintained close working relationships with all departments of the hotel to ensure maximum operation, productivity, morale and guest service.  Handled daily operations and reported directly to the corporate office.  Hired and trained staff on overall objectives and goals with an emphasis on high customer service.  Marketing and Advertising, working on public relations with the media, government and local businesses and Chamber of Commerce.         Executive Support / Marketing Assistant     Jul 2007   to   Jun 2010      Company Name   －   City  ,   State     Provided assistance to various department heads - Executive, Marketing, Customer Service, Human Resources.  Managed front-end operations to ensure friendly and efficient transactions.  Ensured the swift resolution of customer issues to preserve customer loyalty while complying with company policies.  Exemplified the second-to-none customer service delivery in all interactions with customers and potential clients.         Reservation & Front Office Manager     Jun 2004   to   Jul 2007      Company Name   －   City  ,   State          Owner/ Partner     Dec 2001   to   May 2004      Company Name   －   City  ,   State          Price Integrity Coordinator     Aug 1999   to   Dec 2001      Company Name   －   City  ,   State          Education      N/A  ,   Business Administration   1999     Jefferson College   －   City  ,   State       Business Administration  Marketing / Advertising         High School Diploma  ,   College Prep. studies   1998     Sainte Genevieve Senior High   －   City  ,   State       Awarded American Shrubel Leadership Scholarship to Jefferson College         Skills     Accounting, ads, advertising, analytical skills, benefits, billing, budgeting, clients, Customer Service, data analysis, delivery, documentation, employee relations, financial management, government relations, Human Resources, insurance, labor relations, layout, Marketing, marketing collateral, medical billing, medical terminology, office, organizational, payroll, performance reviews, personnel, policies, posters, presentations, public relations, purchasing, reporting, statistics, website.    \""
      ]
     },
     "execution_count": 64,
     "metadata": {},
     "output_type": "execute_result"
    }
   ],
   "source": [
    "data['Resume_str'][0]"
   ]
  },
  {
   "cell_type": "code",
   "execution_count": 65,
   "id": "1173fdca",
   "metadata": {},
   "outputs": [],
   "source": [
    "output = onevsmodel.predict_proba(dt)"
   ]
  },
  {
   "cell_type": "code",
   "execution_count": 66,
   "id": "3a61e2fa",
   "metadata": {},
   "outputs": [
    {
     "data": {
      "text/plain": [
       "array([[9.2720625e-04, 9.5029338e-04, 5.2421102e-03, 3.0802927e-04,\n",
       "        1.6362460e-03, 4.3634814e-03, 1.5710316e-03, 3.7015004e-03,\n",
       "        2.9338387e-04, 3.4732232e-03, 5.5383600e-04, 1.0461860e-02,\n",
       "        1.0105814e-03, 1.0174711e-03, 3.0116108e-03, 6.5005640e-04,\n",
       "        4.6894629e-04, 7.0866233e-01, 3.0491210e-03, 1.1783320e-03,\n",
       "        2.6807629e-03, 1.9253807e-03, 3.4711638e-03, 3.1766309e-03,\n",
       "        3.9349162e-04, 4.2473534e-03, 2.5517883e-04, 7.3937513e-04,\n",
       "        3.4696090e-03, 2.7678632e-03, 4.4343874e-04, 1.6476461e-03,\n",
       "        1.6940729e-04, 4.5218114e-03, 3.7604542e-03, 4.0592821e-03,\n",
       "        4.8938249e-03, 3.5007219e-03, 1.1485621e-03, 5.8121014e-02,\n",
       "        3.9121779e-04, 2.6972676e-03, 1.7088668e-03, 5.6943214e-03,\n",
       "        1.3158478e-01]], dtype=float32)"
      ]
     },
     "execution_count": 66,
     "metadata": {},
     "output_type": "execute_result"
    }
   ],
   "source": [
    "output"
   ]
  },
  {
   "cell_type": "code",
   "execution_count": null,
   "id": "174264b4",
   "metadata": {},
   "outputs": [],
   "source": []
  }
 ],
 "metadata": {
  "kernelspec": {
   "display_name": "Python 3 (ipykernel)",
   "language": "python",
   "name": "python3"
  },
  "language_info": {
   "codemirror_mode": {
    "name": "ipython",
    "version": 3
   },
   "file_extension": ".py",
   "mimetype": "text/x-python",
   "name": "python",
   "nbconvert_exporter": "python",
   "pygments_lexer": "ipython3",
   "version": "3.8.5"
  }
 },
 "nbformat": 4,
 "nbformat_minor": 5
}
