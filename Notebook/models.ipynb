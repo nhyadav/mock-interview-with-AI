{
 "cells": [
  {
   "cell_type": "code",
   "execution_count": 1,
   "id": "4aa4a45d",
   "metadata": {},
   "outputs": [],
   "source": [
    "import pickle\n",
    "from sklearn.feature_extraction.text import TfidfVectorizer"
   ]
  },
  {
   "cell_type": "code",
   "execution_count": 5,
   "id": "8ecc172a",
   "metadata": {},
   "outputs": [],
   "source": [
    "with open('token_normlize_data.pkl','rb') as data:\n",
    "    predata = pickle.load(data)\n",
    "# with open('token_normlize_data.pkl','rb') as data:\n",
    "#     predata = pickle.load(data)"
   ]
  },
  {
   "cell_type": "code",
   "execution_count": 6,
   "id": "2d85b514",
   "metadata": {
    "scrolled": true
   },
   "outputs": [
    {
     "data": {
      "text/html": [
       "<div>\n",
       "<style scoped>\n",
       "    .dataframe tbody tr th:only-of-type {\n",
       "        vertical-align: middle;\n",
       "    }\n",
       "\n",
       "    .dataframe tbody tr th {\n",
       "        vertical-align: top;\n",
       "    }\n",
       "\n",
       "    .dataframe thead th {\n",
       "        text-align: right;\n",
       "    }\n",
       "</style>\n",
       "<table border=\"1\" class=\"dataframe\">\n",
       "  <thead>\n",
       "    <tr style=\"text-align: right;\">\n",
       "      <th></th>\n",
       "      <th>ID</th>\n",
       "      <th>Category</th>\n",
       "      <th>cleaned_resume</th>\n",
       "      <th>lemmatize_data</th>\n",
       "      <th>tokenize_data</th>\n",
       "    </tr>\n",
       "  </thead>\n",
       "  <tbody>\n",
       "    <tr>\n",
       "      <th>0</th>\n",
       "      <td>16852973</td>\n",
       "      <td>HR</td>\n",
       "      <td>hr administrator marketing associate ...</td>\n",
       "      <td>hr administrator marketing associate hr admini...</td>\n",
       "      <td>[hr, administrator, marketing, associate, hr, ...</td>\n",
       "    </tr>\n",
       "    <tr>\n",
       "      <th>1</th>\n",
       "      <td>22323967</td>\n",
       "      <td>HR</td>\n",
       "      <td>hr specialist  us hr operations      ...</td>\n",
       "      <td>hr specialist u hr operation summar versatile ...</td>\n",
       "      <td>[hr, specialist, u, hr, operation, summar, ver...</td>\n",
       "    </tr>\n",
       "    <tr>\n",
       "      <th>2</th>\n",
       "      <td>33176873</td>\n",
       "      <td>HR</td>\n",
       "      <td>hr director       summar       over 2...</td>\n",
       "      <td>hr director summar 20 ear experience recruitin...</td>\n",
       "      <td>[hr, director, summar, 20, ear, experience, re...</td>\n",
       "    </tr>\n",
       "    <tr>\n",
       "      <th>3</th>\n",
       "      <td>27018550</td>\n",
       "      <td>HR</td>\n",
       "      <td>hr specialist       summar     dedica...</td>\n",
       "      <td>hr specialist summar dedicated driven namic 20...</td>\n",
       "      <td>[hr, specialist, summar, dedicated, driven, na...</td>\n",
       "    </tr>\n",
       "    <tr>\n",
       "      <th>4</th>\n",
       "      <td>17812897</td>\n",
       "      <td>HR</td>\n",
       "      <td>hr manager         skill highlights  ...</td>\n",
       "      <td>hr manager skill highlight hr skill hr departm...</td>\n",
       "      <td>[hr, manager, skill, highlight, hr, skill, hr,...</td>\n",
       "    </tr>\n",
       "    <tr>\n",
       "      <th>...</th>\n",
       "      <td>...</td>\n",
       "      <td>...</td>\n",
       "      <td>...</td>\n",
       "      <td>...</td>\n",
       "      <td>...</td>\n",
       "    </tr>\n",
       "    <tr>\n",
       "      <th>2479</th>\n",
       "      <td>99416532</td>\n",
       "      <td>AVIATION</td>\n",
       "      <td>rank  sgt e 5 non  commissioned offic...</td>\n",
       "      <td>rank sgt e 5 non commissioned officer charge b...</td>\n",
       "      <td>[rank, sgt, e, 5, non, commissioned, officer, ...</td>\n",
       "    </tr>\n",
       "    <tr>\n",
       "      <th>2480</th>\n",
       "      <td>24589765</td>\n",
       "      <td>AVIATION</td>\n",
       "      <td>government relations  communications ...</td>\n",
       "      <td>government relation communication organi ation...</td>\n",
       "      <td>[government, relation, communication, organi, ...</td>\n",
       "    </tr>\n",
       "    <tr>\n",
       "      <th>2481</th>\n",
       "      <td>31605080</td>\n",
       "      <td>AVIATION</td>\n",
       "      <td>geek squad agent         professional...</td>\n",
       "      <td>geek squad agent professional profile support ...</td>\n",
       "      <td>[geek, squad, agent, professional, profile, su...</td>\n",
       "    </tr>\n",
       "    <tr>\n",
       "      <th>2482</th>\n",
       "      <td>21190805</td>\n",
       "      <td>AVIATION</td>\n",
       "      <td>program director   office manager    ...</td>\n",
       "      <td>program director office manager summar highl p...</td>\n",
       "      <td>[program, director, office, manager, summar, h...</td>\n",
       "    </tr>\n",
       "    <tr>\n",
       "      <th>2483</th>\n",
       "      <td>37473139</td>\n",
       "      <td>AVIATION</td>\n",
       "      <td>storekeeper ii       professional sum...</td>\n",
       "      <td>storekeeper ii professional summar purpose doc...</td>\n",
       "      <td>[storekeeper, ii, professional, summar, purpos...</td>\n",
       "    </tr>\n",
       "  </tbody>\n",
       "</table>\n",
       "<p>2484 rows × 5 columns</p>\n",
       "</div>"
      ],
      "text/plain": [
       "            ID  Category                                     cleaned_resume  \\\n",
       "0     16852973        HR           hr administrator marketing associate ...   \n",
       "1     22323967        HR           hr specialist  us hr operations      ...   \n",
       "2     33176873        HR           hr director       summar       over 2...   \n",
       "3     27018550        HR           hr specialist       summar     dedica...   \n",
       "4     17812897        HR           hr manager         skill highlights  ...   \n",
       "...        ...       ...                                                ...   \n",
       "2479  99416532  AVIATION           rank  sgt e 5 non  commissioned offic...   \n",
       "2480  24589765  AVIATION           government relations  communications ...   \n",
       "2481  31605080  AVIATION           geek squad agent         professional...   \n",
       "2482  21190805  AVIATION           program director   office manager    ...   \n",
       "2483  37473139  AVIATION           storekeeper ii       professional sum...   \n",
       "\n",
       "                                         lemmatize_data  \\\n",
       "0     hr administrator marketing associate hr admini...   \n",
       "1     hr specialist u hr operation summar versatile ...   \n",
       "2     hr director summar 20 ear experience recruitin...   \n",
       "3     hr specialist summar dedicated driven namic 20...   \n",
       "4     hr manager skill highlight hr skill hr departm...   \n",
       "...                                                 ...   \n",
       "2479  rank sgt e 5 non commissioned officer charge b...   \n",
       "2480  government relation communication organi ation...   \n",
       "2481  geek squad agent professional profile support ...   \n",
       "2482  program director office manager summar highl p...   \n",
       "2483  storekeeper ii professional summar purpose doc...   \n",
       "\n",
       "                                          tokenize_data  \n",
       "0     [hr, administrator, marketing, associate, hr, ...  \n",
       "1     [hr, specialist, u, hr, operation, summar, ver...  \n",
       "2     [hr, director, summar, 20, ear, experience, re...  \n",
       "3     [hr, specialist, summar, dedicated, driven, na...  \n",
       "4     [hr, manager, skill, highlight, hr, skill, hr,...  \n",
       "...                                                 ...  \n",
       "2479  [rank, sgt, e, 5, non, commissioned, officer, ...  \n",
       "2480  [government, relation, communication, organi, ...  \n",
       "2481  [geek, squad, agent, professional, profile, su...  \n",
       "2482  [program, director, office, manager, summar, h...  \n",
       "2483  [storekeeper, ii, professional, summar, purpos...  \n",
       "\n",
       "[2484 rows x 5 columns]"
      ]
     },
     "execution_count": 6,
     "metadata": {},
     "output_type": "execute_result"
    }
   ],
   "source": [
    "predata"
   ]
  },
  {
   "cell_type": "code",
   "execution_count": 7,
   "id": "dd4f1961",
   "metadata": {},
   "outputs": [],
   "source": [
    "tfidf = TfidfVectorizer(stop_words='english', max_features=1000)"
   ]
  },
  {
   "cell_type": "code",
   "execution_count": 8,
   "id": "758d8f50",
   "metadata": {},
   "outputs": [],
   "source": [
    "from sklearn.preprocessing import LabelEncoder\n",
    "lblencoder = LabelEncoder()\n",
    "predata['Category_lbl'] = lblencoder.fit_transform(predata['Category'])"
   ]
  },
  {
   "cell_type": "code",
   "execution_count": 9,
   "id": "6ac5f48b",
   "metadata": {},
   "outputs": [],
   "source": [
    "features = predata['lemmatize_data'].values\n",
    "target = predata['Category_lbl'].values"
   ]
  },
  {
   "cell_type": "code",
   "execution_count": 10,
   "id": "6da65e2a",
   "metadata": {},
   "outputs": [],
   "source": [
    "from sklearn.model_selection import train_test_split\n",
    "X_train,X_test,y_train,y_test = train_test_split(features,target,test_size=0.2,random_state=42)"
   ]
  },
  {
   "cell_type": "code",
   "execution_count": 11,
   "id": "9eeadfc5",
   "metadata": {},
   "outputs": [
    {
     "data": {
      "text/plain": [
       "array(['graduate engineer summar intellectuall curious resourceful great interpersonal skill abilit communicate effectivel level within organi ation experience 03 2014 current graduate engineer compan name cit state developed conceptual plan two intersection near jerse shore universit medical center based traffic data geometric constraint roadwa design standard emplo ed knowledge microstation inroad excel vba efficientl complete miscellaneous task including producing report creating visual displa generating automated text description applied vehicle turning software autoturn anal e intersection design geometric la various project member highwa design team 295 direct connection contract 3 project developed grading complex pavement widening section revised vertical hori ontal alignment meet njdot standard modeled highwa section using cad microstation design software inroad generated plan cross section coordinated quantit effort across multiple discipline highwa electrical drainage utility 295 direct connection contract 3 used house excel vba program collect organi e quantit data devised additional vba macro optimi e initial setup printing quantit calculation sheet designed hori ontal vertical alignment superelevation constraint guide rail 280 ramp 2p bridge deck replacement project worked multiple roadwa resurfacing maintenance project identified critical built information present plan developed ada compliant grading geometric la pedestrian facility 07 2012 08 2012 summer aviation intern compan name cit state assisted port authorit manager structural integrit presented summary engineering report pa technical non technical staff compiled organi ed safet priorit repair data numerous inspection report inspected bridge component alongside member port authorit engineering division created detail repair longitudinal cracking along roadwa remediation cracked catch basin well cost estimate gathered information tenant emplo ee relocated generated cubicle plan new tenant building education present master science civil engineering new jerse institute technolog cit state civil engineering october 2013 bachelor science civil engineering rutgers universit cit state civil engineering 3 7 4 0 achieved passing score fe eit exam relevant course intro transportation transportation planning transportation capstone interest programming reading creative writing rock climbing language fluent spanish skill ada cad cs design software eit excel vba html inspection la macro excel powerpoint word microstation producing p thon safet fluent spanish transportation utility vba visual displa additional information interest programming reading creative writing rock climbing',\n",
       "       'office manager managing director professional summar innovative customer oriented healthcare administrator background managed ambulator long term care strong background qualit assurance claim anal si management principle practice seeking leadership role within integrated deliver stem skill strong p resentation skill omplished leader patient evaluation intervention professional bedside manner adept prioriti ing managing deadline patient focused care trained pre post surgical care competent ph sical assessment minor surger assistance awareness work histor office manager managing director 02 2014 current compan name cit state overseeing entire clinical department ensuring ph sician order followed requested overseeing office staff dail operation compan da da problem solving department office well taking problematic phone call department hiring training new office staff hiring training new doctor ph sician assistant completing necessar paperwork enrolling doctor pa medicare malpractice insurance setting new emplo ee practice fusion pa roll communicating doctor ph sician assistant dail basis ensure da running smoothl resolving issue marketing home health company compan pa roll qualit assurance qualit assurance 04 2013 02 2014 compan name cit state liaising patient nurse doctor pharmacist various medical personnel dail basis provide utmost service involved patient care follow patient doctor nurse ensure ever thing omplished required inputting patient information doctor note electronic medical record ordering following laborator diagnostic workup requested b doctor well calling medication pharmac recruited hired trained coached average number new emplo ee per ear established maintained stem safel met resident need skillfull developed departmental goal objective standard performance policy procedure developed stem staff communication ensured proper implementation treatment plan comprehensive patient care consistentl complied applicable law regulation ensured facilit adhered medicare medicaid regulation interpreted communicated new revised policy staff established oversaw implementation effective budgeting ounting stem improved efficienc reduced cost developed achieved financial growth goal continuall maintained improved compan reputation positive image market served encouraged creative thinking problem solving empowerment part facilit management group improve morale teamwork routinel collaborated department manager correct problem improve service supervised managed dail activity clinical team consisting number ph sicians nurse support staff facilitated going assessment patient famil need implementation interdisciplinar team care plan investigated reported issue relating patient care condition might hinder patient well led clinical team delivering care service promoted optimal resident health volunteer 09 2011 05 2013 compan name cit state interviewed patient obtain medical information weight height measurement vital sign documented patient information obtained interview completed clinical rotation geriatrics responsible primar care case management medication management assessed patient documented medical history evaluated patient care need prioriti ed treatment maintained patient flow assisted doctor surgery non invasive procedure collected blood tissue laborator specimen prepared lab testing performed vitals glucose testing assisted administering injection urinal si managed care post operative patient discharge uratel recorded reported test result ording established procedure healthcare 01 2009 01 2011 compan name effectivel communicated patient conve information procedure clear concise manner consistentl updated patient chart performed blood work assisted doctor surger conducted patient ph sicals aided patient therap session loretto hospital bethan hospital education 1 2011 windsor universit school medicine cit top number class continuing education topic award school diligence award 2005 writer craft award 2005 world issue award 2005 skill chart concise hiring insurance note marketing office pa roll personnel problem solving qualit assurance phone additional information award school diligence award 2005 writer craft award 2005 world issue award 2005 volunteer ann robert h lurie child hospital chicago illinois formerl child memorial hospital',\n",
       "       'sale consultant interior designer professional summar result oriented sale professional eager join reputable organi ation hardworking consultant gifted turning prospect client b delivering exceptional presentation engaging personable expertise managing ke milestone delivering exemplar customer service highl enthusiastic abilit absorb information rapidl make correct response skill persuasive communication prospect qualification retention strategy exceptional customer service sale work histor sale consultant interior designer 01 2018 12 2020 compan name cit state assisted client budget consideration made recommendation furniture custom made leather sofa essories item developed space planning concept color palette selection leather presentation used consultative sale approach understand customer need recommend relevant offering created detailed sale presentation communicate product feature market data assisted walk traffic identif ing financial need goal provide customi ed solution collaborated vendor align st le consistenc marketing material promoted customer satisfaction b understanding need increased sale designer sale consultant 03 2016 09 2017 compan name cit state worked sale team collaborativel reach target consistentl meeting exceeding personal quota demonstrated product show potential customer benefit advantage encourage purchase established new customer developed space planning concept color palette selection textile presentation created professional presentation using la bo software creativel communicate design intent direction answered product question date knowledge sale store promotion interior decorator self emplo ed 01 2005 02 2015 compan name cit state advised client st le la out budget overall design furnished designed residential property consulted client determine decorating need preference maintained knowledge constantl changing interior design trend product assistant vp pr investor 01 2011 02 2014 compan name cit state attracted increased new member organi ational targeting marketing campaign specific audience participated trade show america canada recruit retain prospect seasonal job custom made furniture salesperson designer 03 2001 12 2004 compan name cit state high end interior design firm speciali ing french provence custom home los angeles area orange count education bachelor science ounting finance moscow finance universit cit interior decorator interior design interior decorator institute cit personal trainer nutritionist athletic training nutrition 02 2014 nasm cit skill persuasive communication prospect qualification retention strategy exceptional customer service sale work histor sale consultant interior designer 01 2018 12 2020 compan name cit state assisted client budget consideration made recommendation furniture custom made leather sofa essories item developed space planning concept color palette selection leather presentation used consultative sale approach understand customer need recommend relevant offering created detailed sale presentation communicate product feature market data assisted walk traffic identif ing financial need goal provide customi ed solution collaborated vendor align st le consistenc marketing material promoted customer satisfaction b understanding need increased sale designer sale consultant 03 2016 09 2017 compan name cit state worked sale team collaborativel reach target consistentl meeting exceeding personal quota demonstrated product show potential customer benefit advantage encourage purchase established new customer developed space planning concept color palette selection textile presentation created professional presentation using la bo software creativel communicate design intent direction answered product question date knowledge sale store promotion interior decorator self emplo ed 01 2005 02 2015 compan name cit state advised client st le la out budget overall design furnished designed residential property consulted client determine decorating need preference maintained knowledge constantl changing interior design trend product assistant vp pr investor 01 2011 02 2014 compan name cit state attracted increased new member organi ational targeting marketing campaign specific audience participated trade show america canada recruit retain prospect seasonal job custom made furniture salesperson designer 03 2001 12 2004 compan name cit state high end interior design firm speciali ing french provence custom home los angeles area orange count',\n",
       "       ...,\n",
       "       'consultant summar resourceful marketing manager omplished aspect program project management content collateral development web online marketing including web development design social medium sem self starter skilled anal ing market trend customer stakeholder need develop manage highl effective program campaign team pla er strong abilit communicate effectivel technolog business audience highlight web marketing product marketing event marketing marketing corporate communication web content design creative collateral design development management japanese locali ation omplishments organi ed co produced japan first large scale multi medium event digital tok 95 collaborating verbum inc idg japan delivered short ke note event japan translated legal care software b daniel remer jaw maui b charles l su essfull published japan wrote published article publication u japan increased compan revenue b 3 million oem marketing program ount management go 3com experience consultant 06 2001 current compan name cit state consulted firm including customer matter panasonic usa v technology uniforce sale engineering service included program project management market research event manage website design development content collateral development management event management public relation japanese locali ation management su essfull launched new compan website raised compan visibilit market uniforce sale engineering b developing architecture ui content managing back end development agenc business development director 03 2012 04 2013 compan name cit state su essfull opened compan first operation u identified developed evaluated business development marketing strategy based compan objective market trend su essfull raised compan visibilit increased sale b 70 marketing program developing new english website including architecture content ui php page u business development manager 10 2006 07 2008 compan name cit state developed implemented business development marketing strategy machine vision product su essfull established visibilit market event ad updating compan website director north asia marketing 10 1999 06 2001 compan name cit state developed budgeted implemented marketing plan china japan korea managed japanese locali ation compan website su essfull supported countr manager channel partner exceeding revenue goal marketing program consultant 01 1993 10 1999 compan name cit state consulted firm including base sap claris apple fractal design corel national semiconductor j dun bradstreet j pacbell intelligard emc service included program project development management ount management event management public relation corporate communication collateral design development production japanese locali ation su essfull assisted pacbell rolling new dsl marketing campaign b setting telemarketing infrastructure su essfull launched corporate identit press event national semiconductor japan su essfull managed product launch event dun bradstreet japan identified su essfull recruited channel partner fractal design su essfull launched new product japan variet event program including locali ation base japan oem program manager 01 1991 01 1992 compan name cit state developed managed marketing strategy program oem prospect su essfull sold oem license 3 prospect increased compan revenue b 3 million assisted japanese locali ation presentation manual japan marketing manager product manager 05 1988 08 1991 compan name cit state su essfull launched 3 open macintosh b developing implementing mrd integrated marketing plan product manager collaborating japan countr manager japan business development developed managed marketing program channel partner oems su essfull assisted countr manager selling 3 million oem license su essfull assisted ceo identif ing recruiting first ceo 3com japan education bachelor business english literature ao ama gakuin universit cit japan business english literature marketing principle technical marketing market research html uc berkele extension ca public relation event management san jose su extension ca web design adobe c cs javascript business law ounting foothill de jc ca www mikikos com skill content collateral web design adobe creative suite html cs javascript php client m office japanese linguistics locali ation sdl tool',\n",
       "       'medium service coordinator summar life long san antonio resident dedicated technicall skilled professional diverse background strong people skill team pla er highl organi ed excellent collaboration communication skill abilit multi task adapt well change excellent resolving emplo er challenge innovative solution stem process improvement proven increase efficienc customer satisfaction bottom line highlight proficient microsoft office application quick book pro google tool apps education pe 70 wpm 10 ke b touch urac html5 cs basic php adobe creative cloud techsmith rela camtasia snag web research skill web 2 0 tool video web conference skill mass deplo ment configuration io device skill clear understanding project cost excellent customer service skill strong anal tical collaboration communication written organi ational multi tasking skill omplishments led development inventor control metric stem decreased number issue electronic classroom b developing metric stem technolog issue experience medium service coordinator 01 2009 current compan name cit state responsible ounting financial function ap ar pr gl bank reconciliation month end closing prepare financial report track travel purchase departmental supply upkeep office equipment assist director budget planning based asset tracking depreciation capital equipment responsible tracking number expense ounts construction project suppl expense grant one time initiative budget responsible reviewing processing contractor draw timel manner ensuring service supply rendered purchaser av classroom technolog equipment monitor troubleshoot av technolog classroom issue tier ii level dispatch technician needed responsible upkeep helpdesk ticketing stem assist director audio visual classroom technolog design project manager various special project well provide technical support video conference webinars various multi medium service assist management technolog newl designed commissioned classroom deplo ing tablet touch control similar multi medium equipment serve l nda com campus administrator prepares monthl statistical report vp cito director coordinate av equipment deliver set ups tu communit event visiting group event responsible hiring managing evening supervisor well student worker process pa roll timel manner approve vacation sick leave coordinate staff schedule training lead social medium journalist clt coordinate departmental tour new student facult orientation responsible upkeep av inventor demonstration av equipment checkout upkeep 3d printer provide technical training support 3d printer credit manager billing coordinator 01 2006 01 2009 compan name cit state responsible ounts receivables month end closing duty responsible group billing ounts generating 300k revenue customi ed invoicing responsible credit card transaction handling dispute responsible aspect direct billing credit reference collection cit ledger ounts conduct monthl credit committee meeting prepare monthl write report assist controller assistant controller developing implementing financial office policy work closel sale catering manager ensure client billing request met responsible implementing managing new technolog trouble shoot common ounting issue developer 01 1998 01 2006 compan name cit state office manager leasing manager office manager leasing manager propert management firm responsible ounting financial function ap ar pr gl bank reconciliation month end closing assistant project manager construction newl developed property monitor jobsite procured material receiving warehousing function ensuring material purchased ordance project technical specification manage subcontractor administration review execute contractor draw change order oversee administrative stem operation office including interviewing hiring managing staff implementing managing new technolog prepare review trust power attorne lease title commitment miscellaneous mortgage loan real estate legal document monitor maintain emplo ee personnel file including pa roll maintain good customer relationship tenant coordinated propert tour commercial residential property first point contact handle tenant inquires complaint responsible rent roll pa vacate notice lease renewal rent increase notice market rate anal si heav calendar scheduling event meeting coordination travel arrangement owner education associate applied science digital medium northwest vista college 2012 present northwest vista college associate applied science concentration digital medium presentation international program presentation assist international student various skill pa roll deposit obtaining social securit card obtaining campus emplo ment etc skill ounting reconciliation closing procedure ap ar bank reconciliation gl pa roll project manager public relation propert management scheduling travel arrangement budget correspondence billing credit credit card reconciliation change order interviewing leasing office manager helpdesk ticketing stem reporting inventor process pa roll purchaser technical support training customer service excellent customer service skill highl organi ed microsoft office m office quick book pro receptionist team pla er ping ver organi ed',\n",
       "       'office manager career focus exceptionall organi ed efficient office manager 13 ear experience office environment seeking challenging role namic organi ation summar skill as400 kronos anosos cerner well proprietar software data entr retrieval update maintain customer data skilled microsoft office quickbooks pro omplishments reduced office expense b finding smarter solution vendor supplier service professional experience 01 2013 current office manager compan name cit state assisted designing information operational support stem worked quickl efficientl minimal oversight omplish assigned duty uratel processed data validation transmission weekl semi monthl sale pa roll monitored dail banking transaction maintained annual monthl budget compiled financial ounting auditing report table cash receipt expenditure ounts pa able receivables profit loss reviewed investigated corrected error inconsistency financial entry document report obtained information b contacting appropriate personnel patient scanned incoming documentation consolidated diverse medical record followed insurance company individual resolve discrepancy maintained complete confidentialit ordance organi ation legal requirement kept department clean organi ed professional maintained 100 compliance hospital government regulation conceptuali ed implemented new efficient filing stem created annual goal objective budget made recommendation reduce cost served liaison management clinical staff communit administered directed coordinated activity agenc activel maintained date knowledge applicable state federal law regulation jumped fill gap call rotation necessar provided thorough supervision da da operation facilit ordance set policy guideline worked state client stakeholder shape procurement identif opportunity value added service closel monitored competitor activit legislative regulator initiative agenc concern contract developed strategy respond revised policy procedure ordance change local state federal law regulation contributed participated communit education project foster widespread understanding prevention treatment illness observed strict confidentialit safeguarded patient related information planned organi ed supervised provided assignment nursing technical office biomedical staff managed average number emplo ee shift reviewed approved time card processing b pa roll department routinel evaluated overall resident care within facilit diligentl enforced high standard incorporated evidence based care practice environment ensure high qualit care patient family fostered interdisciplinar relationship b negotiation consensus building attain goal discipline monitored infection control procedure ensure facilit wide health safet effectivel served advisor resource b providing patient famil experience expertise effectivel served advisor resource b providing patient famil experience expertise developed arranged continuing education opportunity staff increase knowledge skill anal ed facilit activity data properl ass risk management improve service kept abreast advance medicine computeri ed diagnostic treatment equipment data processing technolog government regulation health insurance change financing option made recommendation improve technical practice 01 2013 current secretar compan name cit state responsible coordinating patient activity nursing staff ph sicians hospital personnel department time clock entry 01 2008 01 2009 scheduling staff compan name cit state transferred legal paper file electronic cd redacted confidential information legal document 01 2004 01 2007 pharmac assistant compan name cit state assist pharmacist filling dispensing prescription customer order stock drug supply counter merchandise enter update patient record inventor prepare process third part insurance claim process invoice construct ounting entry electronicall via house stem as400 01 2003 01 2004 lifeguard swim instructor aquatic fitness trainer compan name cit state certified first aid cpr lifeguard training pool operation alertl identified reported emergenc situation calml talked victim coordinating emergenc response watched pool checked chemical reading conducted aquatic aerobics elderl arthritic adult provided critical information emergenc service department part 911 operation 01 2002 01 2003 bank teller compan name cit state processed dail transaction personal commercial ount holder provided excellent customer service utili ed excellent sale technique recogni e need customer matched available product service education 2007 associate applied science business administration ounting raritan valle communit college cit state professional affiliation american health information management association ahima skill 10 ke ounting as400 calculator cd cpr excellent customer service customer service data entr fax machine filling first aid general office insurance inventor process invoice kronos legal legal document microsoft office nursing personnel copier quickbooks pro sale telephone'],\n",
       "      dtype=object)"
      ]
     },
     "execution_count": 11,
     "metadata": {},
     "output_type": "execute_result"
    }
   ],
   "source": [
    "X_train"
   ]
  },
  {
   "cell_type": "code",
   "execution_count": 12,
   "id": "11746425",
   "metadata": {},
   "outputs": [],
   "source": [
    "X_train = tfidf.fit_transform(X_train)\n",
    "X_test = tfidf.transform(X_test)"
   ]
  },
  {
   "cell_type": "code",
   "execution_count": 13,
   "id": "d0402c01",
   "metadata": {},
   "outputs": [
    {
     "data": {
      "text/plain": [
       "(1987, 1000)"
      ]
     },
     "execution_count": 13,
     "metadata": {},
     "output_type": "execute_result"
    }
   ],
   "source": [
    "#import the models\n",
    "X_train.shape"
   ]
  },
  {
   "cell_type": "code",
   "execution_count": 14,
   "id": "64f61f94",
   "metadata": {},
   "outputs": [
    {
     "data": {
      "text/plain": [
       "(497, 1000)"
      ]
     },
     "execution_count": 14,
     "metadata": {},
     "output_type": "execute_result"
    }
   ],
   "source": [
    "X_test.shape"
   ]
  },
  {
   "cell_type": "code",
   "execution_count": 15,
   "id": "f4b8f4d3",
   "metadata": {},
   "outputs": [],
   "source": [
    "from sklearn.neighbors import KNeighborsClassifier\n",
    "from sklearn.svm import SVC\n",
    "from sklearn.ensemble import RandomForestClassifier\n",
    "from sklearn.linear_model import LogisticRegression\n",
    "model1 = KNeighborsClassifier()\n",
    "model2 = SVC()\n",
    "model3 = RandomForestClassifier()\n",
    "model4 = LogisticRegression()\n"
   ]
  },
  {
   "cell_type": "code",
   "execution_count": 16,
   "id": "69006bb1",
   "metadata": {},
   "outputs": [
    {
     "name": "stdout",
     "output_type": "stream",
     "text": [
      "training accuracy of model 1 : 0.6547559134373427\n",
      "testing accuracy of model 1 : 0.5030181086519114\n",
      "training accuracy of model 2 : 0.9401107196779064\n",
      "testing accuracy of model 2 : 0.613682092555332\n",
      "training accuracy of model 3 : 1.0\n",
      "testing accuracy of model 3 : 0.6740442655935613\n",
      "training accuracy of model 4 : 0.7735279315551082\n",
      "testing accuracy of model 4 : 0.641851106639839\n"
     ]
    }
   ],
   "source": [
    "from sklearn.metrics import accuracy_score, classification_report\n",
    "import warnings\n",
    "warnings.filterwarnings('ignore')\n",
    "for i in range(1,5):\n",
    "    eval(\"model\"+str(i)+\".fit(X_train,y_train)\")\n",
    "    t_pred = eval(\"model\"+str(i)+\".predict(X_train)\")\n",
    "    pred = eval(\"model\"+str(i)+\".predict(X_test)\")\n",
    "    print(\"training accuracy of model\",i,\":\",accuracy_score(y_train,t_pred))\n",
    "    print(\"testing accuracy of model\",i,':',accuracy_score(y_test,pred))\n",
    "    "
   ]
  },
  {
   "cell_type": "code",
   "execution_count": 17,
   "id": "528d54ee",
   "metadata": {},
   "outputs": [],
   "source": [
    "## overfitting model\n",
    "from sklearn.model_selection import train_test_split\n",
    "from sklearn.multiclass import OneVsRestClassifier\n",
    "onevsmodel = OneVsRestClassifier(KNeighborsClassifier())\n",
    "model1 = OneVsRestClassifier(KNeighborsClassifier())\n",
    "model2 = OneVsRestClassifier(SVC())\n",
    "model3 = OneVsRestClassifier(RandomForestClassifier())\n",
    "model4 = OneVsRestClassifier(LogisticRegression())"
   ]
  },
  {
   "cell_type": "code",
   "execution_count": 18,
   "id": "4ce51d8f",
   "metadata": {},
   "outputs": [
    {
     "name": "stdout",
     "output_type": "stream",
     "text": [
      "training accuracy of onevsall model 1 : 0.657775541016608\n",
      "testing accuracy of onevsall model 1 : 0.5191146881287726\n",
      "training accuracy of onevsall model 2 : 0.9833920483140413\n",
      "testing accuracy of onevsall model 2 : 0.6720321931589537\n",
      "training accuracy of onevsall model 3 : 1.0\n",
      "testing accuracy of onevsall model 3 : 0.6599597585513078\n",
      "training accuracy of onevsall model 4 : 0.7609461499748364\n",
      "testing accuracy of onevsall model 4 : 0.6458752515090543\n"
     ]
    }
   ],
   "source": [
    "for i in range(1,5):\n",
    "    eval(\"model\"+str(i)+\".fit(X_train,y_train)\")\n",
    "    t_pred = eval(\"model\"+str(i)+\".predict(X_train)\")\n",
    "    pred = eval(\"model\"+str(i)+\".predict(X_test)\")\n",
    "    print(\"training accuracy of onevsall model\",i,\":\",accuracy_score(y_train,t_pred))\n",
    "    print(\"testing accuracy of onevsall model\",i,':',accuracy_score(y_test,pred))"
   ]
  },
  {
   "cell_type": "code",
   "execution_count": null,
   "id": "543cd9a9",
   "metadata": {},
   "outputs": [],
   "source": []
  }
 ],
 "metadata": {
  "kernelspec": {
   "display_name": "Python 3 (ipykernel)",
   "language": "python",
   "name": "python3"
  },
  "language_info": {
   "codemirror_mode": {
    "name": "ipython",
    "version": 3
   },
   "file_extension": ".py",
   "mimetype": "text/x-python",
   "name": "python",
   "nbconvert_exporter": "python",
   "pygments_lexer": "ipython3",
   "version": "3.8.5"
  }
 },
 "nbformat": 4,
 "nbformat_minor": 5
}
