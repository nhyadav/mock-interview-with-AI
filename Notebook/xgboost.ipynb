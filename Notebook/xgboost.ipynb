{
 "cells": [
  {
   "cell_type": "code",
   "execution_count": 1,
   "id": "b81b185d",
   "metadata": {},
   "outputs": [
    {
     "name": "stderr",
     "output_type": "stream",
     "text": [
      "C:\\Users\\narayan hari yadav\\anaconda3\\lib\\site-packages\\xgboost\\compat.py:31: FutureWarning: pandas.Int64Index is deprecated and will be removed from pandas in a future version. Use pandas.Index with the appropriate dtype instead.\n",
      "  from pandas import MultiIndex, Int64Index\n"
     ]
    }
   ],
   "source": [
    "#improt linrary for xgboost\n",
    "import numpy as np\n",
    "import pandas as pd\n",
    "import matplotlib.pyplot as plt\n",
    "from xgboost import XGBClassifier\n",
    "import warnings\n",
    "warnings.filterwarnings('ignore')"
   ]
  },
  {
   "cell_type": "code",
   "execution_count": 2,
   "id": "3be7e8d6",
   "metadata": {},
   "outputs": [],
   "source": [
    "from sklearn.feature_extraction.text import TfidfVectorizer\n",
    "data = pd.read_csv(\"E:\\Virtual_room\\project\\AIrecruiter\\data\\processed\\\\processed_resume.csv\")"
   ]
  },
  {
   "cell_type": "code",
   "execution_count": 3,
   "id": "4b112324",
   "metadata": {},
   "outputs": [
    {
     "data": {
      "text/plain": [
       "Resume_str        0\n",
       "Category          0\n",
       "cleaned_resume    0\n",
       "lemmatize_data    1\n",
       "tokenize_data     0\n",
       "dtype: int64"
      ]
     },
     "execution_count": 3,
     "metadata": {},
     "output_type": "execute_result"
    }
   ],
   "source": [
    "data.isnull().sum()"
   ]
  },
  {
   "cell_type": "code",
   "execution_count": 4,
   "id": "8bb73446",
   "metadata": {},
   "outputs": [],
   "source": [
    "data.dropna(inplace=True)"
   ]
  },
  {
   "cell_type": "code",
   "execution_count": 5,
   "id": "46569451",
   "metadata": {},
   "outputs": [
    {
     "data": {
      "text/html": [
       "<div>\n",
       "<style scoped>\n",
       "    .dataframe tbody tr th:only-of-type {\n",
       "        vertical-align: middle;\n",
       "    }\n",
       "\n",
       "    .dataframe tbody tr th {\n",
       "        vertical-align: top;\n",
       "    }\n",
       "\n",
       "    .dataframe thead th {\n",
       "        text-align: right;\n",
       "    }\n",
       "</style>\n",
       "<table border=\"1\" class=\"dataframe\">\n",
       "  <thead>\n",
       "    <tr style=\"text-align: right;\">\n",
       "      <th></th>\n",
       "      <th>Resume_str</th>\n",
       "      <th>Category</th>\n",
       "      <th>cleaned_resume</th>\n",
       "      <th>lemmatize_data</th>\n",
       "      <th>tokenize_data</th>\n",
       "    </tr>\n",
       "  </thead>\n",
       "  <tbody>\n",
       "    <tr>\n",
       "      <th>0</th>\n",
       "      <td>HR ADMINISTRATOR/MARKETING ASSOCIATE\\...</td>\n",
       "      <td>HR</td>\n",
       "      <td>hr administrator marketing associate ...</td>\n",
       "      <td>hr administrator marketing associate hr admini...</td>\n",
       "      <td>['hr', 'administrator', 'marketing', 'associat...</td>\n",
       "    </tr>\n",
       "    <tr>\n",
       "      <th>1</th>\n",
       "      <td>HR SPECIALIST, US HR OPERATIONS      ...</td>\n",
       "      <td>HR</td>\n",
       "      <td>hr specialist  us hr operations      ...</td>\n",
       "      <td>hr specialist u hr operation summary versatile...</td>\n",
       "      <td>['hr', 'specialist', 'u', 'hr', 'operation', '...</td>\n",
       "    </tr>\n",
       "    <tr>\n",
       "      <th>2</th>\n",
       "      <td>HR DIRECTOR       Summary      Over 2...</td>\n",
       "      <td>HR</td>\n",
       "      <td>hr director       summary      over  ...</td>\n",
       "      <td>hr director summary year experience recruiting...</td>\n",
       "      <td>['hr', 'director', 'summary', 'year', 'experie...</td>\n",
       "    </tr>\n",
       "    <tr>\n",
       "      <th>3</th>\n",
       "      <td>HR SPECIALIST       Summary    Dedica...</td>\n",
       "      <td>HR</td>\n",
       "      <td>hr specialist       summary    dedica...</td>\n",
       "      <td>hr specialist summary dedicated driven dynamic...</td>\n",
       "      <td>['hr', 'specialist', 'summary', 'dedicated', '...</td>\n",
       "    </tr>\n",
       "    <tr>\n",
       "      <th>4</th>\n",
       "      <td>HR MANAGER         Skill Highlights  ...</td>\n",
       "      <td>HR</td>\n",
       "      <td>hr manager         skill highlights  ...</td>\n",
       "      <td>hr manager skill highlight hr skill hr departm...</td>\n",
       "      <td>['hr', 'manager', 'skill', 'highlight', 'hr', ...</td>\n",
       "    </tr>\n",
       "    <tr>\n",
       "      <th>...</th>\n",
       "      <td>...</td>\n",
       "      <td>...</td>\n",
       "      <td>...</td>\n",
       "      <td>...</td>\n",
       "      <td>...</td>\n",
       "    </tr>\n",
       "    <tr>\n",
       "      <th>3441</th>\n",
       "      <td>Computer Skills: â¢ Proficient in MS office (...</td>\n",
       "      <td>TESTING</td>\n",
       "      <td>computer skills      proficient in ms office  ...</td>\n",
       "      <td>computer skill proficient m office word basic ...</td>\n",
       "      <td>['computer', 'skill', 'proficient', 'm', 'offi...</td>\n",
       "    </tr>\n",
       "    <tr>\n",
       "      <th>3442</th>\n",
       "      <td>â Willingness to accept the challenges. â ...</td>\n",
       "      <td>TESTING</td>\n",
       "      <td>willingness to accept the challenges      ...</td>\n",
       "      <td>willingness accept challenge positive thinking...</td>\n",
       "      <td>['willingness', 'accept', 'challenge', 'positi...</td>\n",
       "    </tr>\n",
       "    <tr>\n",
       "      <th>3443</th>\n",
       "      <td>PERSONAL SKILLS â¢ Quick learner, â¢ Eagerne...</td>\n",
       "      <td>TESTING</td>\n",
       "      <td>personal skills     quick learner      eagerne...</td>\n",
       "      <td>personal skill quick learner eagerness learn n...</td>\n",
       "      <td>['personal', 'skill', 'quick', 'learner', 'eag...</td>\n",
       "    </tr>\n",
       "    <tr>\n",
       "      <th>3444</th>\n",
       "      <td>COMPUTER SKILLS &amp; SOFTWARE KNOWLEDGE MS-Power ...</td>\n",
       "      <td>TESTING</td>\n",
       "      <td>computer skills   software knowledge ms power ...</td>\n",
       "      <td>computer skill software knowledge m power poin...</td>\n",
       "      <td>['computer', 'skill', 'software', 'knowledge',...</td>\n",
       "    </tr>\n",
       "    <tr>\n",
       "      <th>3445</th>\n",
       "      <td>Skill Set OS Windows XP/7/8/8.1/10 Database MY...</td>\n",
       "      <td>TESTING</td>\n",
       "      <td>skill set os windows xp            database my...</td>\n",
       "      <td>skill set o window xp database mysql sql serve...</td>\n",
       "      <td>['skill', 'set', 'o', 'window', 'xp', 'databas...</td>\n",
       "    </tr>\n",
       "  </tbody>\n",
       "</table>\n",
       "<p>3445 rows × 5 columns</p>\n",
       "</div>"
      ],
      "text/plain": [
       "                                             Resume_str Category  \\\n",
       "0              HR ADMINISTRATOR/MARKETING ASSOCIATE\\...       HR   \n",
       "1              HR SPECIALIST, US HR OPERATIONS      ...       HR   \n",
       "2              HR DIRECTOR       Summary      Over 2...       HR   \n",
       "3              HR SPECIALIST       Summary    Dedica...       HR   \n",
       "4              HR MANAGER         Skill Highlights  ...       HR   \n",
       "...                                                 ...      ...   \n",
       "3441  Computer Skills: â¢ Proficient in MS office (...  TESTING   \n",
       "3442  â Willingness to accept the challenges. â ...  TESTING   \n",
       "3443  PERSONAL SKILLS â¢ Quick learner, â¢ Eagerne...  TESTING   \n",
       "3444  COMPUTER SKILLS & SOFTWARE KNOWLEDGE MS-Power ...  TESTING   \n",
       "3445  Skill Set OS Windows XP/7/8/8.1/10 Database MY...  TESTING   \n",
       "\n",
       "                                         cleaned_resume  \\\n",
       "0              hr administrator marketing associate ...   \n",
       "1              hr specialist  us hr operations      ...   \n",
       "2              hr director       summary      over  ...   \n",
       "3              hr specialist       summary    dedica...   \n",
       "4              hr manager         skill highlights  ...   \n",
       "...                                                 ...   \n",
       "3441  computer skills      proficient in ms office  ...   \n",
       "3442      willingness to accept the challenges      ...   \n",
       "3443  personal skills     quick learner      eagerne...   \n",
       "3444  computer skills   software knowledge ms power ...   \n",
       "3445  skill set os windows xp            database my...   \n",
       "\n",
       "                                         lemmatize_data  \\\n",
       "0     hr administrator marketing associate hr admini...   \n",
       "1     hr specialist u hr operation summary versatile...   \n",
       "2     hr director summary year experience recruiting...   \n",
       "3     hr specialist summary dedicated driven dynamic...   \n",
       "4     hr manager skill highlight hr skill hr departm...   \n",
       "...                                                 ...   \n",
       "3441  computer skill proficient m office word basic ...   \n",
       "3442  willingness accept challenge positive thinking...   \n",
       "3443  personal skill quick learner eagerness learn n...   \n",
       "3444  computer skill software knowledge m power poin...   \n",
       "3445  skill set o window xp database mysql sql serve...   \n",
       "\n",
       "                                          tokenize_data  \n",
       "0     ['hr', 'administrator', 'marketing', 'associat...  \n",
       "1     ['hr', 'specialist', 'u', 'hr', 'operation', '...  \n",
       "2     ['hr', 'director', 'summary', 'year', 'experie...  \n",
       "3     ['hr', 'specialist', 'summary', 'dedicated', '...  \n",
       "4     ['hr', 'manager', 'skill', 'highlight', 'hr', ...  \n",
       "...                                                 ...  \n",
       "3441  ['computer', 'skill', 'proficient', 'm', 'offi...  \n",
       "3442  ['willingness', 'accept', 'challenge', 'positi...  \n",
       "3443  ['personal', 'skill', 'quick', 'learner', 'eag...  \n",
       "3444  ['computer', 'skill', 'software', 'knowledge',...  \n",
       "3445  ['skill', 'set', 'o', 'window', 'xp', 'databas...  \n",
       "\n",
       "[3445 rows x 5 columns]"
      ]
     },
     "execution_count": 5,
     "metadata": {},
     "output_type": "execute_result"
    }
   ],
   "source": [
    "data"
   ]
  },
  {
   "cell_type": "code",
   "execution_count": 6,
   "id": "dcbd5239",
   "metadata": {},
   "outputs": [
    {
     "data": {
      "text/plain": [
       "Resume_str        0\n",
       "Category          0\n",
       "cleaned_resume    0\n",
       "lemmatize_data    0\n",
       "tokenize_data     0\n",
       "dtype: int64"
      ]
     },
     "execution_count": 6,
     "metadata": {},
     "output_type": "execute_result"
    }
   ],
   "source": [
    "data.isnull().sum()"
   ]
  },
  {
   "cell_type": "code",
   "execution_count": 7,
   "id": "352247ce",
   "metadata": {},
   "outputs": [],
   "source": [
    "tfidf = TfidfVectorizer(stop_words='english', max_features=2000)"
   ]
  },
  {
   "cell_type": "code",
   "execution_count": 8,
   "id": "ce0e239b",
   "metadata": {},
   "outputs": [],
   "source": [
    "from sklearn.preprocessing import LabelEncoder\n",
    "lblencoder = LabelEncoder()\n",
    "data['Category_lbl'] = lblencoder.fit_transform(data['Category'])"
   ]
  },
  {
   "cell_type": "code",
   "execution_count": null,
   "id": "481554ce",
   "metadata": {},
   "outputs": [],
   "source": []
  },
  {
   "cell_type": "code",
   "execution_count": 9,
   "id": "ca9ddcca",
   "metadata": {},
   "outputs": [],
   "source": [
    "features = data['lemmatize_data']\n",
    "target = data['Category_lbl']"
   ]
  },
  {
   "cell_type": "code",
   "execution_count": 10,
   "id": "b20835ba",
   "metadata": {},
   "outputs": [],
   "source": [
    "from sklearn.model_selection import train_test_split\n",
    "X_train,X_test,y_train,y_test = train_test_split(features,target,test_size=0.2,random_state=42, shuffle=True, stratify=target)"
   ]
  },
  {
   "cell_type": "code",
   "execution_count": 11,
   "id": "8d980c5d",
   "metadata": {},
   "outputs": [],
   "source": [
    "X_train = tfidf.fit_transform(X_train)\n",
    "X_test = tfidf.transform(X_test)"
   ]
  },
  {
   "cell_type": "code",
   "execution_count": 12,
   "id": "399fdb15",
   "metadata": {},
   "outputs": [],
   "source": [
    "##hyperparameter tunning\n",
    "# param = {\n",
    "#     'n_estimators':[100,200,300,500,800,1000],\n",
    "#     'min_child_weight':[0.1,0.5,1,2,2.5,3.0],\n",
    "#     'gamma':[0.01,0.1,0.5,1.0,2.0,5.0],\n",
    "#     'colsample_bytree':[0.5,0.01,0.05,1.0,2.0,5.0]\n",
    "# }\n",
    "# from sklearn.model_selection import RandomizedSearchCV\n",
    "# xgb = XGBClassifier()\n",
    "# xgb_classifer = RandomizedSearchCV(estimator=xgb,param_distributions=param,n_iter=10,\n",
    "#                                   cv=5,verbose=1,random_state=42,n_jobs=4)"
   ]
  },
  {
   "cell_type": "code",
   "execution_count": 13,
   "id": "288cac2c",
   "metadata": {},
   "outputs": [],
   "source": [
    "# xgb_classifer.fit(X_train,y_train)"
   ]
  },
  {
   "cell_type": "code",
   "execution_count": 14,
   "id": "2b3d4852",
   "metadata": {},
   "outputs": [],
   "source": [
    "# xgb_classifer.best_estimator_"
   ]
  },
  {
   "cell_type": "code",
   "execution_count": 15,
   "id": "1ee85f6c",
   "metadata": {},
   "outputs": [],
   "source": [
    "# # from xgboost import XGBClassifier\n",
    "# xgb = XGBClassifier(n_estimator=200,min_child_weight=1,\n",
    "#                    gamma=0.5,colsample_bytree = 0.5)\n",
    "from sklearn.multiclass import OneVsRestClassifier\n",
    "# onevsmodel = OneVsRestClassifier(xgb)\n",
    "xgbc =XGBClassifier(base_score=0.5, booster='gbtree', colsample_bylevel=1,\n",
    "              colsample_bynode=1, colsample_bytree=1.0, gamma=5.0, gpu_id=-1,\n",
    "              importance_type='gain',\n",
    "              learning_rate=0.300000012, max_depth=6,\n",
    "              min_child_weight=3.0, monotone_constraints='()',\n",
    "              n_estimators=300, n_jobs=8, num_parallel_tree=1,\n",
    "              reg_lambda=1, scale_pos_weight=None, subsample=1,\n",
    "              tree_method='exact', validate_parameters=1)\n",
    "onevsmodel = OneVsRestClassifier(xgbc)"
   ]
  },
  {
   "cell_type": "code",
   "execution_count": 16,
   "id": "918fb746",
   "metadata": {},
   "outputs": [
    {
     "name": "stdout",
     "output_type": "stream",
     "text": [
      "[15:13:43] WARNING: C:/Users/Administrator/workspace/xgboost-win64_release_1.4.0/src/learner.cc:1095: Starting in XGBoost 1.3.0, the default evaluation metric used with the objective 'binary:logistic' was changed from 'error' to 'logloss'. Explicitly set eval_metric if you'd like to restore the old behavior.\n",
      "[15:13:51] WARNING: C:/Users/Administrator/workspace/xgboost-win64_release_1.4.0/src/learner.cc:1095: Starting in XGBoost 1.3.0, the default evaluation metric used with the objective 'binary:logistic' was changed from 'error' to 'logloss'. Explicitly set eval_metric if you'd like to restore the old behavior.\n",
      "[15:14:09] WARNING: C:/Users/Administrator/workspace/xgboost-win64_release_1.4.0/src/learner.cc:1095: Starting in XGBoost 1.3.0, the default evaluation metric used with the objective 'binary:logistic' was changed from 'error' to 'logloss'. Explicitly set eval_metric if you'd like to restore the old behavior.\n",
      "[15:14:25] WARNING: C:/Users/Administrator/workspace/xgboost-win64_release_1.4.0/src/learner.cc:1095: Starting in XGBoost 1.3.0, the default evaluation metric used with the objective 'binary:logistic' was changed from 'error' to 'logloss'. Explicitly set eval_metric if you'd like to restore the old behavior.\n",
      "[15:14:45] WARNING: C:/Users/Administrator/workspace/xgboost-win64_release_1.4.0/src/learner.cc:1095: Starting in XGBoost 1.3.0, the default evaluation metric used with the objective 'binary:logistic' was changed from 'error' to 'logloss'. Explicitly set eval_metric if you'd like to restore the old behavior.\n",
      "[15:15:06] WARNING: C:/Users/Administrator/workspace/xgboost-win64_release_1.4.0/src/learner.cc:1095: Starting in XGBoost 1.3.0, the default evaluation metric used with the objective 'binary:logistic' was changed from 'error' to 'logloss'. Explicitly set eval_metric if you'd like to restore the old behavior.\n",
      "[15:15:10] WARNING: C:/Users/Administrator/workspace/xgboost-win64_release_1.4.0/src/learner.cc:1095: Starting in XGBoost 1.3.0, the default evaluation metric used with the objective 'binary:logistic' was changed from 'error' to 'logloss'. Explicitly set eval_metric if you'd like to restore the old behavior.\n",
      "[15:15:24] WARNING: C:/Users/Administrator/workspace/xgboost-win64_release_1.4.0/src/learner.cc:1095: Starting in XGBoost 1.3.0, the default evaluation metric used with the objective 'binary:logistic' was changed from 'error' to 'logloss'. Explicitly set eval_metric if you'd like to restore the old behavior.\n",
      "[15:15:40] WARNING: C:/Users/Administrator/workspace/xgboost-win64_release_1.4.0/src/learner.cc:1095: Starting in XGBoost 1.3.0, the default evaluation metric used with the objective 'binary:logistic' was changed from 'error' to 'logloss'. Explicitly set eval_metric if you'd like to restore the old behavior.\n",
      "[15:16:01] WARNING: C:/Users/Administrator/workspace/xgboost-win64_release_1.4.0/src/learner.cc:1095: Starting in XGBoost 1.3.0, the default evaluation metric used with the objective 'binary:logistic' was changed from 'error' to 'logloss'. Explicitly set eval_metric if you'd like to restore the old behavior.\n",
      "[15:16:04] WARNING: C:/Users/Administrator/workspace/xgboost-win64_release_1.4.0/src/learner.cc:1095: Starting in XGBoost 1.3.0, the default evaluation metric used with the objective 'binary:logistic' was changed from 'error' to 'logloss'. Explicitly set eval_metric if you'd like to restore the old behavior.\n",
      "[15:16:13] WARNING: C:/Users/Administrator/workspace/xgboost-win64_release_1.4.0/src/learner.cc:1095: Starting in XGBoost 1.3.0, the default evaluation metric used with the objective 'binary:logistic' was changed from 'error' to 'logloss'. Explicitly set eval_metric if you'd like to restore the old behavior.\n",
      "[15:16:15] WARNING: C:/Users/Administrator/workspace/xgboost-win64_release_1.4.0/src/learner.cc:1095: Starting in XGBoost 1.3.0, the default evaluation metric used with the objective 'binary:logistic' was changed from 'error' to 'logloss'. Explicitly set eval_metric if you'd like to restore the old behavior.\n",
      "[15:16:28] WARNING: C:/Users/Administrator/workspace/xgboost-win64_release_1.4.0/src/learner.cc:1095: Starting in XGBoost 1.3.0, the default evaluation metric used with the objective 'binary:logistic' was changed from 'error' to 'logloss'. Explicitly set eval_metric if you'd like to restore the old behavior.\n",
      "[15:16:35] WARNING: C:/Users/Administrator/workspace/xgboost-win64_release_1.4.0/src/learner.cc:1095: Starting in XGBoost 1.3.0, the default evaluation metric used with the objective 'binary:logistic' was changed from 'error' to 'logloss'. Explicitly set eval_metric if you'd like to restore the old behavior.\n",
      "[15:16:38] WARNING: C:/Users/Administrator/workspace/xgboost-win64_release_1.4.0/src/learner.cc:1095: Starting in XGBoost 1.3.0, the default evaluation metric used with the objective 'binary:logistic' was changed from 'error' to 'logloss'. Explicitly set eval_metric if you'd like to restore the old behavior.\n",
      "[15:16:44] WARNING: C:/Users/Administrator/workspace/xgboost-win64_release_1.4.0/src/learner.cc:1095: Starting in XGBoost 1.3.0, the default evaluation metric used with the objective 'binary:logistic' was changed from 'error' to 'logloss'. Explicitly set eval_metric if you'd like to restore the old behavior.\n",
      "[15:16:53] WARNING: C:/Users/Administrator/workspace/xgboost-win64_release_1.4.0/src/learner.cc:1095: Starting in XGBoost 1.3.0, the default evaluation metric used with the objective 'binary:logistic' was changed from 'error' to 'logloss'. Explicitly set eval_metric if you'd like to restore the old behavior.\n",
      "[15:16:56] WARNING: C:/Users/Administrator/workspace/xgboost-win64_release_1.4.0/src/learner.cc:1095: Starting in XGBoost 1.3.0, the default evaluation metric used with the objective 'binary:logistic' was changed from 'error' to 'logloss'. Explicitly set eval_metric if you'd like to restore the old behavior.\n",
      "[15:16:59] WARNING: C:/Users/Administrator/workspace/xgboost-win64_release_1.4.0/src/learner.cc:1095: Starting in XGBoost 1.3.0, the default evaluation metric used with the objective 'binary:logistic' was changed from 'error' to 'logloss'. Explicitly set eval_metric if you'd like to restore the old behavior.\n",
      "[15:17:08] WARNING: C:/Users/Administrator/workspace/xgboost-win64_release_1.4.0/src/learner.cc:1095: Starting in XGBoost 1.3.0, the default evaluation metric used with the objective 'binary:logistic' was changed from 'error' to 'logloss'. Explicitly set eval_metric if you'd like to restore the old behavior.\n",
      "[15:17:11] WARNING: C:/Users/Administrator/workspace/xgboost-win64_release_1.4.0/src/learner.cc:1095: Starting in XGBoost 1.3.0, the default evaluation metric used with the objective 'binary:logistic' was changed from 'error' to 'logloss'. Explicitly set eval_metric if you'd like to restore the old behavior.\n",
      "[15:17:20] WARNING: C:/Users/Administrator/workspace/xgboost-win64_release_1.4.0/src/learner.cc:1095: Starting in XGBoost 1.3.0, the default evaluation metric used with the objective 'binary:logistic' was changed from 'error' to 'logloss'. Explicitly set eval_metric if you'd like to restore the old behavior.\n",
      "[15:17:23] WARNING: C:/Users/Administrator/workspace/xgboost-win64_release_1.4.0/src/learner.cc:1095: Starting in XGBoost 1.3.0, the default evaluation metric used with the objective 'binary:logistic' was changed from 'error' to 'logloss'. Explicitly set eval_metric if you'd like to restore the old behavior.\n",
      "[15:17:26] WARNING: C:/Users/Administrator/workspace/xgboost-win64_release_1.4.0/src/learner.cc:1095: Starting in XGBoost 1.3.0, the default evaluation metric used with the objective 'binary:logistic' was changed from 'error' to 'logloss'. Explicitly set eval_metric if you'd like to restore the old behavior.\n",
      "[15:17:34] WARNING: C:/Users/Administrator/workspace/xgboost-win64_release_1.4.0/src/learner.cc:1095: Starting in XGBoost 1.3.0, the default evaluation metric used with the objective 'binary:logistic' was changed from 'error' to 'logloss'. Explicitly set eval_metric if you'd like to restore the old behavior.\n",
      "[15:17:37] WARNING: C:/Users/Administrator/workspace/xgboost-win64_release_1.4.0/src/learner.cc:1095: Starting in XGBoost 1.3.0, the default evaluation metric used with the objective 'binary:logistic' was changed from 'error' to 'logloss'. Explicitly set eval_metric if you'd like to restore the old behavior.\n",
      "[15:17:44] WARNING: C:/Users/Administrator/workspace/xgboost-win64_release_1.4.0/src/learner.cc:1095: Starting in XGBoost 1.3.0, the default evaluation metric used with the objective 'binary:logistic' was changed from 'error' to 'logloss'. Explicitly set eval_metric if you'd like to restore the old behavior.\n",
      "[15:17:54] WARNING: C:/Users/Administrator/workspace/xgboost-win64_release_1.4.0/src/learner.cc:1095: Starting in XGBoost 1.3.0, the default evaluation metric used with the objective 'binary:logistic' was changed from 'error' to 'logloss'. Explicitly set eval_metric if you'd like to restore the old behavior.\n",
      "[15:17:56] WARNING: C:/Users/Administrator/workspace/xgboost-win64_release_1.4.0/src/learner.cc:1095: Starting in XGBoost 1.3.0, the default evaluation metric used with the objective 'binary:logistic' was changed from 'error' to 'logloss'. Explicitly set eval_metric if you'd like to restore the old behavior.\n",
      "[15:17:59] WARNING: C:/Users/Administrator/workspace/xgboost-win64_release_1.4.0/src/learner.cc:1095: Starting in XGBoost 1.3.0, the default evaluation metric used with the objective 'binary:logistic' was changed from 'error' to 'logloss'. Explicitly set eval_metric if you'd like to restore the old behavior.\n",
      "[15:18:12] WARNING: C:/Users/Administrator/workspace/xgboost-win64_release_1.4.0/src/learner.cc:1095: Starting in XGBoost 1.3.0, the default evaluation metric used with the objective 'binary:logistic' was changed from 'error' to 'logloss'. Explicitly set eval_metric if you'd like to restore the old behavior.\n",
      "[15:18:22] WARNING: C:/Users/Administrator/workspace/xgboost-win64_release_1.4.0/src/learner.cc:1095: Starting in XGBoost 1.3.0, the default evaluation metric used with the objective 'binary:logistic' was changed from 'error' to 'logloss'. Explicitly set eval_metric if you'd like to restore the old behavior.\n",
      "[15:18:32] WARNING: C:/Users/Administrator/workspace/xgboost-win64_release_1.4.0/src/learner.cc:1095: Starting in XGBoost 1.3.0, the default evaluation metric used with the objective 'binary:logistic' was changed from 'error' to 'logloss'. Explicitly set eval_metric if you'd like to restore the old behavior.\n",
      "[15:18:35] WARNING: C:/Users/Administrator/workspace/xgboost-win64_release_1.4.0/src/learner.cc:1095: Starting in XGBoost 1.3.0, the default evaluation metric used with the objective 'binary:logistic' was changed from 'error' to 'logloss'. Explicitly set eval_metric if you'd like to restore the old behavior.\n",
      "[15:18:38] WARNING: C:/Users/Administrator/workspace/xgboost-win64_release_1.4.0/src/learner.cc:1095: Starting in XGBoost 1.3.0, the default evaluation metric used with the objective 'binary:logistic' was changed from 'error' to 'logloss'. Explicitly set eval_metric if you'd like to restore the old behavior.\n",
      "[15:18:41] WARNING: C:/Users/Administrator/workspace/xgboost-win64_release_1.4.0/src/learner.cc:1095: Starting in XGBoost 1.3.0, the default evaluation metric used with the objective 'binary:logistic' was changed from 'error' to 'logloss'. Explicitly set eval_metric if you'd like to restore the old behavior.\n",
      "[15:18:44] WARNING: C:/Users/Administrator/workspace/xgboost-win64_release_1.4.0/src/learner.cc:1095: Starting in XGBoost 1.3.0, the default evaluation metric used with the objective 'binary:logistic' was changed from 'error' to 'logloss'. Explicitly set eval_metric if you'd like to restore the old behavior.\n",
      "[15:18:48] WARNING: C:/Users/Administrator/workspace/xgboost-win64_release_1.4.0/src/learner.cc:1095: Starting in XGBoost 1.3.0, the default evaluation metric used with the objective 'binary:logistic' was changed from 'error' to 'logloss'. Explicitly set eval_metric if you'd like to restore the old behavior.\n",
      "[15:18:57] WARNING: C:/Users/Administrator/workspace/xgboost-win64_release_1.4.0/src/learner.cc:1095: Starting in XGBoost 1.3.0, the default evaluation metric used with the objective 'binary:logistic' was changed from 'error' to 'logloss'. Explicitly set eval_metric if you'd like to restore the old behavior.\n",
      "[15:19:00] WARNING: C:/Users/Administrator/workspace/xgboost-win64_release_1.4.0/src/learner.cc:1095: Starting in XGBoost 1.3.0, the default evaluation metric used with the objective 'binary:logistic' was changed from 'error' to 'logloss'. Explicitly set eval_metric if you'd like to restore the old behavior.\n",
      "[15:19:16] WARNING: C:/Users/Administrator/workspace/xgboost-win64_release_1.4.0/src/learner.cc:1095: Starting in XGBoost 1.3.0, the default evaluation metric used with the objective 'binary:logistic' was changed from 'error' to 'logloss'. Explicitly set eval_metric if you'd like to restore the old behavior.\n",
      "[15:19:19] WARNING: C:/Users/Administrator/workspace/xgboost-win64_release_1.4.0/src/learner.cc:1095: Starting in XGBoost 1.3.0, the default evaluation metric used with the objective 'binary:logistic' was changed from 'error' to 'logloss'. Explicitly set eval_metric if you'd like to restore the old behavior.\n",
      "[15:19:29] WARNING: C:/Users/Administrator/workspace/xgboost-win64_release_1.4.0/src/learner.cc:1095: Starting in XGBoost 1.3.0, the default evaluation metric used with the objective 'binary:logistic' was changed from 'error' to 'logloss'. Explicitly set eval_metric if you'd like to restore the old behavior.\n",
      "[15:19:33] WARNING: C:/Users/Administrator/workspace/xgboost-win64_release_1.4.0/src/learner.cc:1095: Starting in XGBoost 1.3.0, the default evaluation metric used with the objective 'binary:logistic' was changed from 'error' to 'logloss'. Explicitly set eval_metric if you'd like to restore the old behavior.\n"
     ]
    },
    {
     "data": {
      "text/plain": [
       "OneVsRestClassifier(estimator=XGBClassifier(base_score=0.5, booster='gbtree',\n",
       "                                            colsample_bylevel=1,\n",
       "                                            colsample_bynode=1,\n",
       "                                            colsample_bytree=1.0, gamma=5.0,\n",
       "                                            gpu_id=-1, importance_type='gain',\n",
       "                                            interaction_constraints=None,\n",
       "                                            learning_rate=0.300000012,\n",
       "                                            max_delta_step=None, max_depth=6,\n",
       "                                            min_child_weight=3.0, missing=nan,\n",
       "                                            monotone_constraints='()',\n",
       "                                            n_estimators=300, n_jobs=8,\n",
       "                                            num_parallel_tree=1,\n",
       "                                            random_state=None, reg_alpha=None,\n",
       "                                            reg_lambda=1, scale_pos_weight=None,\n",
       "                                            subsample=1, tree_method='exact',\n",
       "                                            validate_parameters=1,\n",
       "                                            verbosity=None))"
      ]
     },
     "execution_count": 16,
     "metadata": {},
     "output_type": "execute_result"
    }
   ],
   "source": [
    "onevsmodel.fit(X_train, y_train)"
   ]
  },
  {
   "cell_type": "code",
   "execution_count": 17,
   "id": "5f36011e",
   "metadata": {},
   "outputs": [],
   "source": [
    "xgpred = onevsmodel.predict(X_train)\n",
    "xgpred_t = onevsmodel.predict(X_test)"
   ]
  },
  {
   "cell_type": "code",
   "execution_count": 18,
   "id": "3e2e7756",
   "metadata": {},
   "outputs": [
    {
     "name": "stdout",
     "output_type": "stream",
     "text": [
      "training Accuracy: 0.9738751814223512\n",
      "training Accuracy: 0.7880986937590712\n"
     ]
    }
   ],
   "source": [
    "from sklearn.metrics import accuracy_score, classification_report\n",
    "print(\"training Accuracy:\",accuracy_score(y_train,xgpred))\n",
    "print(\"training Accuracy:\",accuracy_score(y_test,xgpred_t))"
   ]
  },
  {
   "cell_type": "code",
   "execution_count": 19,
   "id": "3aefd3eb",
   "metadata": {},
   "outputs": [
    {
     "data": {
      "text/plain": [
       "scipy.sparse.csr.csr_matrix"
      ]
     },
     "execution_count": 19,
     "metadata": {},
     "output_type": "execute_result"
    }
   ],
   "source": [
    "# x = data['lemmatize_data'][0]\n",
    "type(X_train)"
   ]
  },
  {
   "cell_type": "code",
   "execution_count": 21,
   "id": "eff3ed0c",
   "metadata": {},
   "outputs": [],
   "source": [
    "dt = tfidf.transform([\"yadav narayan hari  student at university of mumbai  github    hackerrank    linkedin     yashwant nagar  teen dongri near pathak hotel goregaon west mumbai        maharashtra             narayanh     gmail com  experience  skills  ineuron intelligence pvt ltd  bangalore   internship  august        january       during internship with ineuron  they have allotted individual projects to  every one  i have done two projects   news article sorting  and   jobseeker web application       python  django  framework    mysql  database     machine learning   nlp  statistics  deep  learning       gcp  achievements  google facilitator program public pro le    public pro les    aab     a         f    e  fb       platforms    windows       anaconda     jupyter notebook    vs code ide   languages  hindi  english   education  patkar varde college  mumbai  b sc  it   july        july       in b sc it  i have secured a score of          i c  durgaganj bhadohi  uttar pradesh   hsc  july        july       in hsc  i have secured a score of          projects  jobseeker web application   python  django  jobseeker web application provides an easy process to apply for any  jobs or publish any jobs within a single click   github  repo     application link     news article sorting   python  django ml nlp  sort any news article within     or less than   second  this project can sort   ve di erent classes of news  business sports politics technical and  entertainment   github repo     application link \"])\n",
    "# res = model_log.predict_proba(dt)\n",
    "p = onevsmodel.predict_proba(dt)"
   ]
  },
  {
   "cell_type": "code",
   "execution_count": 23,
   "id": "cf348c52",
   "metadata": {},
   "outputs": [
    {
     "name": "stdout",
     "output_type": "stream",
     "text": [
      "[[0.01253081 0.01955539 0.03904641 0.01589825 0.02129463 0.00745935\n",
      "  0.01823583 0.02660281 0.01626491 0.00713748 0.00943545 0.01719731\n",
      "  0.01456781 0.01772186 0.00751157 0.01163685 0.01256373 0.21676873\n",
      "  0.00632786 0.01061911 0.00647864 0.02486523 0.00726428 0.00683319\n",
      "  0.01195015 0.00675566 0.01303892 0.01224672 0.0064799  0.00725932\n",
      "  0.00984119 0.01086606 0.01259851 0.00719598 0.00672255 0.00923767\n",
      "  0.01028666 0.00556092 0.0260731  0.07461278 0.01324895 0.00573927\n",
      "  0.01181081 0.02309625 0.1615611 ]]\n"
     ]
    }
   ],
   "source": [
    "print(p)"
   ]
  },
  {
   "cell_type": "code",
   "execution_count": 24,
   "id": "45a69458",
   "metadata": {},
   "outputs": [],
   "source": [
    "n = np.arange(1,10)"
   ]
  },
  {
   "cell_type": "code",
   "execution_count": 25,
   "id": "ff5ffaf7",
   "metadata": {},
   "outputs": [
    {
     "data": {
      "text/plain": [
       "array([1, 2, 3, 4, 5, 6, 7, 8, 9])"
      ]
     },
     "execution_count": 25,
     "metadata": {},
     "output_type": "execute_result"
    }
   ],
   "source": [
    "n"
   ]
  },
  {
   "cell_type": "code",
   "execution_count": null,
   "id": "f905a42f",
   "metadata": {},
   "outputs": [],
   "source": []
  }
 ],
 "metadata": {
  "kernelspec": {
   "display_name": "Python 3 (ipykernel)",
   "language": "python",
   "name": "python3"
  },
  "language_info": {
   "codemirror_mode": {
    "name": "ipython",
    "version": 3
   },
   "file_extension": ".py",
   "mimetype": "text/x-python",
   "name": "python",
   "nbconvert_exporter": "python",
   "pygments_lexer": "ipython3",
   "version": "3.8.5"
  }
 },
 "nbformat": 4,
 "nbformat_minor": 5
}
