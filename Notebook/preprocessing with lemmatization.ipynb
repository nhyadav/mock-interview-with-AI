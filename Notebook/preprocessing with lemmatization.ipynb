{
 "cells": [
  {
   "cell_type": "code",
   "execution_count": 22,
   "id": "f075ee7e",
   "metadata": {},
   "outputs": [],
   "source": [
    "import pandas as pd\n",
    "import numpy as np\n",
    "import matplotlib.pyplot as plt\n",
    "import pickle\n"
   ]
  },
  {
   "cell_type": "code",
   "execution_count": 23,
   "id": "1379f362",
   "metadata": {},
   "outputs": [],
   "source": [
    "with open('preprocessed_data.pkl','rb') as data:\n",
    "    pre_data = pickle.load(data)"
   ]
  },
  {
   "cell_type": "code",
   "execution_count": 24,
   "id": "efc55db4",
   "metadata": {},
   "outputs": [
    {
     "data": {
      "text/html": [
       "<div>\n",
       "<style scoped>\n",
       "    .dataframe tbody tr th:only-of-type {\n",
       "        vertical-align: middle;\n",
       "    }\n",
       "\n",
       "    .dataframe tbody tr th {\n",
       "        vertical-align: top;\n",
       "    }\n",
       "\n",
       "    .dataframe thead th {\n",
       "        text-align: right;\n",
       "    }\n",
       "</style>\n",
       "<table border=\"1\" class=\"dataframe\">\n",
       "  <thead>\n",
       "    <tr style=\"text-align: right;\">\n",
       "      <th></th>\n",
       "      <th>ID</th>\n",
       "      <th>Category</th>\n",
       "      <th>cleaned_resume</th>\n",
       "    </tr>\n",
       "  </thead>\n",
       "  <tbody>\n",
       "    <tr>\n",
       "      <th>0</th>\n",
       "      <td>16852973</td>\n",
       "      <td>HR</td>\n",
       "      <td>hr administrator marketing associate ...</td>\n",
       "    </tr>\n",
       "    <tr>\n",
       "      <th>1</th>\n",
       "      <td>22323967</td>\n",
       "      <td>HR</td>\n",
       "      <td>hr specialist  us hr operations      ...</td>\n",
       "    </tr>\n",
       "    <tr>\n",
       "      <th>2</th>\n",
       "      <td>33176873</td>\n",
       "      <td>HR</td>\n",
       "      <td>hr director       summar       over 2...</td>\n",
       "    </tr>\n",
       "    <tr>\n",
       "      <th>3</th>\n",
       "      <td>27018550</td>\n",
       "      <td>HR</td>\n",
       "      <td>hr specialist       summar     dedica...</td>\n",
       "    </tr>\n",
       "    <tr>\n",
       "      <th>4</th>\n",
       "      <td>17812897</td>\n",
       "      <td>HR</td>\n",
       "      <td>hr manager         skill highlights  ...</td>\n",
       "    </tr>\n",
       "    <tr>\n",
       "      <th>...</th>\n",
       "      <td>...</td>\n",
       "      <td>...</td>\n",
       "      <td>...</td>\n",
       "    </tr>\n",
       "    <tr>\n",
       "      <th>2479</th>\n",
       "      <td>99416532</td>\n",
       "      <td>AVIATION</td>\n",
       "      <td>rank  sgt e 5 non  commissioned offic...</td>\n",
       "    </tr>\n",
       "    <tr>\n",
       "      <th>2480</th>\n",
       "      <td>24589765</td>\n",
       "      <td>AVIATION</td>\n",
       "      <td>government relations  communications ...</td>\n",
       "    </tr>\n",
       "    <tr>\n",
       "      <th>2481</th>\n",
       "      <td>31605080</td>\n",
       "      <td>AVIATION</td>\n",
       "      <td>geek squad agent         professional...</td>\n",
       "    </tr>\n",
       "    <tr>\n",
       "      <th>2482</th>\n",
       "      <td>21190805</td>\n",
       "      <td>AVIATION</td>\n",
       "      <td>program director   office manager    ...</td>\n",
       "    </tr>\n",
       "    <tr>\n",
       "      <th>2483</th>\n",
       "      <td>37473139</td>\n",
       "      <td>AVIATION</td>\n",
       "      <td>storekeeper ii       professional sum...</td>\n",
       "    </tr>\n",
       "  </tbody>\n",
       "</table>\n",
       "<p>2484 rows × 3 columns</p>\n",
       "</div>"
      ],
      "text/plain": [
       "            ID  Category                                     cleaned_resume\n",
       "0     16852973        HR           hr administrator marketing associate ...\n",
       "1     22323967        HR           hr specialist  us hr operations      ...\n",
       "2     33176873        HR           hr director       summar       over 2...\n",
       "3     27018550        HR           hr specialist       summar     dedica...\n",
       "4     17812897        HR           hr manager         skill highlights  ...\n",
       "...        ...       ...                                                ...\n",
       "2479  99416532  AVIATION           rank  sgt e 5 non  commissioned offic...\n",
       "2480  24589765  AVIATION           government relations  communications ...\n",
       "2481  31605080  AVIATION           geek squad agent         professional...\n",
       "2482  21190805  AVIATION           program director   office manager    ...\n",
       "2483  37473139  AVIATION           storekeeper ii       professional sum...\n",
       "\n",
       "[2484 rows x 3 columns]"
      ]
     },
     "execution_count": 24,
     "metadata": {},
     "output_type": "execute_result"
    }
   ],
   "source": [
    "pre_data"
   ]
  },
  {
   "cell_type": "code",
   "execution_count": 25,
   "id": "8eeafa8e",
   "metadata": {},
   "outputs": [],
   "source": [
    "import seaborn as sns\n",
    "import nltk\n",
    "from nltk.corpus import stopwords"
   ]
  },
  {
   "cell_type": "code",
   "execution_count": 26,
   "id": "cf1a29f0",
   "metadata": {},
   "outputs": [
    {
     "data": {
      "text/plain": [
       "<AxesSubplot:xlabel='count', ylabel='Category'>"
      ]
     },
     "execution_count": 26,
     "metadata": {},
     "output_type": "execute_result"
    },
    {
     "data": {
      "image/png": "[encoded data removed]",
      "text/plain": [
       "<Figure size 720x720 with 1 Axes>"
      ]
     },
     "metadata": {
      "needs_background": "light"
     },
     "output_type": "display_data"
    }
   ],
   "source": [
    "#plot the data\n",
    "figure = plt.figure(figsize=(10,10))\n",
    "sns.countplot(y='Category', data=pre_data)"
   ]
  },
  {
   "cell_type": "code",
   "execution_count": 27,
   "id": "6fc89f86",
   "metadata": {},
   "outputs": [],
   "source": [
    "# # tokenizer = nltk.tokenize.word_tokenize\n",
    "# def tokenize(x):\n",
    "#     tokendata = x.split()\n",
    "#     return ' '.join(tokendata)"
   ]
  },
  {
   "cell_type": "code",
   "execution_count": 28,
   "id": "fae92d8e",
   "metadata": {},
   "outputs": [],
   "source": [
    "# tokenize the sentances.\n",
    "# pre_data['tokenize_data'] = pre_data.cleaned_resume.apply(lambda x:tokenize(x))"
   ]
  },
  {
   "cell_type": "code",
   "execution_count": 29,
   "id": "3a9054ce",
   "metadata": {},
   "outputs": [],
   "source": [
    "# pre_data['tokenize_data'].head()\n",
    "# stopwords.words('english')"
   ]
  },
  {
   "cell_type": "code",
   "execution_count": 30,
   "id": "8a7e6704",
   "metadata": {},
   "outputs": [],
   "source": [
    "# remove the stopword and lemmatize\n",
    "from nltk.stem import WordNetLemmatizer\n",
    "\n",
    "lemmatizer = WordNetLemmatizer()\n",
    "\n",
    "def removestopword(x):\n",
    "    data = x.split()\n",
    "    data = [lemmatizer.lemmatize(word) for word in data if word not in set(stopwords.words('english'))]\n",
    "    return ' '.join(data)"
   ]
  },
  {
   "cell_type": "code",
   "execution_count": 31,
   "id": "7dd7bb1a",
   "metadata": {},
   "outputs": [],
   "source": [
    "pre_data['lemmatize_data'] = pre_data.cleaned_resume.apply(lambda x:removestopword(x))"
   ]
  },
  {
   "cell_type": "code",
   "execution_count": 32,
   "id": "e2b82916",
   "metadata": {},
   "outputs": [
    {
     "data": {
      "text/plain": [
       "'         hr administrator marketing associate  hr administrator       summar      dedicated customer service manager with 15   ears of experience in hospitalit  and customer service management    respected builder and leader of customer focused teams  strives to instill a shared  enthusiastic commitment to customer service          highlights         focused on customer satisfaction  team management  marketing savv   conflict resolution techniques     training and development  skilled multi tasker  client relations specialist           a omplishments      missouri dot supervisor training certification  certified b  ihg in customer lo alt  and marketing b  segment   hilton worldwide general manager training certification  a omplished trainer for cross server hospitalit  s stems such as    hilton onq      micros    opera pms     fidelio    opera    reservation s stem  ors      holidex    completed courses and seminars in customer service  sales strategies  inventor  control  loss prevention  safet   time management  leadership and performance assessment         experience      hr administrator marketing associate  hr administrator     dec 2013   to   current      compan  name       cit       state     helps to develop policies  directs and coordinates activities such as emplo ment  compensation  labor relations  benefits  training  and emplo ee services   prepares emplo ee separation notices and related documentation  keeps records of benefits plans participation such as insurance and pension plan  personnel transactions such as hires  promotions  transfers  performance reviews  and terminations  and emplo ee statistics for government reporting   advises management in appropriate resolution of emplo ee relations issues   administers benefits programs such as life  health  dental  insurance  pension plans  vacation  sick leave  leave of absence  and emplo ee assistance      marketing associate     designed and created marketing collateral for sales meetings  trade shows and compan  executives   managed the in house advertising program consisting of print and media collateral pieces   assisted in the complete design and launch of the compan  s website in 2 months   created an official compan  page on facebook to facilitate interaction with customers   anal  ed ratings and programming features of competitors to evaluate the effectiveness of marketing strategies          advanced medical claims anal st     mar 2012   to   dec 2013      compan  name       cit       state     reviewed medical bills for the a urac  of the treatments  tests  and hospital sta s prior to sanctioning the claims   trained to interpret the codes  icd 9  cpt  and terminolog  commonl  used in medical billing to full  understand the paperwork that is submitted b  healthcare providers   required to have organi ational and anal tical skills as well as computer skills  knowledge of medical terminolog  and procedures  statistics  billing standards  data anal sis and laws regarding medical billing          assistant general manager     jun 2010   to   dec 2010      compan  name       cit       state     performed duties including but not limited to  budgeting and financial management  a ounting  human resources  pa roll and purchasing   established and maintained close working relationships with all departments of the hotel to ensure maximum operation  productivit   morale and guest service   handled dail  operations and reported directl  to the corporate office   hired and trained staff on overall objectives and goals with an emphasis on high customer service   marketing and advertising  working on public relations with the media  government and local businesses and chamber of commerce          executive support   marketing assistant     jul 2007   to   jun 2010      compan  name       cit       state     provided assistance to various department heads   executive  marketing  customer service  human resources   managed front end operations to ensure friendl  and efficient transactions   ensured the swift resolution of customer issues to preserve customer lo alt  while compl ing with compan  policies   exemplified the second to none customer service deliver  in all interactions with customers and potential clients          reservation   front office manager     jun 2004   to   jul 2007      compan  name       cit       state          owner  partner     dec 2001   to   ma  2004      compan  name       cit       state          price integrit  coordinator     aug 1999   to   dec 2001      compan  name       cit       state          education      n a      business administration   1999     jefferson college       cit       state       business administration  marketing   advertising         high school diploma      college prep  studies   1998     sainte genevieve senior high       cit       state       awarded american shrubel leadership scholarship to jefferson college         skills     a ounting  ads  advertising  anal tical skills  benefits  billing  budgeting  clients  customer service  data anal sis  deliver   documentation  emplo ee relations  financial management  government relations  human resources  insurance  labor relations  la out  marketing  marketing collateral  medical billing  medical terminolog   office  organi ational  pa roll  performance reviews  personnel  policies  posters  presentations  public relations  purchasing  reporting  statistics  website '"
      ]
     },
     "execution_count": 32,
     "metadata": {},
     "output_type": "execute_result"
    }
   ],
   "source": [
    "pre_data['cleaned_resume'][0]"
   ]
  },
  {
   "cell_type": "code",
   "execution_count": 33,
   "id": "10d6856b",
   "metadata": {},
   "outputs": [
    {
     "data": {
      "text/plain": [
       "'hr administrator marketing associate hr administrator summar dedicated customer service manager 15 ear experience hospitalit customer service management respected builder leader customer focused team strives instill shared enthusiastic commitment customer service highlight focused customer satisfaction team management marketing savv conflict resolution technique training development skilled multi tasker client relation specialist omplishments missouri dot supervisor training certification certified b ihg customer lo alt marketing b segment hilton worldwide general manager training certification omplished trainer cross server hospitalit stem hilton onq micros opera pm fidelio opera reservation stem or holidex completed course seminar customer service sale strategy inventor control loss prevention safet time management leadership performance assessment experience hr administrator marketing associate hr administrator dec 2013 current compan name cit state help develop policy directs coordinate activity emplo ment compensation labor relation benefit training emplo ee service prepares emplo ee separation notice related documentation keep record benefit plan participation insurance pension plan personnel transaction hire promotion transfer performance review termination emplo ee statistic government reporting advises management appropriate resolution emplo ee relation issue administers benefit program life health dental insurance pension plan vacation sick leave leave absence emplo ee assistance marketing associate designed created marketing collateral sale meeting trade show compan executive managed house advertising program consisting print medium collateral piece assisted complete design launch compan website 2 month created official compan page facebook facilitate interaction customer anal ed rating programming feature competitor evaluate effectiveness marketing strategy advanced medical claim anal st mar 2012 dec 2013 compan name cit state reviewed medical bill urac treatment test hospital sta prior sanctioning claim trained interpret code icd 9 cpt terminolog commonl used medical billing full understand paperwork submitted b healthcare provider required organi ational anal tical skill well computer skill knowledge medical terminolog procedure statistic billing standard data anal si law regarding medical billing assistant general manager jun 2010 dec 2010 compan name cit state performed duty including limited budgeting financial management ounting human resource pa roll purchasing established maintained close working relationship department hotel ensure maximum operation productivit morale guest service handled dail operation reported directl corporate office hired trained staff overall objective goal emphasis high customer service marketing advertising working public relation medium government local business chamber commerce executive support marketing assistant jul 2007 jun 2010 compan name cit state provided assistance various department head executive marketing customer service human resource managed front end operation ensure friendl efficient transaction ensured swift resolution customer issue preserve customer lo alt compl ing compan policy exemplified second none customer service deliver interaction customer potential client reservation front office manager jun 2004 jul 2007 compan name cit state owner partner dec 2001 2004 compan name cit state price integrit coordinator aug 1999 dec 2001 compan name cit state education n business administration 1999 jefferson college cit state business administration marketing advertising high school diploma college prep study 1998 sainte genevieve senior high cit state awarded american shrubel leadership scholarship jefferson college skill ounting ad advertising anal tical skill benefit billing budgeting client customer service data anal si deliver documentation emplo ee relation financial management government relation human resource insurance labor relation la marketing marketing collateral medical billing medical terminolog office organi ational pa roll performance review personnel policy poster presentation public relation purchasing reporting statistic website'"
      ]
     },
     "execution_count": 33,
     "metadata": {},
     "output_type": "execute_result"
    }
   ],
   "source": [
    "pre_data['lemmatize_data'][0]"
   ]
  },
  {
   "cell_type": "code",
   "execution_count": 34,
   "id": "0ccce962",
   "metadata": {},
   "outputs": [],
   "source": [
    "token = nltk.tokenize.word_tokenize\n",
    "def tokenize(x):\n",
    "    data = token(x)\n",
    "    return data"
   ]
  },
  {
   "cell_type": "code",
   "execution_count": 35,
   "id": "3d80b23d",
   "metadata": {},
   "outputs": [],
   "source": [
    "pre_data['tokenize_data'] = pre_data.lemmatize_data.apply(lambda x:tokenize(x))"
   ]
  },
  {
   "cell_type": "code",
   "execution_count": 36,
   "id": "68a99558",
   "metadata": {},
   "outputs": [
    {
     "data": {
      "text/html": [
       "<div>\n",
       "<style scoped>\n",
       "    .dataframe tbody tr th:only-of-type {\n",
       "        vertical-align: middle;\n",
       "    }\n",
       "\n",
       "    .dataframe tbody tr th {\n",
       "        vertical-align: top;\n",
       "    }\n",
       "\n",
       "    .dataframe thead th {\n",
       "        text-align: right;\n",
       "    }\n",
       "</style>\n",
       "<table border=\"1\" class=\"dataframe\">\n",
       "  <thead>\n",
       "    <tr style=\"text-align: right;\">\n",
       "      <th></th>\n",
       "      <th>ID</th>\n",
       "      <th>Category</th>\n",
       "      <th>cleaned_resume</th>\n",
       "      <th>lemmatize_data</th>\n",
       "      <th>tokenize_data</th>\n",
       "    </tr>\n",
       "  </thead>\n",
       "  <tbody>\n",
       "    <tr>\n",
       "      <th>0</th>\n",
       "      <td>16852973</td>\n",
       "      <td>HR</td>\n",
       "      <td>hr administrator marketing associate ...</td>\n",
       "      <td>hr administrator marketing associate hr admini...</td>\n",
       "      <td>[hr, administrator, marketing, associate, hr, ...</td>\n",
       "    </tr>\n",
       "    <tr>\n",
       "      <th>1</th>\n",
       "      <td>22323967</td>\n",
       "      <td>HR</td>\n",
       "      <td>hr specialist  us hr operations      ...</td>\n",
       "      <td>hr specialist u hr operation summar versatile ...</td>\n",
       "      <td>[hr, specialist, u, hr, operation, summar, ver...</td>\n",
       "    </tr>\n",
       "    <tr>\n",
       "      <th>2</th>\n",
       "      <td>33176873</td>\n",
       "      <td>HR</td>\n",
       "      <td>hr director       summar       over 2...</td>\n",
       "      <td>hr director summar 20 ear experience recruitin...</td>\n",
       "      <td>[hr, director, summar, 20, ear, experience, re...</td>\n",
       "    </tr>\n",
       "    <tr>\n",
       "      <th>3</th>\n",
       "      <td>27018550</td>\n",
       "      <td>HR</td>\n",
       "      <td>hr specialist       summar     dedica...</td>\n",
       "      <td>hr specialist summar dedicated driven namic 20...</td>\n",
       "      <td>[hr, specialist, summar, dedicated, driven, na...</td>\n",
       "    </tr>\n",
       "    <tr>\n",
       "      <th>4</th>\n",
       "      <td>17812897</td>\n",
       "      <td>HR</td>\n",
       "      <td>hr manager         skill highlights  ...</td>\n",
       "      <td>hr manager skill highlight hr skill hr departm...</td>\n",
       "      <td>[hr, manager, skill, highlight, hr, skill, hr,...</td>\n",
       "    </tr>\n",
       "    <tr>\n",
       "      <th>...</th>\n",
       "      <td>...</td>\n",
       "      <td>...</td>\n",
       "      <td>...</td>\n",
       "      <td>...</td>\n",
       "      <td>...</td>\n",
       "    </tr>\n",
       "    <tr>\n",
       "      <th>2479</th>\n",
       "      <td>99416532</td>\n",
       "      <td>AVIATION</td>\n",
       "      <td>rank  sgt e 5 non  commissioned offic...</td>\n",
       "      <td>rank sgt e 5 non commissioned officer charge b...</td>\n",
       "      <td>[rank, sgt, e, 5, non, commissioned, officer, ...</td>\n",
       "    </tr>\n",
       "    <tr>\n",
       "      <th>2480</th>\n",
       "      <td>24589765</td>\n",
       "      <td>AVIATION</td>\n",
       "      <td>government relations  communications ...</td>\n",
       "      <td>government relation communication organi ation...</td>\n",
       "      <td>[government, relation, communication, organi, ...</td>\n",
       "    </tr>\n",
       "    <tr>\n",
       "      <th>2481</th>\n",
       "      <td>31605080</td>\n",
       "      <td>AVIATION</td>\n",
       "      <td>geek squad agent         professional...</td>\n",
       "      <td>geek squad agent professional profile support ...</td>\n",
       "      <td>[geek, squad, agent, professional, profile, su...</td>\n",
       "    </tr>\n",
       "    <tr>\n",
       "      <th>2482</th>\n",
       "      <td>21190805</td>\n",
       "      <td>AVIATION</td>\n",
       "      <td>program director   office manager    ...</td>\n",
       "      <td>program director office manager summar highl p...</td>\n",
       "      <td>[program, director, office, manager, summar, h...</td>\n",
       "    </tr>\n",
       "    <tr>\n",
       "      <th>2483</th>\n",
       "      <td>37473139</td>\n",
       "      <td>AVIATION</td>\n",
       "      <td>storekeeper ii       professional sum...</td>\n",
       "      <td>storekeeper ii professional summar purpose doc...</td>\n",
       "      <td>[storekeeper, ii, professional, summar, purpos...</td>\n",
       "    </tr>\n",
       "  </tbody>\n",
       "</table>\n",
       "<p>2484 rows × 5 columns</p>\n",
       "</div>"
      ],
      "text/plain": [
       "            ID  Category                                     cleaned_resume  \\\n",
       "0     16852973        HR           hr administrator marketing associate ...   \n",
       "1     22323967        HR           hr specialist  us hr operations      ...   \n",
       "2     33176873        HR           hr director       summar       over 2...   \n",
       "3     27018550        HR           hr specialist       summar     dedica...   \n",
       "4     17812897        HR           hr manager         skill highlights  ...   \n",
       "...        ...       ...                                                ...   \n",
       "2479  99416532  AVIATION           rank  sgt e 5 non  commissioned offic...   \n",
       "2480  24589765  AVIATION           government relations  communications ...   \n",
       "2481  31605080  AVIATION           geek squad agent         professional...   \n",
       "2482  21190805  AVIATION           program director   office manager    ...   \n",
       "2483  37473139  AVIATION           storekeeper ii       professional sum...   \n",
       "\n",
       "                                         lemmatize_data  \\\n",
       "0     hr administrator marketing associate hr admini...   \n",
       "1     hr specialist u hr operation summar versatile ...   \n",
       "2     hr director summar 20 ear experience recruitin...   \n",
       "3     hr specialist summar dedicated driven namic 20...   \n",
       "4     hr manager skill highlight hr skill hr departm...   \n",
       "...                                                 ...   \n",
       "2479  rank sgt e 5 non commissioned officer charge b...   \n",
       "2480  government relation communication organi ation...   \n",
       "2481  geek squad agent professional profile support ...   \n",
       "2482  program director office manager summar highl p...   \n",
       "2483  storekeeper ii professional summar purpose doc...   \n",
       "\n",
       "                                          tokenize_data  \n",
       "0     [hr, administrator, marketing, associate, hr, ...  \n",
       "1     [hr, specialist, u, hr, operation, summar, ver...  \n",
       "2     [hr, director, summar, 20, ear, experience, re...  \n",
       "3     [hr, specialist, summar, dedicated, driven, na...  \n",
       "4     [hr, manager, skill, highlight, hr, skill, hr,...  \n",
       "...                                                 ...  \n",
       "2479  [rank, sgt, e, 5, non, commissioned, officer, ...  \n",
       "2480  [government, relation, communication, organi, ...  \n",
       "2481  [geek, squad, agent, professional, profile, su...  \n",
       "2482  [program, director, office, manager, summar, h...  \n",
       "2483  [storekeeper, ii, professional, summar, purpos...  \n",
       "\n",
       "[2484 rows x 5 columns]"
      ]
     },
     "execution_count": 36,
     "metadata": {},
     "output_type": "execute_result"
    }
   ],
   "source": [
    "pre_data"
   ]
  },
  {
   "cell_type": "code",
   "execution_count": 37,
   "id": "10437047",
   "metadata": {},
   "outputs": [],
   "source": [
    "with open('token_normlize_data.pkl','wb') as data:\n",
    "    pickle.dump(pre_data,data)"
   ]
  },
  {
   "cell_type": "code",
   "execution_count": 52,
   "id": "ff24925a",
   "metadata": {},
   "outputs": [],
   "source": [
    "# frequency distribution of the word.\n",
    "# data = nltk.tokenize.word_tokenize(pre_data['lemmatize_data'][0])\n",
    "# fre_dist = nltk.FreqDist(pre_data['tokenize_data'][1])\n",
    "# fre_dist.plot(30)\n"
   ]
  },
  {
   "cell_type": "code",
   "execution_count": 34,
   "id": "eefa91f3",
   "metadata": {},
   "outputs": [],
   "source": [
    "# from sklearn.preprocessing import LabelEncoder\n",
    "# lblencoder = LabelEncoder()\n",
    "# pre_data['Category_lbl'] = lblencoder.fit_transform(pre_data['Category'])"
   ]
  },
  {
   "cell_type": "code",
   "execution_count": 35,
   "id": "cc14d862",
   "metadata": {},
   "outputs": [],
   "source": [
    "# from sklearn.feature_extraction.text import TfidfVectorizer\n",
    "# tfidf = TfidfVectorizer(\n",
    "#     max_features=2000,\n",
    "#     stop_words= 'english'\n",
    "# )"
   ]
  },
  {
   "cell_type": "code",
   "execution_count": 37,
   "id": "75d5d645",
   "metadata": {},
   "outputs": [],
   "source": [
    "# features = pre_data['tokenize_data']\n",
    "# target = pre_data['Category_lbl']\n"
   ]
  },
  {
   "cell_type": "code",
   "execution_count": 53,
   "id": "11646b82",
   "metadata": {},
   "outputs": [],
   "source": [
    "# from sklearn.model_selection import train_test_split\n",
    "# from sklearn.multiclass import OneVsRestClassifier\n",
    "# from sklearn.neighbors import KNeighborsClassifier\n",
    "# X_train,X_test,y_train,y_test = train_test_split(features, target, test_size=0.2, random_state=41)\n",
    "# print(X_train.shape)\n",
    "# print(X_test.shape)"
   ]
  },
  {
   "cell_type": "code",
   "execution_count": 41,
   "id": "622477c3",
   "metadata": {},
   "outputs": [],
   "source": [
    "# train = tfidf.fit_transform(X_train)\n",
    "# test = tfidf.transform(X_test)"
   ]
  },
  {
   "cell_type": "code",
   "execution_count": null,
   "id": "e831d653",
   "metadata": {},
   "outputs": [],
   "source": []
  },
  {
   "cell_type": "code",
   "execution_count": null,
   "id": "f6d5a323",
   "metadata": {},
   "outputs": [],
   "source": [
    "# type(lem_words)"
   ]
  },
  {
   "cell_type": "code",
   "execution_count": 54,
   "id": "5e393716",
   "metadata": {},
   "outputs": [],
   "source": [
    "# features = tfidf.fit_transform(lem_words)\n",
    "# train"
   ]
  },
  {
   "cell_type": "code",
   "execution_count": 55,
   "id": "bfad64c6",
   "metadata": {},
   "outputs": [],
   "source": [
    "# features\n",
    "# target = pre_data['Category_lbl']"
   ]
  },
  {
   "cell_type": "code",
   "execution_count": null,
   "id": "b7baa8de",
   "metadata": {},
   "outputs": [],
   "source": [
    "# from sklearn.model_selection import train_test_split\n",
    "# from sklearn.multiclass import OneVsRestClassifier\n",
    "# from sklearn.neighbors import KNeighborsClassifier\n",
    "# X_train,X_test,y_train,y_test = train_test_split(features, target, test_size=0.2, random_state=41)\n",
    "# print(X_train.shape)\n",
    "# print(X_test.shape)"
   ]
  },
  {
   "cell_type": "code",
   "execution_count": 12,
   "id": "b3603be0",
   "metadata": {},
   "outputs": [],
   "source": [
    "### preprocessed data by vscode\n",
    "data = pd.read_csv(\"E:\\Virtual_room\\project\\AIrecruiter\\data\\processed\\lemmatized_data.csv\")"
   ]
  },
  {
   "cell_type": "code",
   "execution_count": 13,
   "id": "ede26900",
   "metadata": {},
   "outputs": [
    {
     "data": {
      "text/html": [
       "<div>\n",
       "<style scoped>\n",
       "    .dataframe tbody tr th:only-of-type {\n",
       "        vertical-align: middle;\n",
       "    }\n",
       "\n",
       "    .dataframe tbody tr th {\n",
       "        vertical-align: top;\n",
       "    }\n",
       "\n",
       "    .dataframe thead th {\n",
       "        text-align: right;\n",
       "    }\n",
       "</style>\n",
       "<table border=\"1\" class=\"dataframe\">\n",
       "  <thead>\n",
       "    <tr style=\"text-align: right;\">\n",
       "      <th></th>\n",
       "      <th>ID</th>\n",
       "      <th>Resume_str</th>\n",
       "      <th>Category</th>\n",
       "      <th>cleaned_resume</th>\n",
       "      <th>lemmatize_data</th>\n",
       "    </tr>\n",
       "  </thead>\n",
       "  <tbody>\n",
       "    <tr>\n",
       "      <th>0</th>\n",
       "      <td>16852973</td>\n",
       "      <td>HR ADMINISTRATOR/MARKETING ASSOCIATE\\...</td>\n",
       "      <td>HR</td>\n",
       "      <td>hr administrator marketing associate ...</td>\n",
       "      <td>hr administrator marketing associate hr admini...</td>\n",
       "    </tr>\n",
       "    <tr>\n",
       "      <th>1</th>\n",
       "      <td>22323967</td>\n",
       "      <td>HR SPECIALIST, US HR OPERATIONS      ...</td>\n",
       "      <td>HR</td>\n",
       "      <td>hr specialist  us hr operations      ...</td>\n",
       "      <td>hr specialist u hr operation summar versatile ...</td>\n",
       "    </tr>\n",
       "    <tr>\n",
       "      <th>2</th>\n",
       "      <td>33176873</td>\n",
       "      <td>HR DIRECTOR       Summary      Over 2...</td>\n",
       "      <td>HR</td>\n",
       "      <td>hr director       summar       over 2...</td>\n",
       "      <td>hr director summar 20 ear experience recruitin...</td>\n",
       "    </tr>\n",
       "    <tr>\n",
       "      <th>3</th>\n",
       "      <td>27018550</td>\n",
       "      <td>HR SPECIALIST       Summary    Dedica...</td>\n",
       "      <td>HR</td>\n",
       "      <td>hr specialist       summar     dedica...</td>\n",
       "      <td>hr specialist summar dedicated driven namic 20...</td>\n",
       "    </tr>\n",
       "    <tr>\n",
       "      <th>4</th>\n",
       "      <td>17812897</td>\n",
       "      <td>HR MANAGER         Skill Highlights  ...</td>\n",
       "      <td>HR</td>\n",
       "      <td>hr manager         skill highlights  ...</td>\n",
       "      <td>hr manager skill highlight hr skill hr departm...</td>\n",
       "    </tr>\n",
       "  </tbody>\n",
       "</table>\n",
       "</div>"
      ],
      "text/plain": [
       "         ID                                         Resume_str Category  \\\n",
       "0  16852973           HR ADMINISTRATOR/MARKETING ASSOCIATE\\...       HR   \n",
       "1  22323967           HR SPECIALIST, US HR OPERATIONS      ...       HR   \n",
       "2  33176873           HR DIRECTOR       Summary      Over 2...       HR   \n",
       "3  27018550           HR SPECIALIST       Summary    Dedica...       HR   \n",
       "4  17812897           HR MANAGER         Skill Highlights  ...       HR   \n",
       "\n",
       "                                      cleaned_resume  \\\n",
       "0           hr administrator marketing associate ...   \n",
       "1           hr specialist  us hr operations      ...   \n",
       "2           hr director       summar       over 2...   \n",
       "3           hr specialist       summar     dedica...   \n",
       "4           hr manager         skill highlights  ...   \n",
       "\n",
       "                                      lemmatize_data  \n",
       "0  hr administrator marketing associate hr admini...  \n",
       "1  hr specialist u hr operation summar versatile ...  \n",
       "2  hr director summar 20 ear experience recruitin...  \n",
       "3  hr specialist summar dedicated driven namic 20...  \n",
       "4  hr manager skill highlight hr skill hr departm...  "
      ]
     },
     "execution_count": 13,
     "metadata": {},
     "output_type": "execute_result"
    }
   ],
   "source": [
    "data.head()"
   ]
  },
  {
   "cell_type": "code",
   "execution_count": 19,
   "id": "f7750d72",
   "metadata": {},
   "outputs": [
    {
     "data": {
      "text/plain": [
       "ID                0\n",
       "Resume_str        0\n",
       "Category          0\n",
       "cleaned_resume    0\n",
       "lemmatize_data    1\n",
       "dtype: int64"
      ]
     },
     "execution_count": 19,
     "metadata": {},
     "output_type": "execute_result"
    }
   ],
   "source": [
    "data.isnull().sum()"
   ]
  },
  {
   "cell_type": "code",
   "execution_count": 18,
   "id": "49ae7c5e",
   "metadata": {},
   "outputs": [
    {
     "data": {
      "text/html": [
       "<div>\n",
       "<style scoped>\n",
       "    .dataframe tbody tr th:only-of-type {\n",
       "        vertical-align: middle;\n",
       "    }\n",
       "\n",
       "    .dataframe tbody tr th {\n",
       "        vertical-align: top;\n",
       "    }\n",
       "\n",
       "    .dataframe thead th {\n",
       "        text-align: right;\n",
       "    }\n",
       "</style>\n",
       "<table border=\"1\" class=\"dataframe\">\n",
       "  <thead>\n",
       "    <tr style=\"text-align: right;\">\n",
       "      <th></th>\n",
       "      <th>ID</th>\n",
       "      <th>Resume_str</th>\n",
       "      <th>Category</th>\n",
       "      <th>cleaned_resume</th>\n",
       "      <th>lemmatize_data</th>\n",
       "    </tr>\n",
       "  </thead>\n",
       "  <tbody>\n",
       "    <tr>\n",
       "      <th>0</th>\n",
       "      <td>16852973</td>\n",
       "      <td>HR ADMINISTRATOR/MARKETING ASSOCIATE\\...</td>\n",
       "      <td>HR</td>\n",
       "      <td>hr administrator marketing associate ...</td>\n",
       "      <td>hr administrator marketing associate hr admini...</td>\n",
       "    </tr>\n",
       "    <tr>\n",
       "      <th>1</th>\n",
       "      <td>22323967</td>\n",
       "      <td>HR SPECIALIST, US HR OPERATIONS      ...</td>\n",
       "      <td>HR</td>\n",
       "      <td>hr specialist  us hr operations      ...</td>\n",
       "      <td>hr specialist u hr operation summar versatile ...</td>\n",
       "    </tr>\n",
       "    <tr>\n",
       "      <th>2</th>\n",
       "      <td>33176873</td>\n",
       "      <td>HR DIRECTOR       Summary      Over 2...</td>\n",
       "      <td>HR</td>\n",
       "      <td>hr director       summar       over 2...</td>\n",
       "      <td>hr director summar 20 ear experience recruitin...</td>\n",
       "    </tr>\n",
       "    <tr>\n",
       "      <th>3</th>\n",
       "      <td>27018550</td>\n",
       "      <td>HR SPECIALIST       Summary    Dedica...</td>\n",
       "      <td>HR</td>\n",
       "      <td>hr specialist       summar     dedica...</td>\n",
       "      <td>hr specialist summar dedicated driven namic 20...</td>\n",
       "    </tr>\n",
       "    <tr>\n",
       "      <th>4</th>\n",
       "      <td>17812897</td>\n",
       "      <td>HR MANAGER         Skill Highlights  ...</td>\n",
       "      <td>HR</td>\n",
       "      <td>hr manager         skill highlights  ...</td>\n",
       "      <td>hr manager skill highlight hr skill hr departm...</td>\n",
       "    </tr>\n",
       "    <tr>\n",
       "      <th>...</th>\n",
       "      <td>...</td>\n",
       "      <td>...</td>\n",
       "      <td>...</td>\n",
       "      <td>...</td>\n",
       "      <td>...</td>\n",
       "    </tr>\n",
       "    <tr>\n",
       "      <th>2479</th>\n",
       "      <td>99416532</td>\n",
       "      <td>RANK: SGT/E-5 NON- COMMISSIONED OFFIC...</td>\n",
       "      <td>AVIATION</td>\n",
       "      <td>rank  sgt e 5 non  commissioned offic...</td>\n",
       "      <td>rank sgt e 5 non commissioned officer charge b...</td>\n",
       "    </tr>\n",
       "    <tr>\n",
       "      <th>2480</th>\n",
       "      <td>24589765</td>\n",
       "      <td>GOVERNMENT RELATIONS, COMMUNICATIONS ...</td>\n",
       "      <td>AVIATION</td>\n",
       "      <td>government relations  communications ...</td>\n",
       "      <td>government relation communication organi ation...</td>\n",
       "    </tr>\n",
       "    <tr>\n",
       "      <th>2481</th>\n",
       "      <td>31605080</td>\n",
       "      <td>GEEK SQUAD AGENT         Professional...</td>\n",
       "      <td>AVIATION</td>\n",
       "      <td>geek squad agent         professional...</td>\n",
       "      <td>geek squad agent professional profile support ...</td>\n",
       "    </tr>\n",
       "    <tr>\n",
       "      <th>2482</th>\n",
       "      <td>21190805</td>\n",
       "      <td>PROGRAM DIRECTOR / OFFICE MANAGER    ...</td>\n",
       "      <td>AVIATION</td>\n",
       "      <td>program director   office manager    ...</td>\n",
       "      <td>program director office manager summar highl p...</td>\n",
       "    </tr>\n",
       "    <tr>\n",
       "      <th>2483</th>\n",
       "      <td>37473139</td>\n",
       "      <td>STOREKEEPER II       Professional Sum...</td>\n",
       "      <td>AVIATION</td>\n",
       "      <td>storekeeper ii       professional sum...</td>\n",
       "      <td>storekeeper ii professional summar purpose doc...</td>\n",
       "    </tr>\n",
       "  </tbody>\n",
       "</table>\n",
       "<p>2483 rows × 5 columns</p>\n",
       "</div>"
      ],
      "text/plain": [
       "            ID                                         Resume_str  Category  \\\n",
       "0     16852973           HR ADMINISTRATOR/MARKETING ASSOCIATE\\...        HR   \n",
       "1     22323967           HR SPECIALIST, US HR OPERATIONS      ...        HR   \n",
       "2     33176873           HR DIRECTOR       Summary      Over 2...        HR   \n",
       "3     27018550           HR SPECIALIST       Summary    Dedica...        HR   \n",
       "4     17812897           HR MANAGER         Skill Highlights  ...        HR   \n",
       "...        ...                                                ...       ...   \n",
       "2479  99416532           RANK: SGT/E-5 NON- COMMISSIONED OFFIC...  AVIATION   \n",
       "2480  24589765           GOVERNMENT RELATIONS, COMMUNICATIONS ...  AVIATION   \n",
       "2481  31605080           GEEK SQUAD AGENT         Professional...  AVIATION   \n",
       "2482  21190805           PROGRAM DIRECTOR / OFFICE MANAGER    ...  AVIATION   \n",
       "2483  37473139           STOREKEEPER II       Professional Sum...  AVIATION   \n",
       "\n",
       "                                         cleaned_resume  \\\n",
       "0              hr administrator marketing associate ...   \n",
       "1              hr specialist  us hr operations      ...   \n",
       "2              hr director       summar       over 2...   \n",
       "3              hr specialist       summar     dedica...   \n",
       "4              hr manager         skill highlights  ...   \n",
       "...                                                 ...   \n",
       "2479           rank  sgt e 5 non  commissioned offic...   \n",
       "2480           government relations  communications ...   \n",
       "2481           geek squad agent         professional...   \n",
       "2482           program director   office manager    ...   \n",
       "2483           storekeeper ii       professional sum...   \n",
       "\n",
       "                                         lemmatize_data  \n",
       "0     hr administrator marketing associate hr admini...  \n",
       "1     hr specialist u hr operation summar versatile ...  \n",
       "2     hr director summar 20 ear experience recruitin...  \n",
       "3     hr specialist summar dedicated driven namic 20...  \n",
       "4     hr manager skill highlight hr skill hr departm...  \n",
       "...                                                 ...  \n",
       "2479  rank sgt e 5 non commissioned officer charge b...  \n",
       "2480  government relation communication organi ation...  \n",
       "2481  geek squad agent professional profile support ...  \n",
       "2482  program director office manager summar highl p...  \n",
       "2483  storekeeper ii professional summar purpose doc...  \n",
       "\n",
       "[2483 rows x 5 columns]"
      ]
     },
     "execution_count": 18,
     "metadata": {},
     "output_type": "execute_result"
    }
   ],
   "source": [
    "data.dropna()"
   ]
  },
  {
   "cell_type": "code",
   "execution_count": null,
   "id": "6748d494",
   "metadata": {},
   "outputs": [],
   "source": []
  }
 ],
 "metadata": {
  "kernelspec": {
   "display_name": "Python 3 (ipykernel)",
   "language": "python",
   "name": "python3"
  },
  "language_info": {
   "codemirror_mode": {
    "name": "ipython",
    "version": 3
   },
   "file_extension": ".py",
   "mimetype": "text/x-python",
   "name": "python",
   "nbconvert_exporter": "python",
   "pygments_lexer": "ipython3",
   "version": "3.8.5"
  }
 },
 "nbformat": 4,
 "nbformat_minor": 5
}
