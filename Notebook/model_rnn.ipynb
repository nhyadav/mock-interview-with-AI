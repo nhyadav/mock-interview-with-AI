{
 "cells": [
  {
   "cell_type": "code",
   "execution_count": 1,
   "id": "ce905cdc",
   "metadata": {},
   "outputs": [],
   "source": [
    "import pandas as pd\n",
    "import numpy as np\n",
    "import tensorflow as tf"
   ]
  },
  {
   "cell_type": "code",
   "execution_count": 2,
   "id": "0e8745e0",
   "metadata": {},
   "outputs": [],
   "source": [
    "data = pd.read_csv(\"E:\\Virtual_room\\project\\AIrecruiter\\data\\processed\\processed_resume.csv\")"
   ]
  },
  {
   "cell_type": "code",
   "execution_count": 3,
   "id": "88150581",
   "metadata": {},
   "outputs": [
    {
     "data": {
      "text/html": [
       "<div>\n",
       "<style scoped>\n",
       "    .dataframe tbody tr th:only-of-type {\n",
       "        vertical-align: middle;\n",
       "    }\n",
       "\n",
       "    .dataframe tbody tr th {\n",
       "        vertical-align: top;\n",
       "    }\n",
       "\n",
       "    .dataframe thead th {\n",
       "        text-align: right;\n",
       "    }\n",
       "</style>\n",
       "<table border=\"1\" class=\"dataframe\">\n",
       "  <thead>\n",
       "    <tr style=\"text-align: right;\">\n",
       "      <th></th>\n",
       "      <th>ID</th>\n",
       "      <th>Resume_str</th>\n",
       "      <th>Category</th>\n",
       "      <th>drop_duplicate</th>\n",
       "      <th>cleaned_resume</th>\n",
       "      <th>lemmatize_data</th>\n",
       "      <th>tokenize_data</th>\n",
       "    </tr>\n",
       "  </thead>\n",
       "  <tbody>\n",
       "    <tr>\n",
       "      <th>0</th>\n",
       "      <td>16852973</td>\n",
       "      <td>HR ADMINISTRATOR/MARKETING ASSOCIATE\\...</td>\n",
       "      <td>HR</td>\n",
       "      <td>2004 shows heads collateral, treatments, Shrub...</td>\n",
       "      <td>shows heads collateral  treatments  shrub...</td>\n",
       "      <td>show head collateral treatment shrubel billing...</td>\n",
       "      <td>['show', 'head', 'collateral', 'treatment', 's...</td>\n",
       "    </tr>\n",
       "    <tr>\n",
       "      <th>1</th>\n",
       "      <td>22323967</td>\n",
       "      <td>HR SPECIALIST, US HR OPERATIONS      ...</td>\n",
       "      <td>HR</td>\n",
       "      <td>changes Background hire shows Maintained Pro, ...</td>\n",
       "      <td>changes background hire shows maintained pro  ...</td>\n",
       "      <td>change background hire show maintained pro sto...</td>\n",
       "      <td>['change', 'background', 'hire', 'show', 'main...</td>\n",
       "    </tr>\n",
       "    <tr>\n",
       "      <th>2</th>\n",
       "      <td>33176873</td>\n",
       "      <td>HR DIRECTOR       Summary      Over 2...</td>\n",
       "      <td>HR</td>\n",
       "      <td>changes Develped hire Earned: Education, Corel...</td>\n",
       "      <td>changes develped hire earned  education  corel...</td>\n",
       "      <td>change develped hire earned education corel mi...</td>\n",
       "      <td>['change', 'develped', 'hire', 'earned', 'educ...</td>\n",
       "    </tr>\n",
       "    <tr>\n",
       "      <th>3</th>\n",
       "      <td>27018550</td>\n",
       "      <td>HR SPECIALIST       Summary    Dedica...</td>\n",
       "      <td>HR</td>\n",
       "      <td>payroll areas. delivery process adhering medic...</td>\n",
       "      <td>payroll areas  delivery process adhering medic...</td>\n",
       "      <td>payroll area delivery process adhering medical...</td>\n",
       "      <td>['payroll', 'area', 'delivery', 'process', 'ad...</td>\n",
       "    </tr>\n",
       "    <tr>\n",
       "      <th>4</th>\n",
       "      <td>17812897</td>\n",
       "      <td>HR MANAGER         Skill Highlights  ...</td>\n",
       "      <td>HR</td>\n",
       "      <td>Advocacy hire decision one-on-one performance,...</td>\n",
       "      <td>advocacy hire decision one on one performance ...</td>\n",
       "      <td>advocacy hire decision one one performance fun...</td>\n",
       "      <td>['advocacy', 'hire', 'decision', 'one', 'one',...</td>\n",
       "    </tr>\n",
       "  </tbody>\n",
       "</table>\n",
       "</div>"
      ],
      "text/plain": [
       "         ID                                         Resume_str Category  \\\n",
       "0  16852973           HR ADMINISTRATOR/MARKETING ASSOCIATE\\...       HR   \n",
       "1  22323967           HR SPECIALIST, US HR OPERATIONS      ...       HR   \n",
       "2  33176873           HR DIRECTOR       Summary      Over 2...       HR   \n",
       "3  27018550           HR SPECIALIST       Summary    Dedica...       HR   \n",
       "4  17812897           HR MANAGER         Skill Highlights  ...       HR   \n",
       "\n",
       "                                      drop_duplicate  \\\n",
       "0  2004 shows heads collateral, treatments, Shrub...   \n",
       "1  changes Background hire shows Maintained Pro, ...   \n",
       "2  changes Develped hire Earned: Education, Corel...   \n",
       "3  payroll areas. delivery process adhering medic...   \n",
       "4  Advocacy hire decision one-on-one performance,...   \n",
       "\n",
       "                                      cleaned_resume  \\\n",
       "0       shows heads collateral  treatments  shrub...   \n",
       "1  changes background hire shows maintained pro  ...   \n",
       "2  changes develped hire earned  education  corel...   \n",
       "3  payroll areas  delivery process adhering medic...   \n",
       "4  advocacy hire decision one on one performance ...   \n",
       "\n",
       "                                      lemmatize_data  \\\n",
       "0  show head collateral treatment shrubel billing...   \n",
       "1  change background hire show maintained pro sto...   \n",
       "2  change develped hire earned education corel mi...   \n",
       "3  payroll area delivery process adhering medical...   \n",
       "4  advocacy hire decision one one performance fun...   \n",
       "\n",
       "                                       tokenize_data  \n",
       "0  ['show', 'head', 'collateral', 'treatment', 's...  \n",
       "1  ['change', 'background', 'hire', 'show', 'main...  \n",
       "2  ['change', 'develped', 'hire', 'earned', 'educ...  \n",
       "3  ['payroll', 'area', 'delivery', 'process', 'ad...  \n",
       "4  ['advocacy', 'hire', 'decision', 'one', 'one',...  "
      ]
     },
     "execution_count": 3,
     "metadata": {},
     "output_type": "execute_result"
    }
   ],
   "source": [
    "data.head()"
   ]
  },
  {
   "cell_type": "code",
   "execution_count": 4,
   "id": "35a76161",
   "metadata": {},
   "outputs": [],
   "source": [
    "#target \n",
    "target = pd.get_dummies(data['Category'])"
   ]
  },
  {
   "cell_type": "code",
   "execution_count": 6,
   "id": "06d88294",
   "metadata": {},
   "outputs": [
    {
     "data": {
      "text/plain": [
       "array(['ACCOUNTANT', 'ADVOCATE', 'AGRICULTURE', 'APPAREL', 'ARTS',\n",
       "       'AUTOMOBILE', 'AVIATION', 'BANKING', 'BPO', 'BUSINESS-DEVELOPMENT',\n",
       "       'CHEF', 'CONSTRUCTION', 'CONSULTANT', 'DESIGNER', 'DIGITAL-MEDIA',\n",
       "       'ENGINEERING', 'FINANCE', 'FITNESS', 'HEALTHCARE', 'HR',\n",
       "       'INFORMATION-TECHNOLOGY', 'PUBLIC-RELATIONS', 'SALES', 'TEACHER'],\n",
       "      dtype=object)"
      ]
     },
     "execution_count": 6,
     "metadata": {},
     "output_type": "execute_result"
    }
   ],
   "source": [
    "target.columns.values"
   ]
  },
  {
   "cell_type": "code",
   "execution_count": 10,
   "id": "3558b7f3",
   "metadata": {},
   "outputs": [],
   "source": [
    "from sklearn.model_selection import train_test_split\n",
    "X_train,X_test,y_train,y_test = train_test_split(data['lemmatize_data'],target, test_size=0.20, random_state=40, shuffle=True, stratify=target, train_size=0.8)"
   ]
  },
  {
   "cell_type": "code",
   "execution_count": 12,
   "id": "2da3a2e2",
   "metadata": {},
   "outputs": [],
   "source": [
    "X_train = np.asarray(X_train).astype('str')\n",
    "X_test = np.asarray(X_test).astype('str')"
   ]
  },
  {
   "cell_type": "code",
   "execution_count": 13,
   "id": "1aabe3db",
   "metadata": {},
   "outputs": [],
   "source": [
    "#create the text encoder\n",
    "vocab_size=1000\n",
    "encoder = tf.keras.layers.TextVectorization(\n",
    "    max_tokens=vocab_size\n",
    ")\n",
    "encoder.adapt(X_train)\n",
    "vocab = encoder.get_vocabulary()"
   ]
  },
  {
   "cell_type": "code",
   "execution_count": 14,
   "id": "e9b390c5",
   "metadata": {},
   "outputs": [],
   "source": [
    "model = tf.keras.Sequential([\n",
    "                            tf.keras.layers.Input(shape=(), name=\"text\", dtype=tf.string),\n",
    "                            encoder,\n",
    "                            tf.keras.layers.Embedding(\n",
    "                                input_dim=len(vocab),\n",
    "                                output_dim=64,\n",
    "                                # Use masking to handle the variable sequence lengths\n",
    "                                mask_zero=True),\n",
    "                            tf.keras.layers.Bidirectional(tf.keras.layers.LSTM(128)),\n",
    "                            tf.keras.layers.Dense(128, activation='relu'),\n",
    "                            tf.keras.layers.Dropout(0.5),\n",
    "                            tf.keras.layers.Dense(256, activation='relu'),\n",
    "                            tf.keras.layers.Dropout(0.5),\n",
    "                            tf.keras.layers.Dense(256, activation='relu'),\n",
    "                            tf.keras.layers.Dropout(0.5),\n",
    "                            tf.keras.layers.Dense(256, activation='relu'),\n",
    "                            tf.keras.layers.Dropout(0.5),\n",
    "                            tf.keras.layers.Dense(128, activation='relu'),\n",
    "                            tf.keras.layers.Dense(24, activation='softmax')\n",
    "])"
   ]
  },
  {
   "cell_type": "code",
   "execution_count": 15,
   "id": "1eec000a",
   "metadata": {},
   "outputs": [],
   "source": [
    "model.compile(loss=tf.keras.losses.CategoricalCrossentropy(),\n",
    "              optimizer=tf.keras.optimizers.Adam(),\n",
    "              metrics=['accuracy'])"
   ]
  },
  {
   "cell_type": "code",
   "execution_count": 16,
   "id": "cca082e6",
   "metadata": {},
   "outputs": [
    {
     "name": "stdout",
     "output_type": "stream",
     "text": [
      "Epoch 1/20\n",
      "63/63 [==============================] - 180s 3s/step - loss: 3.1683 - accuracy: 0.0393 - val_loss: 3.1517 - val_accuracy: 0.0483\n",
      "Epoch 2/20\n",
      "63/63 [==============================] - 167s 3s/step - loss: 3.1518 - accuracy: 0.0443 - val_loss: 3.1437 - val_accuracy: 0.0282\n",
      "Epoch 3/20\n",
      "63/63 [==============================] - 170s 3s/step - loss: 3.1253 - accuracy: 0.0488 - val_loss: 3.0399 - val_accuracy: 0.0483\n",
      "Epoch 4/20\n",
      "63/63 [==============================] - 180s 3s/step - loss: 3.0109 - accuracy: 0.0775 - val_loss: 2.9767 - val_accuracy: 0.0785\n",
      "Epoch 5/20\n",
      "63/63 [==============================] - 196s 3s/step - loss: 2.9522 - accuracy: 0.1087 - val_loss: 2.9383 - val_accuracy: 0.1147\n",
      "Epoch 6/20\n",
      "63/63 [==============================] - 211s 3s/step - loss: 2.8658 - accuracy: 0.1203 - val_loss: 2.8767 - val_accuracy: 0.1227\n",
      "Epoch 7/20\n",
      "63/63 [==============================] - 223s 4s/step - loss: 2.7821 - accuracy: 0.1223 - val_loss: 4.1044 - val_accuracy: 0.0584\n",
      "Epoch 8/20\n",
      "63/63 [==============================] - 187s 3s/step - loss: 2.8565 - accuracy: 0.1238 - val_loss: 2.8138 - val_accuracy: 0.1368\n",
      "Epoch 9/20\n",
      "63/63 [==============================] - 210s 3s/step - loss: 2.6858 - accuracy: 0.1394 - val_loss: 2.7772 - val_accuracy: 0.1610\n",
      "Epoch 10/20\n",
      "63/63 [==============================] - 198s 3s/step - loss: 2.5925 - accuracy: 0.1686 - val_loss: 2.7650 - val_accuracy: 0.1730\n",
      "Epoch 11/20\n",
      "63/63 [==============================] - 201s 3s/step - loss: 2.5492 - accuracy: 0.1726 - val_loss: 2.7101 - val_accuracy: 0.1891\n",
      "Epoch 12/20\n",
      "63/63 [==============================] - 178s 3s/step - loss: 2.4966 - accuracy: 0.1842 - val_loss: 2.7898 - val_accuracy: 0.1650\n",
      "Epoch 13/20\n",
      "63/63 [==============================] - 183s 3s/step - loss: 2.4833 - accuracy: 0.1907 - val_loss: 2.7571 - val_accuracy: 0.1630\n",
      "Epoch 14/20\n",
      "63/63 [==============================] - 193s 3s/step - loss: 2.3392 - accuracy: 0.2053 - val_loss: 2.7378 - val_accuracy: 0.1791\n",
      "Epoch 15/20\n",
      "63/63 [==============================] - 182s 3s/step - loss: 2.2899 - accuracy: 0.2184 - val_loss: 2.7641 - val_accuracy: 0.1791\n",
      "Epoch 16/20\n",
      "63/63 [==============================] - 191s 3s/step - loss: 2.2571 - accuracy: 0.2199 - val_loss: 2.9538 - val_accuracy: 0.2173\n",
      "Epoch 17/20\n",
      "63/63 [==============================] - 193s 3s/step - loss: 2.2489 - accuracy: 0.2355 - val_loss: 2.7340 - val_accuracy: 0.2254\n",
      "Epoch 18/20\n",
      "63/63 [==============================] - 185s 3s/step - loss: 2.1569 - accuracy: 0.2411 - val_loss: 2.8574 - val_accuracy: 0.2032\n",
      "Epoch 19/20\n",
      "63/63 [==============================] - 180s 3s/step - loss: 2.0987 - accuracy: 0.2577 - val_loss: 2.8884 - val_accuracy: 0.2213\n",
      "Epoch 20/20\n",
      "63/63 [==============================] - 156s 2s/step - loss: 2.0148 - accuracy: 0.2708 - val_loss: 2.8625 - val_accuracy: 0.2032\n"
     ]
    }
   ],
   "source": [
    "history = model.fit(X_train,y_train, epochs=20,\n",
    "                    validation_data=(X_test,y_test),\n",
    "                    validation_steps=30)"
   ]
  },
  {
   "cell_type": "code",
   "execution_count": null,
   "id": "3553ed0d",
   "metadata": {},
   "outputs": [],
   "source": []
  }
 ],
 "metadata": {
  "kernelspec": {
   "display_name": "Python 3 (ipykernel)",
   "language": "python",
   "name": "python3"
  },
  "language_info": {
   "codemirror_mode": {
    "name": "ipython",
    "version": 3
   },
   "file_extension": ".py",
   "mimetype": "text/x-python",
   "name": "python",
   "nbconvert_exporter": "python",
   "pygments_lexer": "ipython3",
   "version": "3.8.5"
  }
 },
 "nbformat": 4,
 "nbformat_minor": 5
}
