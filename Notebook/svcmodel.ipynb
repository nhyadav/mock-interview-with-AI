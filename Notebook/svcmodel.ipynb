{
 "cells": [
  {
   "cell_type": "code",
   "execution_count": 23,
   "id": "0377be6c",
   "metadata": {},
   "outputs": [],
   "source": [
    "import pickle\n",
    "import joblib\n",
    "import pandas as pd\n",
    "from sklearn.feature_extraction.text import TfidfVectorizer"
   ]
  },
  {
   "cell_type": "code",
   "execution_count": 24,
   "id": "ac65e8a0",
   "metadata": {},
   "outputs": [],
   "source": [
    "data = pd.read_csv(\"E:\\Virtual_room\\project\\AIrecruiter\\data\\processed\\\\processed_resume.csv\")"
   ]
  },
  {
   "cell_type": "code",
   "execution_count": 25,
   "id": "a6b6c7bd",
   "metadata": {},
   "outputs": [
    {
     "data": {
      "text/html": [
       "<div>\n",
       "<style scoped>\n",
       "    .dataframe tbody tr th:only-of-type {\n",
       "        vertical-align: middle;\n",
       "    }\n",
       "\n",
       "    .dataframe tbody tr th {\n",
       "        vertical-align: top;\n",
       "    }\n",
       "\n",
       "    .dataframe thead th {\n",
       "        text-align: right;\n",
       "    }\n",
       "</style>\n",
       "<table border=\"1\" class=\"dataframe\">\n",
       "  <thead>\n",
       "    <tr style=\"text-align: right;\">\n",
       "      <th></th>\n",
       "      <th>Resume_str</th>\n",
       "      <th>Category</th>\n",
       "      <th>cleaned_resume</th>\n",
       "      <th>lemmatize_data</th>\n",
       "      <th>tokenize_data</th>\n",
       "    </tr>\n",
       "  </thead>\n",
       "  <tbody>\n",
       "    <tr>\n",
       "      <th>0</th>\n",
       "      <td>HR ADMINISTRATOR/MARKETING ASSOCIATE\\...</td>\n",
       "      <td>HR</td>\n",
       "      <td>hr administrator marketing associate ...</td>\n",
       "      <td>hr administrator marketing associate hr admini...</td>\n",
       "      <td>['hr', 'administrator', 'marketing', 'associat...</td>\n",
       "    </tr>\n",
       "    <tr>\n",
       "      <th>1</th>\n",
       "      <td>HR SPECIALIST, US HR OPERATIONS      ...</td>\n",
       "      <td>HR</td>\n",
       "      <td>hr specialist  us hr operations      ...</td>\n",
       "      <td>hr specialist u hr operation summary versatile...</td>\n",
       "      <td>['hr', 'specialist', 'u', 'hr', 'operation', '...</td>\n",
       "    </tr>\n",
       "    <tr>\n",
       "      <th>2</th>\n",
       "      <td>HR DIRECTOR       Summary      Over 2...</td>\n",
       "      <td>HR</td>\n",
       "      <td>hr director       summary      over  ...</td>\n",
       "      <td>hr director summary year experience recruiting...</td>\n",
       "      <td>['hr', 'director', 'summary', 'year', 'experie...</td>\n",
       "    </tr>\n",
       "    <tr>\n",
       "      <th>3</th>\n",
       "      <td>HR SPECIALIST       Summary    Dedica...</td>\n",
       "      <td>HR</td>\n",
       "      <td>hr specialist       summary    dedica...</td>\n",
       "      <td>hr specialist summary dedicated driven dynamic...</td>\n",
       "      <td>['hr', 'specialist', 'summary', 'dedicated', '...</td>\n",
       "    </tr>\n",
       "    <tr>\n",
       "      <th>4</th>\n",
       "      <td>HR MANAGER         Skill Highlights  ...</td>\n",
       "      <td>HR</td>\n",
       "      <td>hr manager         skill highlights  ...</td>\n",
       "      <td>hr manager skill highlight hr skill hr departm...</td>\n",
       "      <td>['hr', 'manager', 'skill', 'highlight', 'hr', ...</td>\n",
       "    </tr>\n",
       "  </tbody>\n",
       "</table>\n",
       "</div>"
      ],
      "text/plain": [
       "                                          Resume_str Category  \\\n",
       "0           HR ADMINISTRATOR/MARKETING ASSOCIATE\\...       HR   \n",
       "1           HR SPECIALIST, US HR OPERATIONS      ...       HR   \n",
       "2           HR DIRECTOR       Summary      Over 2...       HR   \n",
       "3           HR SPECIALIST       Summary    Dedica...       HR   \n",
       "4           HR MANAGER         Skill Highlights  ...       HR   \n",
       "\n",
       "                                      cleaned_resume  \\\n",
       "0           hr administrator marketing associate ...   \n",
       "1           hr specialist  us hr operations      ...   \n",
       "2           hr director       summary      over  ...   \n",
       "3           hr specialist       summary    dedica...   \n",
       "4           hr manager         skill highlights  ...   \n",
       "\n",
       "                                      lemmatize_data  \\\n",
       "0  hr administrator marketing associate hr admini...   \n",
       "1  hr specialist u hr operation summary versatile...   \n",
       "2  hr director summary year experience recruiting...   \n",
       "3  hr specialist summary dedicated driven dynamic...   \n",
       "4  hr manager skill highlight hr skill hr departm...   \n",
       "\n",
       "                                       tokenize_data  \n",
       "0  ['hr', 'administrator', 'marketing', 'associat...  \n",
       "1  ['hr', 'specialist', 'u', 'hr', 'operation', '...  \n",
       "2  ['hr', 'director', 'summary', 'year', 'experie...  \n",
       "3  ['hr', 'specialist', 'summary', 'dedicated', '...  \n",
       "4  ['hr', 'manager', 'skill', 'highlight', 'hr', ...  "
      ]
     },
     "execution_count": 25,
     "metadata": {},
     "output_type": "execute_result"
    }
   ],
   "source": [
    "data.head()"
   ]
  },
  {
   "cell_type": "code",
   "execution_count": 26,
   "id": "ff55780a",
   "metadata": {},
   "outputs": [
    {
     "data": {
      "text/html": [
       "<div>\n",
       "<style scoped>\n",
       "    .dataframe tbody tr th:only-of-type {\n",
       "        vertical-align: middle;\n",
       "    }\n",
       "\n",
       "    .dataframe tbody tr th {\n",
       "        vertical-align: top;\n",
       "    }\n",
       "\n",
       "    .dataframe thead th {\n",
       "        text-align: right;\n",
       "    }\n",
       "</style>\n",
       "<table border=\"1\" class=\"dataframe\">\n",
       "  <thead>\n",
       "    <tr style=\"text-align: right;\">\n",
       "      <th></th>\n",
       "      <th>Resume_str</th>\n",
       "      <th>Category</th>\n",
       "      <th>cleaned_resume</th>\n",
       "      <th>lemmatize_data</th>\n",
       "      <th>tokenize_data</th>\n",
       "    </tr>\n",
       "  </thead>\n",
       "  <tbody>\n",
       "    <tr>\n",
       "      <th>count</th>\n",
       "      <td>3446</td>\n",
       "      <td>3446</td>\n",
       "      <td>3446</td>\n",
       "      <td>3445</td>\n",
       "      <td>3446</td>\n",
       "    </tr>\n",
       "    <tr>\n",
       "      <th>unique</th>\n",
       "      <td>2648</td>\n",
       "      <td>45</td>\n",
       "      <td>2648</td>\n",
       "      <td>2647</td>\n",
       "      <td>2648</td>\n",
       "    </tr>\n",
       "    <tr>\n",
       "      <th>top</th>\n",
       "      <td>Technical Skills Web Technologies: Angular JS,...</td>\n",
       "      <td>SALES</td>\n",
       "      <td>technical skills web technologies  angular js ...</td>\n",
       "      <td>technical skill web technology angular j html ...</td>\n",
       "      <td>['technical', 'skill', 'web', 'technology', 'a...</td>\n",
       "    </tr>\n",
       "    <tr>\n",
       "      <th>freq</th>\n",
       "      <td>18</td>\n",
       "      <td>156</td>\n",
       "      <td>18</td>\n",
       "      <td>18</td>\n",
       "      <td>18</td>\n",
       "    </tr>\n",
       "  </tbody>\n",
       "</table>\n",
       "</div>"
      ],
      "text/plain": [
       "                                               Resume_str Category  \\\n",
       "count                                                3446     3446   \n",
       "unique                                               2648       45   \n",
       "top     Technical Skills Web Technologies: Angular JS,...    SALES   \n",
       "freq                                                   18      156   \n",
       "\n",
       "                                           cleaned_resume  \\\n",
       "count                                                3446   \n",
       "unique                                               2648   \n",
       "top     technical skills web technologies  angular js ...   \n",
       "freq                                                   18   \n",
       "\n",
       "                                           lemmatize_data  \\\n",
       "count                                                3445   \n",
       "unique                                               2647   \n",
       "top     technical skill web technology angular j html ...   \n",
       "freq                                                   18   \n",
       "\n",
       "                                            tokenize_data  \n",
       "count                                                3446  \n",
       "unique                                               2648  \n",
       "top     ['technical', 'skill', 'web', 'technology', 'a...  \n",
       "freq                                                   18  "
      ]
     },
     "execution_count": 26,
     "metadata": {},
     "output_type": "execute_result"
    }
   ],
   "source": [
    "data.describe()"
   ]
  },
  {
   "cell_type": "code",
   "execution_count": 27,
   "id": "a6d876ef",
   "metadata": {},
   "outputs": [
    {
     "data": {
      "text/plain": [
       "Resume_str        0\n",
       "Category          0\n",
       "cleaned_resume    0\n",
       "lemmatize_data    1\n",
       "tokenize_data     0\n",
       "dtype: int64"
      ]
     },
     "execution_count": 27,
     "metadata": {},
     "output_type": "execute_result"
    }
   ],
   "source": [
    "data.isnull().sum()"
   ]
  },
  {
   "cell_type": "code",
   "execution_count": 28,
   "id": "1c0664e2",
   "metadata": {},
   "outputs": [],
   "source": [
    "data.dropna(inplace=True)"
   ]
  },
  {
   "cell_type": "code",
   "execution_count": 29,
   "id": "5a920fa8",
   "metadata": {},
   "outputs": [
    {
     "data": {
      "text/plain": [
       "Resume_str        0\n",
       "Category          0\n",
       "cleaned_resume    0\n",
       "lemmatize_data    0\n",
       "tokenize_data     0\n",
       "dtype: int64"
      ]
     },
     "execution_count": 29,
     "metadata": {},
     "output_type": "execute_result"
    }
   ],
   "source": [
    "data.isnull().sum()"
   ]
  },
  {
   "cell_type": "code",
   "execution_count": 30,
   "id": "b478c809",
   "metadata": {},
   "outputs": [],
   "source": [
    "tfidf = TfidfVectorizer(stop_words='english', max_features=3000)"
   ]
  },
  {
   "cell_type": "code",
   "execution_count": 31,
   "id": "f5a96a79",
   "metadata": {},
   "outputs": [],
   "source": [
    "from sklearn.preprocessing import LabelEncoder\n",
    "lblencoder = LabelEncoder()\n",
    "data['Category_lbl'] = lblencoder.fit_transform(data['Category'])\n",
    "# target = pd.get_dummies(data['Category'])"
   ]
  },
  {
   "cell_type": "code",
   "execution_count": 32,
   "id": "4d265fa5",
   "metadata": {},
   "outputs": [],
   "source": [
    "datao = data[['Category','Category_lbl']].drop_duplicates(keep='first').sort_values('Category_lbl')"
   ]
  },
  {
   "cell_type": "code",
   "execution_count": 33,
   "id": "c3d1cee9",
   "metadata": {},
   "outputs": [],
   "source": [
    "target_dict = {key:value for key, value in zip(data['Category_lbl'], data['Category'])}"
   ]
  },
  {
   "cell_type": "code",
   "execution_count": 34,
   "id": "9daf10fb",
   "metadata": {},
   "outputs": [
    {
     "data": {
      "text/plain": [
       "{31: 'HR',\n",
       " 19: 'DESIGNER',\n",
       " 32: 'INFORMATION_TECHNOLOGY',\n",
       " 42: 'TEACHER',\n",
       " 1: 'ADVOCATE',\n",
       " 12: 'BUSINESS_DEVELOPMENT',\n",
       " 30: 'HEALTHCARE',\n",
       " 27: 'FITNESS',\n",
       " 2: 'AGRICULTURE',\n",
       " 10: 'BPO',\n",
       " 40: 'SALES',\n",
       " 16: 'CONSULTANT',\n",
       " 21: 'DIGITAL_MEDIA',\n",
       " 6: 'AUTOMOBILE',\n",
       " 13: 'CHEF',\n",
       " 26: 'FINANCE',\n",
       " 3: 'APPAREL',\n",
       " 24: 'ENGINEERING',\n",
       " 0: 'ACCOUNTANT',\n",
       " 15: 'CONSTRUCTION',\n",
       " 38: 'PUBLIC_RELATIONS',\n",
       " 8: 'BANKING',\n",
       " 4: 'ARTS',\n",
       " 7: 'AVIATION',\n",
       " 17: 'DATA SCIENCE',\n",
       " 44: 'WEB DESIGNING',\n",
       " 34: 'MECHANICAL ENGINEER',\n",
       " 29: 'HEALTH AND FITNESS',\n",
       " 14: 'CIVIL ENGINEER',\n",
       " 33: 'JAVA DEVELOPER',\n",
       " 11: 'BUSINESS ANALYST',\n",
       " 41: 'SAP DEVELOPER',\n",
       " 5: 'AUTOMATION TESTING',\n",
       " 23: 'ELECTRICAL ENGINEERING',\n",
       " 36: 'OPERATIONS MANAGER',\n",
       " 39: 'PYTHON DEVELOPER',\n",
       " 20: 'DEVOPS ENGINEER',\n",
       " 35: 'NETWORK SECURITY ENGINEER',\n",
       " 37: 'PMO',\n",
       " 18: 'DATABASE',\n",
       " 28: 'HADOOP',\n",
       " 25: 'ETL DEVELOPER',\n",
       " 22: 'DOTNET DEVELOPER',\n",
       " 9: 'BLOCKCHAIN',\n",
       " 43: 'TESTING'}"
      ]
     },
     "execution_count": 34,
     "metadata": {},
     "output_type": "execute_result"
    }
   ],
   "source": [
    "target_dict"
   ]
  },
  {
   "cell_type": "code",
   "execution_count": 35,
   "id": "c6b0a7d5",
   "metadata": {},
   "outputs": [],
   "source": [
    "features = data['lemmatize_data'].values\n",
    "target = data['Category_lbl'].values"
   ]
  },
  {
   "cell_type": "code",
   "execution_count": 36,
   "id": "1abf74d5",
   "metadata": {},
   "outputs": [],
   "source": [
    "from sklearn.model_selection import train_test_split\n",
    "X_train,X_test,y_train,y_test = train_test_split(features,target,test_size=0.2,random_state=42, shuffle=True, stratify=target)"
   ]
  },
  {
   "cell_type": "code",
   "execution_count": 37,
   "id": "a6379859",
   "metadata": {},
   "outputs": [],
   "source": [
    "X_train = tfidf.fit_transform(X_train)\n",
    "X_test = tfidf.transform(X_test)"
   ]
  },
  {
   "cell_type": "code",
   "execution_count": 38,
   "id": "067bc7d8",
   "metadata": {},
   "outputs": [],
   "source": [
    "from sklearn.metrics import accuracy_score, classification_report\n",
    "import warnings\n",
    "warnings.filterwarnings('ignore')\n",
    "from sklearn.svm import SVC\n",
    "from sklearn.linear_model import LogisticRegression\n",
    "model1 = SVC()\n",
    "model2 = LogisticRegression()\n"
   ]
  },
  {
   "cell_type": "code",
   "execution_count": 39,
   "id": "667d3ebe",
   "metadata": {},
   "outputs": [],
   "source": [
    "from sklearn.multiclass import OneVsRestClassifier\n",
    "model_svc = OneVsRestClassifier(model1)\n",
    "model_log = OneVsRestClassifier(model2)"
   ]
  },
  {
   "cell_type": "code",
   "execution_count": 40,
   "id": "5d49ca00",
   "metadata": {},
   "outputs": [
    {
     "data": {
      "text/plain": [
       "OneVsRestClassifier(estimator=LogisticRegression())"
      ]
     },
     "execution_count": 40,
     "metadata": {},
     "output_type": "execute_result"
    }
   ],
   "source": [
    "model_svc.fit(X_train, y_train)\n",
    "model_log.fit(X_train, y_train)"
   ]
  },
  {
   "cell_type": "code",
   "execution_count": 41,
   "id": "2f3f2513",
   "metadata": {},
   "outputs": [
    {
     "name": "stdout",
     "output_type": "stream",
     "text": [
      "training accuracy of onevsall model svc: 0.9916545718432511\n",
      "testing accuracy of onevsall model svc: 0.7808417997097242\n",
      "training accuracy of onevsall model log: 0.8276487663280117\n",
      "testing accuracy of onevsall model log: 0.7576197387518142\n"
     ]
    }
   ],
   "source": [
    "t_pred = model_svc.predict(X_train)\n",
    "t_pred2 = model_svc.predict(X_test)\n",
    "pred = model_log.predict(X_train)\n",
    "pred2 = model_log.predict(X_test)\n",
    "\n",
    "\n",
    "print(\"training accuracy of onevsall model svc:\",accuracy_score(y_train,t_pred))\n",
    "print(\"testing accuracy of onevsall model svc:\",accuracy_score(y_test,t_pred2))\n",
    "print(\"training accuracy of onevsall model log:\",accuracy_score(y_train,pred))\n",
    "print(\"testing accuracy of onevsall model log:\",accuracy_score(y_test,pred2))"
   ]
  },
  {
   "cell_type": "code",
   "execution_count": 42,
   "id": "59b050c9",
   "metadata": {},
   "outputs": [
    {
     "name": "stdout",
     "output_type": "stream",
     "text": [
      "classifaction report for svc:               precision    recall  f1-score   support\n",
      "\n",
      "           0       0.54      0.83      0.66        24\n",
      "           1       0.77      0.82      0.79        28\n",
      "           2       0.78      0.58      0.67        12\n",
      "           3       0.78      0.37      0.50        19\n",
      "           4       0.79      0.68      0.73        28\n",
      "           5       1.00      1.00      1.00         5\n",
      "           6       1.00      0.29      0.44         7\n",
      "           7       0.74      0.87      0.80        23\n",
      "           8       0.59      0.57      0.58        23\n",
      "           9       1.00      1.00      1.00         8\n",
      "          10       0.00      0.00      0.00         4\n",
      "          11       1.00      1.00      1.00         6\n",
      "          12       0.62      0.75      0.68        24\n",
      "          13       0.88      0.92      0.90        24\n",
      "          14       1.00      1.00      1.00         5\n",
      "          15       0.86      0.86      0.86        22\n",
      "          16       0.60      0.13      0.21        23\n",
      "          17       1.00      1.00      1.00         8\n",
      "          18       1.00      1.00      1.00         7\n",
      "          19       0.77      0.81      0.79        21\n",
      "          20       1.00      1.00      1.00        11\n",
      "          21       0.67      0.74      0.70        19\n",
      "          22       0.75      1.00      0.86         6\n",
      "          23       1.00      1.00      1.00         6\n",
      "          24       0.84      0.88      0.86        24\n",
      "          25       1.00      1.00      1.00         8\n",
      "          26       0.64      0.58      0.61        24\n",
      "          27       0.94      0.65      0.77        23\n",
      "          28       1.00      1.00      1.00         8\n",
      "          29       1.00      1.00      1.00         6\n",
      "          30       0.56      0.61      0.58        23\n",
      "          31       0.76      0.90      0.82        31\n",
      "          32       0.61      0.71      0.65        24\n",
      "          33       0.89      1.00      0.94        17\n",
      "          34       1.00      1.00      1.00         8\n",
      "          35       1.00      1.00      1.00         5\n",
      "          36       0.89      1.00      0.94         8\n",
      "          37       1.00      1.00      1.00         6\n",
      "          38       0.74      0.77      0.76        22\n",
      "          39       1.00      1.00      1.00        10\n",
      "          40       0.71      0.81      0.76        31\n",
      "          41       1.00      1.00      1.00         5\n",
      "          42       0.74      0.85      0.79        20\n",
      "          43       1.00      1.00      1.00        14\n",
      "          44       1.00      1.00      1.00         9\n",
      "\n",
      "    accuracy                           0.78       689\n",
      "   macro avg       0.83      0.82      0.81       689\n",
      "weighted avg       0.78      0.78      0.77       689\n",
      "\n",
      "classifaction report for log:               precision    recall  f1-score   support\n",
      "\n",
      "           0       0.57      0.83      0.68        24\n",
      "           1       0.55      0.64      0.59        28\n",
      "           2       1.00      0.50      0.67        12\n",
      "           3       0.78      0.37      0.50        19\n",
      "           4       0.65      0.71      0.68        28\n",
      "           5       1.00      1.00      1.00         5\n",
      "           6       0.00      0.00      0.00         7\n",
      "           7       0.69      0.78      0.73        23\n",
      "           8       0.68      0.57      0.62        23\n",
      "           9       1.00      1.00      1.00         8\n",
      "          10       0.00      0.00      0.00         4\n",
      "          11       1.00      1.00      1.00         6\n",
      "          12       0.58      0.79      0.67        24\n",
      "          13       0.88      0.88      0.88        24\n",
      "          14       1.00      1.00      1.00         5\n",
      "          15       0.90      0.82      0.86        22\n",
      "          16       0.75      0.26      0.39        23\n",
      "          17       1.00      1.00      1.00         8\n",
      "          18       1.00      1.00      1.00         7\n",
      "          19       0.75      0.71      0.73        21\n",
      "          20       1.00      1.00      1.00        11\n",
      "          21       0.70      0.74      0.72        19\n",
      "          22       0.67      1.00      0.80         6\n",
      "          23       1.00      1.00      1.00         6\n",
      "          24       0.72      0.88      0.79        24\n",
      "          25       1.00      1.00      1.00         8\n",
      "          26       0.67      0.58      0.62        24\n",
      "          27       0.83      0.65      0.73        23\n",
      "          28       1.00      1.00      1.00         8\n",
      "          29       1.00      0.67      0.80         6\n",
      "          30       0.55      0.48      0.51        23\n",
      "          31       0.81      0.84      0.83        31\n",
      "          32       0.64      0.67      0.65        24\n",
      "          33       0.89      1.00      0.94        17\n",
      "          34       1.00      1.00      1.00         8\n",
      "          35       1.00      1.00      1.00         5\n",
      "          36       1.00      1.00      1.00         8\n",
      "          37       1.00      1.00      1.00         6\n",
      "          38       0.69      0.82      0.75        22\n",
      "          39       1.00      1.00      1.00        10\n",
      "          40       0.56      0.81      0.66        31\n",
      "          41       1.00      1.00      1.00         5\n",
      "          42       0.85      0.85      0.85        20\n",
      "          43       1.00      1.00      1.00        14\n",
      "          44       1.00      1.00      1.00         9\n",
      "\n",
      "    accuracy                           0.76       689\n",
      "   macro avg       0.81      0.80      0.79       689\n",
      "weighted avg       0.76      0.76      0.75       689\n",
      "\n"
     ]
    }
   ],
   "source": [
    "print(\"classifaction report for svc:\", classification_report(y_test, t_pred2))\n",
    "print(\"classifaction report for log:\", classification_report(y_test, pred2))"
   ]
  },
  {
   "cell_type": "code",
   "execution_count": 50,
   "id": "26a0a7f5",
   "metadata": {},
   "outputs": [],
   "source": [
    "dt = tfidf.transform([\"yadav narayan hari  student at university of mumbai  github    hackerrank    linkedin     yashwant nagar  teen dongri near pathak hotel goregaon west mumbai        maharashtra             narayanh     gmail com  experience  skills  ineuron intelligence pvt ltd  bangalore   internship  august        january       during internship with ineuron  they have allotted individual projects to  every one  i have done two projects   news article sorting  and   jobseeker web application       python  django  framework    mysql  database     machine learning   nlp  statistics  deep  learning       gcp  achievements  google facilitator program public pro le    public pro les    aab     a         f    e  fb       platforms    windows       anaconda     jupyter notebook    vs code ide   languages  hindi  english   education  patkar varde college  mumbai  b sc  it   july        july       in b sc it  i have secured a score of          i c  durgaganj bhadohi  uttar pradesh   hsc  july        july       in hsc  i have secured a score of          projects  jobseeker web application   python  django  jobseeker web application provides an easy process to apply for any  jobs or publish any jobs within a single click   github  repo     application link     news article sorting   python  django ml nlp  sort any news article within     or less than   second  this project can sort   ve di erent classes of news  business sports politics technical and  entertainment   github repo     application link \"])\n",
    "res = model_log.predict_proba(dt)"
   ]
  },
  {
   "cell_type": "code",
   "execution_count": 51,
   "id": "7874e51c",
   "metadata": {},
   "outputs": [
    {
     "data": {
      "text/plain": [
       "array([[0.01434169, 0.038766  , 0.03073561, 0.01840774, 0.06672627,\n",
       "        0.01241523, 0.01542662, 0.02470728, 0.01989025, 0.01595759,\n",
       "        0.01001298, 0.01583084, 0.01679387, 0.01863172, 0.00944653,\n",
       "        0.01945518, 0.03384422, 0.04202594, 0.01242705, 0.02569609,\n",
       "        0.01423468, 0.03064031, 0.01064725, 0.01175058, 0.02297706,\n",
       "        0.01095423, 0.01897904, 0.01765499, 0.00908332, 0.0153409 ,\n",
       "        0.01907901, 0.03083829, 0.02141158, 0.01546999, 0.0186559 ,\n",
       "        0.00856356, 0.00942805, 0.00528201, 0.04926882, 0.09352387,\n",
       "        0.01770398, 0.01374539, 0.02415799, 0.01801154, 0.03105896]])"
      ]
     },
     "execution_count": 51,
     "metadata": {},
     "output_type": "execute_result"
    }
   ],
   "source": [
    "res"
   ]
  },
  {
   "cell_type": "code",
   "execution_count": 53,
   "id": "17d83874",
   "metadata": {},
   "outputs": [
    {
     "name": "stdout",
     "output_type": "stream",
     "text": [
      "{'C': [0.1,\n",
      "       0.2,\n",
      "       0.30000000000000004,\n",
      "       0.4,\n",
      "       0.5,\n",
      "       0.6,\n",
      "       0.7000000000000001,\n",
      "       0.8,\n",
      "       0.9,\n",
      "       1.0],\n",
      " 'class_weight': ['balanced', None],\n",
      " 'multi_class': ['multinomial'],\n",
      " 'penalty': ['l2'],\n",
      " 'solver': ['newton-cg', 'sag', 'saga', 'lbfgs']}\n"
     ]
    }
   ],
   "source": [
    "from pprint import pprint\n",
    "import numpy as np\n",
    "\n",
    "C = [float(x) for x in np.linspace(start = 0.1, stop = 1, num = 10)]\n",
    "\n",
    "# multi_class\n",
    "multi_class = ['multinomial']\n",
    "\n",
    "# solver\n",
    "solver = ['newton-cg', 'sag', 'saga', 'lbfgs']\n",
    " \n",
    "# class_weight\n",
    "class_weight = ['balanced', None]\n",
    "\n",
    "# penalty\n",
    "penalty = ['l2']\n",
    "\n",
    "# Create the random grid\n",
    "random_grid = {'C': C,\n",
    "               'multi_class': multi_class,\n",
    "               'solver': solver,\n",
    "               'class_weight': class_weight,\n",
    "               'penalty': penalty}\n",
    "\n",
    "pprint(random_grid)"
   ]
  },
  {
   "cell_type": "code",
   "execution_count": 56,
   "id": "e06fe87c",
   "metadata": {},
   "outputs": [
    {
     "name": "stdout",
     "output_type": "stream",
     "text": [
      "Fitting 3 folds for each of 10 candidates, totalling 30 fits\n"
     ]
    },
    {
     "data": {
      "text/plain": [
       "RandomizedSearchCV(cv=3, estimator=LogisticRegression(),\n",
       "                   param_distributions={'C': [0.1, 0.2, 0.30000000000000004,\n",
       "                                              0.4, 0.5, 0.6, 0.7000000000000001,\n",
       "                                              0.8, 0.9, 1.0],\n",
       "                                        'class_weight': ['balanced', None],\n",
       "                                        'multi_class': ['multinomial'],\n",
       "                                        'penalty': ['l2'],\n",
       "                                        'solver': ['newton-cg', 'sag', 'saga',\n",
       "                                                   'lbfgs']},\n",
       "                   random_state=8, scoring='accuracy', verbose=1)"
      ]
     },
     "execution_count": 56,
     "metadata": {},
     "output_type": "execute_result"
    }
   ],
   "source": [
    "from sklearn.model_selection import RandomizedSearchCV\n",
    "model = LogisticRegression()\n",
    "random_search = RandomizedSearchCV(estimator=model,\n",
    "                                   param_distributions=random_grid,\n",
    "                                   n_iter=10,\n",
    "                                   scoring='accuracy',\n",
    "                                   cv=3, \n",
    "                                   verbose=1, \n",
    "                                   random_state=8)\n",
    "\n",
    "# Fit the random search model\n",
    "random_search.fit(X_train, y_train)"
   ]
  },
  {
   "cell_type": "code",
   "execution_count": 57,
   "id": "155a8351",
   "metadata": {},
   "outputs": [
    {
     "data": {
      "text/plain": [
       "{'solver': 'sag',\n",
       " 'penalty': 'l2',\n",
       " 'multi_class': 'multinomial',\n",
       " 'class_weight': 'balanced',\n",
       " 'C': 1.0}"
      ]
     },
     "execution_count": 57,
     "metadata": {},
     "output_type": "execute_result"
    }
   ],
   "source": [
    "random_search.best_params_\n"
   ]
  },
  {
   "cell_type": "code",
   "execution_count": 60,
   "id": "76d2b122",
   "metadata": {},
   "outputs": [],
   "source": [
    "logm = LogisticRegression(solver='sag',\n",
    "                          penalty='l2',\n",
    "                          multi_class='multinomial',\n",
    "                          class_weight='balanced',\n",
    "                          C=1.0)\n",
    "\n",
    "mod_log = OneVsRestClassifier(logm)"
   ]
  },
  {
   "cell_type": "code",
   "execution_count": 62,
   "id": "17e502b6",
   "metadata": {},
   "outputs": [
    {
     "data": {
      "text/plain": [
       "OneVsRestClassifier(estimator=LogisticRegression(class_weight='balanced',\n",
       "                                                 multi_class='multinomial',\n",
       "                                                 solver='sag'))"
      ]
     },
     "execution_count": 62,
     "metadata": {},
     "output_type": "execute_result"
    }
   ],
   "source": [
    "mod_log.fit(X_train, y_train)"
   ]
  },
  {
   "cell_type": "code",
   "execution_count": 61,
   "id": "70c07f6f",
   "metadata": {},
   "outputs": [
    {
     "ename": "NotFittedError",
     "evalue": "This OneVsRestClassifier instance is not fitted yet. Call 'fit' with appropriate arguments before using this estimator.",
     "output_type": "error",
     "traceback": [
      "\u001b[1;31m---------------------------------------------------------------------------\u001b[0m",
      "\u001b[1;31mNotFittedError\u001b[0m                            Traceback (most recent call last)",
      "\u001b[1;32mC:\\Users\\NARAYA~1\\AppData\\Local\\Temp/ipykernel_12100/1686322424.py\u001b[0m in \u001b[0;36m<module>\u001b[1;34m\u001b[0m\n\u001b[1;32m----> 1\u001b[1;33m \u001b[0mpred\u001b[0m \u001b[1;33m=\u001b[0m \u001b[0mmod_log\u001b[0m\u001b[1;33m.\u001b[0m\u001b[0mpredict\u001b[0m\u001b[1;33m(\u001b[0m\u001b[0mX_train\u001b[0m\u001b[1;33m)\u001b[0m\u001b[1;33m\u001b[0m\u001b[1;33m\u001b[0m\u001b[0m\n\u001b[0m\u001b[0;32m      2\u001b[0m \u001b[0mpred2\u001b[0m \u001b[1;33m=\u001b[0m \u001b[0mmod_log\u001b[0m\u001b[1;33m.\u001b[0m\u001b[0mpredict\u001b[0m\u001b[1;33m(\u001b[0m\u001b[0mX_test\u001b[0m\u001b[1;33m)\u001b[0m\u001b[1;33m\u001b[0m\u001b[1;33m\u001b[0m\u001b[0m\n\u001b[0;32m      3\u001b[0m \u001b[1;33m\u001b[0m\u001b[0m\n\u001b[0;32m      4\u001b[0m \u001b[0mprint\u001b[0m\u001b[1;33m(\u001b[0m\u001b[1;34m\"training accuracy of onevsall model log:\"\u001b[0m\u001b[1;33m,\u001b[0m\u001b[0maccuracy_score\u001b[0m\u001b[1;33m(\u001b[0m\u001b[0my_train\u001b[0m\u001b[1;33m,\u001b[0m\u001b[0mpred\u001b[0m\u001b[1;33m)\u001b[0m\u001b[1;33m)\u001b[0m\u001b[1;33m\u001b[0m\u001b[1;33m\u001b[0m\u001b[0m\n\u001b[0;32m      5\u001b[0m \u001b[0mprint\u001b[0m\u001b[1;33m(\u001b[0m\u001b[1;34m\"testing accuracy of onevsall model log:\"\u001b[0m\u001b[1;33m,\u001b[0m\u001b[0maccuracy_score\u001b[0m\u001b[1;33m(\u001b[0m\u001b[0my_test\u001b[0m\u001b[1;33m,\u001b[0m\u001b[0mpred2\u001b[0m\u001b[1;33m)\u001b[0m\u001b[1;33m)\u001b[0m\u001b[1;33m\u001b[0m\u001b[1;33m\u001b[0m\u001b[0m\n",
      "\u001b[1;32m~\\anaconda3\\lib\\site-packages\\sklearn\\multiclass.py\u001b[0m in \u001b[0;36mpredict\u001b[1;34m(self, X)\u001b[0m\n\u001b[0;32m    433\u001b[0m             \u001b[0mPredicted\u001b[0m \u001b[0mmulti\u001b[0m\u001b[1;33m-\u001b[0m\u001b[1;32mclass\u001b[0m \u001b[0mtargets\u001b[0m\u001b[1;33m.\u001b[0m\u001b[1;33m\u001b[0m\u001b[1;33m\u001b[0m\u001b[0m\n\u001b[0;32m    434\u001b[0m         \"\"\"\n\u001b[1;32m--> 435\u001b[1;33m         \u001b[0mcheck_is_fitted\u001b[0m\u001b[1;33m(\u001b[0m\u001b[0mself\u001b[0m\u001b[1;33m)\u001b[0m\u001b[1;33m\u001b[0m\u001b[1;33m\u001b[0m\u001b[0m\n\u001b[0m\u001b[0;32m    436\u001b[0m \u001b[1;33m\u001b[0m\u001b[0m\n\u001b[0;32m    437\u001b[0m         \u001b[0mn_samples\u001b[0m \u001b[1;33m=\u001b[0m \u001b[0m_num_samples\u001b[0m\u001b[1;33m(\u001b[0m\u001b[0mX\u001b[0m\u001b[1;33m)\u001b[0m\u001b[1;33m\u001b[0m\u001b[1;33m\u001b[0m\u001b[0m\n",
      "\u001b[1;32m~\\anaconda3\\lib\\site-packages\\sklearn\\utils\\validation.py\u001b[0m in \u001b[0;36mcheck_is_fitted\u001b[1;34m(estimator, attributes, msg, all_or_any)\u001b[0m\n\u001b[0;32m   1220\u001b[0m \u001b[1;33m\u001b[0m\u001b[0m\n\u001b[0;32m   1221\u001b[0m     \u001b[1;32mif\u001b[0m \u001b[1;32mnot\u001b[0m \u001b[0mfitted\u001b[0m\u001b[1;33m:\u001b[0m\u001b[1;33m\u001b[0m\u001b[1;33m\u001b[0m\u001b[0m\n\u001b[1;32m-> 1222\u001b[1;33m         \u001b[1;32mraise\u001b[0m \u001b[0mNotFittedError\u001b[0m\u001b[1;33m(\u001b[0m\u001b[0mmsg\u001b[0m \u001b[1;33m%\u001b[0m \u001b[1;33m{\u001b[0m\u001b[1;34m\"name\"\u001b[0m\u001b[1;33m:\u001b[0m \u001b[0mtype\u001b[0m\u001b[1;33m(\u001b[0m\u001b[0mestimator\u001b[0m\u001b[1;33m)\u001b[0m\u001b[1;33m.\u001b[0m\u001b[0m__name__\u001b[0m\u001b[1;33m}\u001b[0m\u001b[1;33m)\u001b[0m\u001b[1;33m\u001b[0m\u001b[1;33m\u001b[0m\u001b[0m\n\u001b[0m\u001b[0;32m   1223\u001b[0m \u001b[1;33m\u001b[0m\u001b[0m\n\u001b[0;32m   1224\u001b[0m \u001b[1;33m\u001b[0m\u001b[0m\n",
      "\u001b[1;31mNotFittedError\u001b[0m: This OneVsRestClassifier instance is not fitted yet. Call 'fit' with appropriate arguments before using this estimator."
     ]
    }
   ],
   "source": [
    "\n",
    "pred = mod_log.predict(X_train)\n",
    "pred2 = mod_log.predict(X_test)\n",
    "\n",
    "print(\"training accuracy of onevsall model log:\",accuracy_score(y_train,pred))\n",
    "print(\"testing accuracy of onevsall model log:\",accuracy_score(y_test,pred2))"
   ]
  },
  {
   "cell_type": "code",
   "execution_count": null,
   "id": "86d2a8f1",
   "metadata": {},
   "outputs": [],
   "source": []
  }
 ],
 "metadata": {
  "kernelspec": {
   "display_name": "Python 3 (ipykernel)",
   "language": "python",
   "name": "python3"
  },
  "language_info": {
   "codemirror_mode": {
    "name": "ipython",
    "version": 3
   },
   "file_extension": ".py",
   "mimetype": "text/x-python",
   "name": "python",
   "nbconvert_exporter": "python",
   "pygments_lexer": "ipython3",
   "version": "3.8.5"
  }
 },
 "nbformat": 4,
 "nbformat_minor": 5
}
