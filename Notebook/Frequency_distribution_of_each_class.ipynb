{
 "cells": [
  {
   "cell_type": "code",
   "execution_count": 45,
   "id": "f68fb076",
   "metadata": {},
   "outputs": [],
   "source": [
    "import pickle\n",
    "import nltk\n",
    "import matplotlib.pyplot as plt\n",
    "import pandas as pd"
   ]
  },
  {
   "cell_type": "code",
   "execution_count": 46,
   "id": "8e7479c8",
   "metadata": {},
   "outputs": [],
   "source": [
    "# with open('token_normlize_data.pkl','rb') as data:\n",
    "#     text_data = pickle.load(data)\n",
    "data = pd.read_csv(\"E:\\Virtual_room\\project\\AIrecruiter\\data\\processed\\\\tokenized_data.csv\")"
   ]
  },
  {
   "cell_type": "code",
   "execution_count": 62,
   "id": "be23febe",
   "metadata": {},
   "outputs": [],
   "source": [
    "# data.head()"
   ]
  },
  {
   "cell_type": "code",
   "execution_count": 48,
   "id": "69ab278e",
   "metadata": {},
   "outputs": [],
   "source": [
    "total_resume_category = data['Category'].unique() "
   ]
  },
  {
   "cell_type": "code",
   "execution_count": 49,
   "id": "91a14ecd",
   "metadata": {},
   "outputs": [
    {
     "data": {
      "text/plain": [
       "array(['HR', 'DESIGNER', 'INFORMATION_TECHNOLOGY', 'TEACHER', 'ADVOCATE',\n",
       "       'BUSINESS_DEVELOPMENT', 'HEALTHCARE', 'FITNESS', 'AGRICULTURE',\n",
       "       'BPO', 'SALES', 'CONSULTANT', 'DIGITAL_MEDIA', 'AUTOMOBILE',\n",
       "       'CHEF', 'FINANCE', 'APPAREL', 'ENGINEERING', 'ACCOUNTANT',\n",
       "       'CONSTRUCTION', 'PUBLIC_RELATIONS', 'BANKING', 'ARTS', 'AVIATION'],\n",
       "      dtype=object)"
      ]
     },
     "execution_count": 49,
     "metadata": {},
     "output_type": "execute_result"
    }
   ],
   "source": [
    "total_resume_category"
   ]
  },
  {
   "cell_type": "code",
   "execution_count": 50,
   "id": "2ace97c4",
   "metadata": {},
   "outputs": [],
   "source": [
    "# replac the Category value 'INFORMATION-TECHNOLOGY':'INFORMATION_TECHNOLOGY'\n",
    "data.replace({'INFORMATION-TECHNOLOGY':'INFORMATION_TECHNOLOGY','BUSINESS-DEVELOPMENT':'BUSINESS_DEVELOPMENT',\n",
    "                  'DIGITAL-MEDIA':'DIGITAL_MEDIA','PUBLIC-RELATIONS':'PUBLIC_RELATIONS'},inplace=True)"
   ]
  },
  {
   "cell_type": "code",
   "execution_count": 51,
   "id": "0fa1abbd",
   "metadata": {},
   "outputs": [],
   "source": [
    "# HR\n",
    "# data = data.loc[(text_data.Category==\"DESIGNER\")]"
   ]
  },
  {
   "cell_type": "code",
   "execution_count": 52,
   "id": "9adc0ab8",
   "metadata": {},
   "outputs": [
    {
     "data": {
      "text/plain": [
       "pandas.core.series.Series"
      ]
     },
     "execution_count": 52,
     "metadata": {},
     "output_type": "execute_result"
    }
   ],
   "source": [
    "# DESIGNER\n",
    "type(data['tokenize_data'])"
   ]
  },
  {
   "cell_type": "code",
   "execution_count": 53,
   "id": "c8e82a84",
   "metadata": {},
   "outputs": [],
   "source": [
    "# lt = data['tokenize_data']"
   ]
  },
  {
   "cell_type": "code",
   "execution_count": 54,
   "id": "c4eb7bfd",
   "metadata": {},
   "outputs": [],
   "source": [
    "# for w in lt.iteritems():\n",
    "#     print()"
   ]
  },
  {
   "cell_type": "code",
   "execution_count": null,
   "id": "c81a27af",
   "metadata": {},
   "outputs": [],
   "source": []
  },
  {
   "cell_type": "code",
   "execution_count": 55,
   "id": "d73662e8",
   "metadata": {},
   "outputs": [],
   "source": [
    "for category_class in total_resume_category:\n",
    "    data = data.loc[(data.Category==category_class)]\n",
    "    raw_text = []\n",
    "    lt = data['tokenize_data']\n",
    "    for i in range(len(data)):\n",
    "        raw_text = eval(\"raw_text+\"+lt[i])\n",
    "    globals()[category_class] = raw_text\n",
    "    "
   ]
  },
  {
   "cell_type": "code",
   "execution_count": 56,
   "id": "ea5acb9c",
   "metadata": {},
   "outputs": [
    {
     "data": {
      "text/plain": [
       "['hr',\n",
       " 'administrator',\n",
       " 'marketing',\n",
       " 'associate',\n",
       " 'hr',\n",
       " 'administrator',\n",
       " 'summar',\n",
       " 'dedicated',\n",
       " 'customer',\n",
       " 'service',\n",
       " 'manager',\n",
       " '15',\n",
       " 'ear',\n",
       " 'experience',\n",
       " 'hospitalit',\n",
       " 'customer',\n",
       " 'service',\n",
       " 'management',\n",
       " 'respected',\n",
       " 'builder',\n",
       " 'leader',\n",
       " 'customer',\n",
       " 'focused',\n",
       " 'team',\n",
       " 'strives',\n",
       " 'instill',\n",
       " 'shared',\n",
       " 'enthusiastic',\n",
       " 'commitment',\n",
       " 'customer',\n",
       " 'service',\n",
       " 'highlight',\n",
       " 'focused',\n",
       " 'customer',\n",
       " 'satisfaction',\n",
       " 'team',\n",
       " 'management',\n",
       " 'marketing',\n",
       " 'savv',\n",
       " 'conflict',\n",
       " 'resolution',\n",
       " 'technique',\n",
       " 'training',\n",
       " 'development',\n",
       " 'skilled',\n",
       " 'multi',\n",
       " 'tasker',\n",
       " 'client',\n",
       " 'relation',\n",
       " 'specialist',\n",
       " 'omplishments',\n",
       " 'missouri',\n",
       " 'dot',\n",
       " 'supervisor',\n",
       " 'training',\n",
       " 'certification',\n",
       " 'certified',\n",
       " 'b',\n",
       " 'ihg',\n",
       " 'customer',\n",
       " 'lo',\n",
       " 'alt',\n",
       " 'marketing',\n",
       " 'b',\n",
       " 'segment',\n",
       " 'hilton',\n",
       " 'worldwide',\n",
       " 'general',\n",
       " 'manager',\n",
       " 'training',\n",
       " 'certification',\n",
       " 'omplished',\n",
       " 'trainer',\n",
       " 'cross',\n",
       " 'server',\n",
       " 'hospitalit',\n",
       " 'stem',\n",
       " 'hilton',\n",
       " 'onq',\n",
       " 'micros',\n",
       " 'opera',\n",
       " 'pm',\n",
       " 'fidelio',\n",
       " 'opera',\n",
       " 'reservation',\n",
       " 'stem',\n",
       " 'or',\n",
       " 'holidex',\n",
       " 'completed',\n",
       " 'course',\n",
       " 'seminar',\n",
       " 'customer',\n",
       " 'service',\n",
       " 'sale',\n",
       " 'strategy',\n",
       " 'inventor',\n",
       " 'control',\n",
       " 'loss',\n",
       " 'prevention',\n",
       " 'safet',\n",
       " 'time',\n",
       " 'management',\n",
       " 'leadership',\n",
       " 'performance',\n",
       " 'assessment',\n",
       " 'experience',\n",
       " 'hr',\n",
       " 'administrator',\n",
       " 'marketing',\n",
       " 'associate',\n",
       " 'hr',\n",
       " 'administrator',\n",
       " 'dec',\n",
       " '2013',\n",
       " 'current',\n",
       " 'compan',\n",
       " 'name',\n",
       " 'cit',\n",
       " 'state',\n",
       " 'help',\n",
       " 'develop',\n",
       " 'policy',\n",
       " 'directs',\n",
       " 'coordinate',\n",
       " 'activity',\n",
       " 'emplo',\n",
       " 'ment',\n",
       " 'compensation',\n",
       " 'labor',\n",
       " 'relation',\n",
       " 'benefit',\n",
       " 'training',\n",
       " 'emplo',\n",
       " 'ee',\n",
       " 'service',\n",
       " 'prepares',\n",
       " 'emplo',\n",
       " 'ee',\n",
       " 'separation',\n",
       " 'notice',\n",
       " 'related',\n",
       " 'documentation',\n",
       " 'keep',\n",
       " 'record',\n",
       " 'benefit',\n",
       " 'plan',\n",
       " 'participation',\n",
       " 'insurance',\n",
       " 'pension',\n",
       " 'plan',\n",
       " 'personnel',\n",
       " 'transaction',\n",
       " 'hire',\n",
       " 'promotion',\n",
       " 'transfer',\n",
       " 'performance',\n",
       " 'review',\n",
       " 'termination',\n",
       " 'emplo',\n",
       " 'ee',\n",
       " 'statistic',\n",
       " 'government',\n",
       " 'reporting',\n",
       " 'advises',\n",
       " 'management',\n",
       " 'appropriate',\n",
       " 'resolution',\n",
       " 'emplo',\n",
       " 'ee',\n",
       " 'relation',\n",
       " 'issue',\n",
       " 'administers',\n",
       " 'benefit',\n",
       " 'program',\n",
       " 'life',\n",
       " 'health',\n",
       " 'dental',\n",
       " 'insurance',\n",
       " 'pension',\n",
       " 'plan',\n",
       " 'vacation',\n",
       " 'sick',\n",
       " 'leave',\n",
       " 'leave',\n",
       " 'absence',\n",
       " 'emplo',\n",
       " 'ee',\n",
       " 'assistance',\n",
       " 'marketing',\n",
       " 'associate',\n",
       " 'designed',\n",
       " 'created',\n",
       " 'marketing',\n",
       " 'collateral',\n",
       " 'sale',\n",
       " 'meeting',\n",
       " 'trade',\n",
       " 'show',\n",
       " 'compan',\n",
       " 'executive',\n",
       " 'managed',\n",
       " 'house',\n",
       " 'advertising',\n",
       " 'program',\n",
       " 'consisting',\n",
       " 'print',\n",
       " 'medium',\n",
       " 'collateral',\n",
       " 'piece',\n",
       " 'assisted',\n",
       " 'complete',\n",
       " 'design',\n",
       " 'launch',\n",
       " 'compan',\n",
       " 'website',\n",
       " '2',\n",
       " 'month',\n",
       " 'created',\n",
       " 'official',\n",
       " 'compan',\n",
       " 'page',\n",
       " 'facebook',\n",
       " 'facilitate',\n",
       " 'interaction',\n",
       " 'customer',\n",
       " 'anal',\n",
       " 'ed',\n",
       " 'rating',\n",
       " 'programming',\n",
       " 'feature',\n",
       " 'competitor',\n",
       " 'evaluate',\n",
       " 'effectiveness',\n",
       " 'marketing',\n",
       " 'strategy',\n",
       " 'advanced',\n",
       " 'medical',\n",
       " 'claim',\n",
       " 'anal',\n",
       " 'st',\n",
       " 'mar',\n",
       " '2012',\n",
       " 'dec',\n",
       " '2013',\n",
       " 'compan',\n",
       " 'name',\n",
       " 'cit',\n",
       " 'state',\n",
       " 'reviewed',\n",
       " 'medical',\n",
       " 'bill',\n",
       " 'urac',\n",
       " 'treatment',\n",
       " 'test',\n",
       " 'hospital',\n",
       " 'sta',\n",
       " 'prior',\n",
       " 'sanctioning',\n",
       " 'claim',\n",
       " 'trained',\n",
       " 'interpret',\n",
       " 'code',\n",
       " 'icd',\n",
       " '9',\n",
       " 'cpt',\n",
       " 'terminolog',\n",
       " 'commonl',\n",
       " 'used',\n",
       " 'medical',\n",
       " 'billing',\n",
       " 'full',\n",
       " 'understand',\n",
       " 'paperwork',\n",
       " 'submitted',\n",
       " 'b',\n",
       " 'healthcare',\n",
       " 'provider',\n",
       " 'required',\n",
       " 'organi',\n",
       " 'ational',\n",
       " 'anal',\n",
       " 'tical',\n",
       " 'skill',\n",
       " 'well',\n",
       " 'computer',\n",
       " 'skill',\n",
       " 'knowledge',\n",
       " 'medical',\n",
       " 'terminolog',\n",
       " 'procedure',\n",
       " 'statistic',\n",
       " 'billing',\n",
       " 'standard',\n",
       " 'data',\n",
       " 'anal',\n",
       " 'si',\n",
       " 'law',\n",
       " 'regarding',\n",
       " 'medical',\n",
       " 'billing',\n",
       " 'assistant',\n",
       " 'general',\n",
       " 'manager',\n",
       " 'jun',\n",
       " '2010',\n",
       " 'dec',\n",
       " '2010',\n",
       " 'compan',\n",
       " 'name',\n",
       " 'cit',\n",
       " 'state',\n",
       " 'performed',\n",
       " 'duty',\n",
       " 'including',\n",
       " 'limited',\n",
       " 'budgeting',\n",
       " 'financial',\n",
       " 'management',\n",
       " 'ounting',\n",
       " 'human',\n",
       " 'resource',\n",
       " 'pa',\n",
       " 'roll',\n",
       " 'purchasing',\n",
       " 'established',\n",
       " 'maintained',\n",
       " 'close',\n",
       " 'working',\n",
       " 'relationship',\n",
       " 'department',\n",
       " 'hotel',\n",
       " 'ensure',\n",
       " 'maximum',\n",
       " 'operation',\n",
       " 'productivit',\n",
       " 'morale',\n",
       " 'guest',\n",
       " 'service',\n",
       " 'handled',\n",
       " 'dail',\n",
       " 'operation',\n",
       " 'reported',\n",
       " 'directl',\n",
       " 'corporate',\n",
       " 'office',\n",
       " 'hired',\n",
       " 'trained',\n",
       " 'staff',\n",
       " 'overall',\n",
       " 'objective',\n",
       " 'goal',\n",
       " 'emphasis',\n",
       " 'high',\n",
       " 'customer',\n",
       " 'service',\n",
       " 'marketing',\n",
       " 'advertising',\n",
       " 'working',\n",
       " 'public',\n",
       " 'relation',\n",
       " 'medium',\n",
       " 'government',\n",
       " 'local',\n",
       " 'business',\n",
       " 'chamber',\n",
       " 'commerce',\n",
       " 'executive',\n",
       " 'support',\n",
       " 'marketing',\n",
       " 'assistant',\n",
       " 'jul',\n",
       " '2007',\n",
       " 'jun',\n",
       " '2010',\n",
       " 'compan',\n",
       " 'name',\n",
       " 'cit',\n",
       " 'state',\n",
       " 'provided',\n",
       " 'assistance',\n",
       " 'various',\n",
       " 'department',\n",
       " 'head',\n",
       " 'executive',\n",
       " 'marketing',\n",
       " 'customer',\n",
       " 'service',\n",
       " 'human',\n",
       " 'resource',\n",
       " 'managed',\n",
       " 'front',\n",
       " 'end',\n",
       " 'operation',\n",
       " 'ensure',\n",
       " 'friendl',\n",
       " 'efficient',\n",
       " 'transaction',\n",
       " 'ensured',\n",
       " 'swift',\n",
       " 'resolution',\n",
       " 'customer',\n",
       " 'issue',\n",
       " 'preserve',\n",
       " 'customer',\n",
       " 'lo',\n",
       " 'alt',\n",
       " 'compl',\n",
       " 'ing',\n",
       " 'compan',\n",
       " 'policy',\n",
       " 'exemplified',\n",
       " 'second',\n",
       " 'none',\n",
       " 'customer',\n",
       " 'service',\n",
       " 'deliver',\n",
       " 'interaction',\n",
       " 'customer',\n",
       " 'potential',\n",
       " 'client',\n",
       " 'reservation',\n",
       " 'front',\n",
       " 'office',\n",
       " 'manager',\n",
       " 'jun',\n",
       " '2004',\n",
       " 'jul',\n",
       " '2007',\n",
       " 'compan',\n",
       " 'name',\n",
       " 'cit',\n",
       " 'state',\n",
       " 'owner',\n",
       " 'partner',\n",
       " 'dec',\n",
       " '2001',\n",
       " '2004',\n",
       " 'compan',\n",
       " 'name',\n",
       " 'cit',\n",
       " 'state',\n",
       " 'price',\n",
       " 'integrit',\n",
       " 'coordinator',\n",
       " 'aug',\n",
       " '1999',\n",
       " 'dec',\n",
       " '2001',\n",
       " 'compan',\n",
       " 'name',\n",
       " 'cit',\n",
       " 'state',\n",
       " 'education',\n",
       " 'n',\n",
       " 'business',\n",
       " 'administration',\n",
       " '1999',\n",
       " 'jefferson',\n",
       " 'college',\n",
       " 'cit',\n",
       " 'state',\n",
       " 'business',\n",
       " 'administration',\n",
       " 'marketing',\n",
       " 'advertising',\n",
       " 'high',\n",
       " 'school',\n",
       " 'diploma',\n",
       " 'college',\n",
       " 'prep',\n",
       " 'study',\n",
       " '1998',\n",
       " 'sainte',\n",
       " 'genevieve',\n",
       " 'senior',\n",
       " 'high',\n",
       " 'cit',\n",
       " 'state',\n",
       " 'awarded',\n",
       " 'american',\n",
       " 'shrubel',\n",
       " 'leadership',\n",
       " 'scholarship',\n",
       " 'jefferson',\n",
       " 'college',\n",
       " 'skill',\n",
       " 'ounting',\n",
       " 'ad',\n",
       " 'advertising',\n",
       " 'anal',\n",
       " 'tical',\n",
       " 'skill',\n",
       " 'benefit',\n",
       " 'billing',\n",
       " 'budgeting',\n",
       " 'client',\n",
       " 'customer',\n",
       " 'service',\n",
       " 'data',\n",
       " 'anal',\n",
       " 'si',\n",
       " 'deliver',\n",
       " 'documentation',\n",
       " 'emplo',\n",
       " 'ee',\n",
       " 'relation',\n",
       " 'financial',\n",
       " 'management',\n",
       " 'government',\n",
       " 'relation',\n",
       " 'human',\n",
       " 'resource',\n",
       " 'insurance',\n",
       " 'labor',\n",
       " 'relation',\n",
       " 'la',\n",
       " 'marketing',\n",
       " 'marketing',\n",
       " 'collateral',\n",
       " 'medical',\n",
       " 'billing',\n",
       " 'medical',\n",
       " 'terminolog',\n",
       " 'office',\n",
       " 'organi',\n",
       " 'ational',\n",
       " 'pa',\n",
       " 'roll',\n",
       " 'performance',\n",
       " 'review',\n",
       " 'personnel',\n",
       " 'policy',\n",
       " 'poster',\n",
       " 'presentation',\n",
       " 'public',\n",
       " 'relation',\n",
       " 'purchasing',\n",
       " 'reporting',\n",
       " 'statistic',\n",
       " 'website',\n",
       " 'hr',\n",
       " 'specialist',\n",
       " 'u',\n",
       " 'hr',\n",
       " 'operation',\n",
       " 'summar',\n",
       " 'versatile',\n",
       " 'medium',\n",
       " 'professional',\n",
       " 'background',\n",
       " 'communication',\n",
       " 'marketing',\n",
       " 'human',\n",
       " 'resource',\n",
       " 'technolog',\n",
       " 'experience',\n",
       " '09',\n",
       " '2015',\n",
       " 'current',\n",
       " 'hr',\n",
       " 'specialist',\n",
       " 'u',\n",
       " 'hr',\n",
       " 'operation',\n",
       " 'compan',\n",
       " 'name',\n",
       " 'cit',\n",
       " 'state',\n",
       " 'managed',\n",
       " 'communication',\n",
       " 'regarding',\n",
       " 'launch',\n",
       " 'operation',\n",
       " 'group',\n",
       " 'polic',\n",
       " 'change',\n",
       " 'stem',\n",
       " 'outage',\n",
       " 'designed',\n",
       " 'standard',\n",
       " 'work',\n",
       " 'job',\n",
       " 'aid',\n",
       " 'create',\n",
       " 'comprehensive',\n",
       " 'training',\n",
       " 'program',\n",
       " 'new',\n",
       " 'emplo',\n",
       " 'ee',\n",
       " 'contractor',\n",
       " 'audited',\n",
       " 'job',\n",
       " 'posting',\n",
       " 'old',\n",
       " 'pending',\n",
       " 'hold',\n",
       " 'draft',\n",
       " 'position',\n",
       " 'audited',\n",
       " 'union',\n",
       " 'hourl',\n",
       " 'non',\n",
       " 'union',\n",
       " 'hourl',\n",
       " 'salar',\n",
       " 'background',\n",
       " 'check',\n",
       " 'drug',\n",
       " 'screen',\n",
       " 'conducted',\n",
       " 'monthl',\n",
       " 'new',\n",
       " 'hire',\n",
       " 'benefit',\n",
       " 'briefing',\n",
       " 'new',\n",
       " 'emplo',\n",
       " 'ee',\n",
       " 'across',\n",
       " 'business',\n",
       " 'unit',\n",
       " 'served',\n",
       " 'link',\n",
       " 'hr',\n",
       " 'manager',\n",
       " 'vendor',\n",
       " 'b',\n",
       " 'handling',\n",
       " 'question',\n",
       " 'resolving',\n",
       " 'stem',\n",
       " 'related',\n",
       " 'issue',\n",
       " 'provide',\n",
       " 'real',\n",
       " 'time',\n",
       " 'process',\n",
       " 'improvement',\n",
       " 'feedback',\n",
       " 'ke',\n",
       " 'metric',\n",
       " 'initiative',\n",
       " 'su',\n",
       " 'essfull',\n",
       " 'branded',\n",
       " 'u',\n",
       " 'hr',\n",
       " 'operation',\n",
       " 'sharepoint',\n",
       " 'site',\n",
       " 'business',\n",
       " 'unit',\n",
       " 'project',\n",
       " 'manager',\n",
       " 'rfi',\n",
       " 'rfp',\n",
       " 'background',\n",
       " 'check',\n",
       " 'drug',\n",
       " 'screen',\n",
       " 'vendor',\n",
       " '01',\n",
       " '2014',\n",
       " '05',\n",
       " '2015',\n",
       " 'marketing',\n",
       " 'communication',\n",
       " 'co',\n",
       " 'op',\n",
       " 'compan',\n",
       " 'name',\n",
       " 'cit',\n",
       " 'state',\n",
       " 'posted',\n",
       " 'new',\n",
       " 'article',\n",
       " 'change',\n",
       " 'update',\n",
       " 'corporate',\n",
       " 'sharepoint',\n",
       " 'site',\n",
       " 'including',\n",
       " 'graphic',\n",
       " 'visual',\n",
       " 'communication',\n",
       " 'researched',\n",
       " 'drafted',\n",
       " 'article',\n",
       " 'feature',\n",
       " 'story',\n",
       " 'promote',\n",
       " 'compan',\n",
       " 'activity',\n",
       " 'program',\n",
       " 'co',\n",
       " 'edited',\n",
       " 'developed',\n",
       " 'content',\n",
       " 'quarterl',\n",
       " 'published',\n",
       " 'newsletter',\n",
       " 'provided',\n",
       " 'communication',\n",
       " 'support',\n",
       " 'internal',\n",
       " 'external',\n",
       " 'event',\n",
       " 'collaborated',\n",
       " 'communication',\n",
       " 'team',\n",
       " 'medium',\n",
       " 'professional',\n",
       " 'vendor',\n",
       " 'determine',\n",
       " 'program',\n",
       " 'need',\n",
       " 'print',\n",
       " 'material',\n",
       " 'web',\n",
       " 'design',\n",
       " 'digital',\n",
       " 'communication',\n",
       " 'entrusted',\n",
       " 'lead',\n",
       " 'product',\n",
       " 'service',\n",
       " 'software',\n",
       " 'launch',\n",
       " 'digital',\n",
       " 'asset',\n",
       " 'management',\n",
       " 'tool',\n",
       " 'marketing',\n",
       " 'toolkit',\n",
       " 'website',\n",
       " 'executive',\n",
       " 'tradeshows',\n",
       " 'calendar',\n",
       " 'created',\n",
       " 'presentation',\n",
       " 'management',\n",
       " 'executive',\n",
       " 'approval',\n",
       " 'ensure',\n",
       " 'alignment',\n",
       " 'corporate',\n",
       " 'guideline',\n",
       " 'branding',\n",
       " 'maintained',\n",
       " 'sikorsk',\n",
       " 'sharepoint',\n",
       " 'site',\n",
       " 'provided',\n",
       " 'timel',\n",
       " 'solution',\n",
       " 'mitigate',\n",
       " 'issue',\n",
       " 'created',\n",
       " 'stor',\n",
       " 'board',\n",
       " 'produced',\n",
       " 'video',\n",
       " 'annual',\n",
       " 'hand',\n",
       " 'meeting',\n",
       " '10',\n",
       " '2012',\n",
       " '01',\n",
       " '2014',\n",
       " 'relationship',\n",
       " 'coordinator',\n",
       " 'marketing',\n",
       " 'specialist',\n",
       " 'compan',\n",
       " 'name',\n",
       " 'cit',\n",
       " 'state',\n",
       " 'partnered',\n",
       " 'vendor',\n",
       " 'manage',\n",
       " 'house',\n",
       " 'advertising',\n",
       " 'program',\n",
       " 'consisting',\n",
       " 'print',\n",
       " 'medium',\n",
       " 'collateral',\n",
       " 'piece',\n",
       " 'coordinated',\n",
       " 'pre',\n",
       " 'show',\n",
       " 'post',\n",
       " 'show',\n",
       " 'activity',\n",
       " 'trade',\n",
       " 'show',\n",
       " 'managed',\n",
       " 'marketing',\n",
       " 'campaign',\n",
       " 'generate',\n",
       " 'new',\n",
       " 'business',\n",
       " 'support',\n",
       " 'partner',\n",
       " 'sale',\n",
       " 'team',\n",
       " 'ordered',\n",
       " 'marketing',\n",
       " 'collateral',\n",
       " 'meeting',\n",
       " 'trade',\n",
       " 'show',\n",
       " 'advisor',\n",
       " 'improved',\n",
       " 'administered',\n",
       " 'modified',\n",
       " 'marketing',\n",
       " 'program',\n",
       " 'increase',\n",
       " 'product',\n",
       " 'awareness',\n",
       " 'assisted',\n",
       " 'preparing',\n",
       " 'internal',\n",
       " 'promotional',\n",
       " 'publication',\n",
       " 'managed',\n",
       " 'marketing',\n",
       " 'material',\n",
       " 'inventor',\n",
       " 'supervised',\n",
       " 'distribution',\n",
       " 'publication',\n",
       " 'ensure',\n",
       " 'high',\n",
       " 'qualit',\n",
       " 'product',\n",
       " 'output',\n",
       " 'coordinated',\n",
       " 'marketing',\n",
       " 'material',\n",
       " 'including',\n",
       " 'brochure',\n",
       " 'promotional',\n",
       " 'material',\n",
       " 'product',\n",
       " 'partnered',\n",
       " 'graphic',\n",
       " 'designer',\n",
       " 'develop',\n",
       " 'appropriate',\n",
       " 'material',\n",
       " 'branding',\n",
       " 'brochure',\n",
       " 'used',\n",
       " 'tracking',\n",
       " 'reporting',\n",
       " 'stem',\n",
       " 'sale',\n",
       " 'lead',\n",
       " 'appointment',\n",
       " '09',\n",
       " '2009',\n",
       " '10',\n",
       " '2012',\n",
       " 'assistant',\n",
       " 'head',\n",
       " 'teller',\n",
       " 'compan',\n",
       " 'name',\n",
       " 'cit',\n",
       " 'state',\n",
       " 'received',\n",
       " 'internal',\n",
       " 'audit',\n",
       " 'score',\n",
       " '100',\n",
       " 'performed',\n",
       " 'dail',\n",
       " 'monthl',\n",
       " 'audit',\n",
       " 'atm',\n",
       " 'machine',\n",
       " 'teller',\n",
       " 'educated',\n",
       " 'customer',\n",
       " 'variet',\n",
       " 'retail',\n",
       " 'product',\n",
       " 'available',\n",
       " 'credit',\n",
       " 'option',\n",
       " 'consistentl',\n",
       " 'met',\n",
       " 'exceeded',\n",
       " 'quarterl',\n",
       " 'sale',\n",
       " 'goal',\n",
       " 'promoted',\n",
       " 'product',\n",
       " 'service',\n",
       " 'customer',\n",
       " 'maintaining',\n",
       " 'compan',\n",
       " 'brand',\n",
       " 'identit',\n",
       " 'implemented',\n",
       " 'program',\n",
       " 'achieve',\n",
       " 'exceed',\n",
       " 'customer',\n",
       " 'compan',\n",
       " 'participation',\n",
       " 'goal',\n",
       " 'organi',\n",
       " 'ed',\n",
       " 'compan',\n",
       " 'sponsored',\n",
       " 'event',\n",
       " 'campus',\n",
       " 'resulting',\n",
       " 'increased',\n",
       " 'brand',\n",
       " 'awareness',\n",
       " 'coached',\n",
       " 'peer',\n",
       " 'proper',\n",
       " 'use',\n",
       " 'program',\n",
       " 'improve',\n",
       " 'work',\n",
       " 'flow',\n",
       " 'efficienc',\n",
       " 'utili',\n",
       " 'ed',\n",
       " 'product',\n",
       " 'knowledge',\n",
       " 'su',\n",
       " 'essfull',\n",
       " 'sell',\n",
       " 'refer',\n",
       " 'client',\n",
       " 'based',\n",
       " 'individual',\n",
       " 'need',\n",
       " 'promoted',\n",
       " 'marketing',\n",
       " 'grand',\n",
       " 'opening',\n",
       " 'new',\n",
       " 'branch',\n",
       " 'location',\n",
       " 'strengthen',\n",
       " 'compan',\n",
       " 'brand',\n",
       " 'affinit',\n",
       " 'organi',\n",
       " 'ed',\n",
       " 'compan',\n",
       " 'sponsored',\n",
       " 'event',\n",
       " 'resulting',\n",
       " 'increased',\n",
       " 'brand',\n",
       " 'awareness',\n",
       " 'improved',\n",
       " 'sale',\n",
       " 'coached',\n",
       " 'peer',\n",
       " 'proper',\n",
       " 'use',\n",
       " 'program',\n",
       " 'increase',\n",
       " 'work',\n",
       " 'flow',\n",
       " 'efficienc',\n",
       " 'senior',\n",
       " 'producer',\n",
       " '2014',\n",
       " 'shu',\n",
       " 'medium',\n",
       " 'exchange',\n",
       " 'compan',\n",
       " 'name',\n",
       " 'cit',\n",
       " 'state',\n",
       " 'planned',\n",
       " 'executed',\n",
       " 'event',\n",
       " 'focusing',\n",
       " 'connecticut',\n",
       " 'creative',\n",
       " 'corridor',\n",
       " 'growth',\n",
       " 'industr',\n",
       " 'opportunity',\n",
       " 'come',\n",
       " 'development',\n",
       " 'panel',\n",
       " ...]"
      ]
     },
     "execution_count": 56,
     "metadata": {},
     "output_type": "execute_result"
    }
   ],
   "source": [
    "# now we have 24 category variable with its resume data\n",
    "HR"
   ]
  },
  {
   "cell_type": "code",
   "execution_count": 57,
   "id": "3c2934a9",
   "metadata": {},
   "outputs": [
    {
     "data": {
      "image/png": "[encoded data removed]",
      "text/plain": [
       "<Figure size 1440x720 with 1 Axes>"
      ]
     },
     "metadata": {
      "needs_background": "light"
     },
     "output_type": "display_data"
    },
    {
     "data": {
      "image/png": "[encoded data removed]",
      "text/plain": [
       "<Figure size 1440x720 with 1 Axes>"
      ]
     },
     "metadata": {
      "needs_background": "light"
     },
     "output_type": "display_data"
    },
    {
     "data": {
      "image/png": "[encoded data removed]",
      "text/plain": [
       "<Figure size 1440x720 with 1 Axes>"
      ]
     },
     "metadata": {
      "needs_background": "light"
     },
     "output_type": "display_data"
    },
    {
     "data": {
      "image/png": "[encoded data removed]",
      "text/plain": [
       "<Figure size 1440x720 with 1 Axes>"
      ]
     },
     "metadata": {
      "needs_background": "light"
     },
     "output_type": "display_data"
    },
    {
     "data": {
      "image/png": "[encoded data removed]",
      "text/plain": [
       "<Figure size 1440x720 with 1 Axes>"
      ]
     },
     "metadata": {
      "needs_background": "light"
     },
     "output_type": "display_data"
    },
    {
     "data": {
      "image/png": "[encoded data removed]",
      "text/plain": [
       "<Figure size 1440x720 with 1 Axes>"
      ]
     },
     "metadata": {
      "needs_background": "light"
     },
     "output_type": "display_data"
    },
    {
     "data": {
      "image/png": "[encoded data removed]",
      "text/plain": [
       "<Figure size 1440x720 with 1 Axes>"
      ]
     },
     "metadata": {
      "needs_background": "light"
     },
     "output_type": "display_data"
    },
    {
     "data": {
      "image/png": "[encoded data removed]",
      "text/plain": [
       "<Figure size 1440x720 with 1 Axes>"
      ]
     },
     "metadata": {
      "needs_background": "light"
     },
     "output_type": "display_data"
    },
    {
     "data": {
      "image/png": "[encoded data removed]",
      "text/plain": [
       "<Figure size 1440x720 with 1 Axes>"
      ]
     },
     "metadata": {
      "needs_background": "light"
     },
     "output_type": "display_data"
    },
    {
     "data": {
      "image/png": "[encoded data removed]",
      "text/plain": [
       "<Figure size 1440x720 with 1 Axes>"
      ]
     },
     "metadata": {
      "needs_background": "light"
     },
     "output_type": "display_data"
    },
    {
     "data": {
      "image/png": "[encoded data removed]",
      "text/plain": [
       "<Figure size 1440x720 with 1 Axes>"
      ]
     },
     "metadata": {
      "needs_background": "light"
     },
     "output_type": "display_data"
    },
    {
     "data": {
      "image/png": "[encoded data removed]",
      "text/plain": [
       "<Figure size 1440x720 with 1 Axes>"
      ]
     },
     "metadata": {
      "needs_background": "light"
     },
     "output_type": "display_data"
    },
    {
     "data": {
      "image/png": "[encoded data removed]",
      "text/plain": [
       "<Figure size 1440x720 with 1 Axes>"
      ]
     },
     "metadata": {
      "needs_background": "light"
     },
     "output_type": "display_data"
    },
    {
     "data": {
      "image/png": "[encoded data removed]",
      "text/plain": [
       "<Figure size 1440x720 with 1 Axes>"
      ]
     },
     "metadata": {
      "needs_background": "light"
     },
     "output_type": "display_data"
    },
    {
     "data": {
      "image/png": "[encoded data removed]",
      "text/plain": [
       "<Figure size 1440x720 with 1 Axes>"
      ]
     },
     "metadata": {
      "needs_background": "light"
     },
     "output_type": "display_data"
    },
    {
     "data": {
      "image/png": "[encoded data removed]",
      "text/plain": [
       "<Figure size 1440x720 with 1 Axes>"
      ]
     },
     "metadata": {
      "needs_background": "light"
     },
     "output_type": "display_data"
    },
    {
     "data": {
      "image/png": "[encoded data removed]",
      "text/plain": [
       "<Figure size 1440x720 with 1 Axes>"
      ]
     },
     "metadata": {
      "needs_background": "light"
     },
     "output_type": "display_data"
    },
    {
     "data": {
      "image/png": "[encoded data removed]",
      "text/plain": [
       "<Figure size 1440x720 with 1 Axes>"
      ]
     },
     "metadata": {
      "needs_background": "light"
     },
     "output_type": "display_data"
    },
    {
     "data": {
      "image/png": "[encoded data removed]",
      "text/plain": [
       "<Figure size 1440x720 with 1 Axes>"
      ]
     },
     "metadata": {
      "needs_background": "light"
     },
     "output_type": "display_data"
    },
    {
     "data": {
      "image/png": "[encoded data removed]",
      "text/plain": [
       "<Figure size 1440x720 with 1 Axes>"
      ]
     },
     "metadata": {
      "needs_background": "light"
     },
     "output_type": "display_data"
    },
    {
     "data": {
      "image/png": "[encoded data removed]",
      "text/plain": [
       "<Figure size 1440x720 with 1 Axes>"
      ]
     },
     "metadata": {
      "needs_background": "light"
     },
     "output_type": "display_data"
    },
    {
     "data": {
      "image/png": "[encoded data removed]",
      "text/plain": [
       "<Figure size 1440x720 with 1 Axes>"
      ]
     },
     "metadata": {
      "needs_background": "light"
     },
     "output_type": "display_data"
    },
    {
     "data": {
      "image/png": "[encoded data removed]",
      "text/plain": [
       "<Figure size 1440x720 with 1 Axes>"
      ]
     },
     "metadata": {
      "needs_background": "light"
     },
     "output_type": "display_data"
    },
    {
     "data": {
      "image/png": "[encoded data removed]",
      "text/plain": [
       "<Figure size 1440x720 with 1 Axes>"
      ]
     },
     "metadata": {
      "needs_background": "light"
     },
     "output_type": "display_data"
    }
   ],
   "source": [
    "#plot the each category resume frequency data.\n",
    "from nltk import FreqDist\n",
    "# freq_dist = FreqDist(HR)\n",
    "# plt.figure(figsize=(20,10))\n",
    "# freq_dist.plot(50)\n",
    "for category in total_resume_category:\n",
    "    freq_dist = FreqDist(globals()[category])\n",
    "    plt.figure(figsize=(20,10))\n",
    "    freq_dist.plot(50)\n",
    "    # plt.savefig(\"fd_\"+category+\".png\")\n",
    "#     plt.plot(freq_dist)\n",
    "#     plt.title(category)\n",
    "#     plt.xlabel(category+\"resume data\")"
   ]
  },
  {
   "cell_type": "code",
   "execution_count": 58,
   "id": "df38aa84",
   "metadata": {},
   "outputs": [
    {
     "name": "stdout",
     "output_type": "stream",
     "text": [
      "[1, 2, 3, 4, 2, 3, 4, 5, 6]\n"
     ]
    }
   ],
   "source": [
    "l=[1,2,3,4]\n",
    "l2 = [2,3,4,5,6]\n",
    "print(l+l2)"
   ]
  },
  {
   "cell_type": "code",
   "execution_count": 59,
   "id": "79fbb95d",
   "metadata": {},
   "outputs": [],
   "source": [
    "\n",
    "import joblib\n",
    "data = joblib.load(\"E:\\Virtual_room\\project\\AIrecruiter\\data\\processed\\DESIGNER.joblib\")"
   ]
  },
  {
   "cell_type": "code",
   "execution_count": 60,
   "id": "02f7e557",
   "metadata": {},
   "outputs": [
    {
     "data": {
      "text/plain": [
       "[]"
      ]
     },
     "execution_count": 60,
     "metadata": {},
     "output_type": "execute_result"
    }
   ],
   "source": [
    "data"
   ]
  },
  {
   "cell_type": "code",
   "execution_count": 61,
   "id": "28af2312",
   "metadata": {},
   "outputs": [
    {
     "data": {
      "text/plain": [
       "[1, 2, 3, 4]"
      ]
     },
     "execution_count": 61,
     "metadata": {},
     "output_type": "execute_result"
    }
   ],
   "source": [
    "l"
   ]
  },
  {
   "cell_type": "code",
   "execution_count": null,
   "id": "747a13ad",
   "metadata": {},
   "outputs": [],
   "source": []
  }
 ],
 "metadata": {
  "kernelspec": {
   "display_name": "Python 3 (ipykernel)",
   "language": "python",
   "name": "python3"
  },
  "language_info": {
   "codemirror_mode": {
    "name": "ipython",
    "version": 3
   },
   "file_extension": ".py",
   "mimetype": "text/x-python",
   "name": "python",
   "nbconvert_exporter": "python",
   "pygments_lexer": "ipython3",
   "version": "3.8.5"
  }
 },
 "nbformat": 4,
 "nbformat_minor": 5
}
